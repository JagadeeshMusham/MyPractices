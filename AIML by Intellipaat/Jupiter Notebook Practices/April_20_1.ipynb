{
 "cells": [
  {
   "cell_type": "code",
   "execution_count": 22,
   "id": "09847c61-2d9e-427b-ac4f-a418bc7dcd48",
   "metadata": {},
   "outputs": [],
   "source": [
    "import pandas as pd"
   ]
  },
  {
   "cell_type": "code",
   "execution_count": 8,
   "id": "1e3b668b-62f6-4cdb-af5e-d13b0d2e632e",
   "metadata": {},
   "outputs": [
    {
     "data": {
      "text/plain": [
       "'\\n    Given a sample list, tuple and a set with elements as numbers from 1-10. Convert each of the data types into a pandas series. \\n    Create a separate list of index values for the series.\\n'"
      ]
     },
     "execution_count": 8,
     "metadata": {},
     "output_type": "execute_result"
    }
   ],
   "source": [
    "'''\n",
    "    Given a sample list, tuple and a set with elements as numbers from 1-10. Convert each of the data types into a pandas series. \n",
    "    Create a separate list of index values for the series.\n",
    "'''"
   ]
  },
  {
   "cell_type": "code",
   "execution_count": 23,
   "id": "9159dbd6-c11e-49d8-901d-c0308d5815af",
   "metadata": {},
   "outputs": [],
   "source": [
    "my_list = [1,2,3,4,5,6,7,8,9,10]\n",
    "my_tuple = (1,2,3,4,5,6,7,8,9,10)\n",
    "my_set = {1,2,3,4,5,6,7,8,9,10}"
   ]
  },
  {
   "cell_type": "code",
   "execution_count": 24,
   "id": "f0b98680-ff74-4c7f-b071-c98379f7b04d",
   "metadata": {},
   "outputs": [],
   "source": [
    "#pd.series\n",
    "\n",
    "s1 = pd.Series(my_list, index=['a','b','c','d','e','f','g','h','i','j'])\n",
    "\n",
    "s2 = pd.Series(my_tuple)\n",
    "\n",
    "s3 = pd.Series(sorted(my_set))   #set is unordered collection so we have to convert set to ordered collection by using the sorted method"
   ]
  },
  {
   "cell_type": "code",
   "execution_count": 25,
   "id": "4fe5feb5-b06a-4895-840c-7dd16d3d21e4",
   "metadata": {},
   "outputs": [
    {
     "name": "stdout",
     "output_type": "stream",
     "text": [
      "a     1\n",
      "b     2\n",
      "c     3\n",
      "d     4\n",
      "e     5\n",
      "f     6\n",
      "g     7\n",
      "h     8\n",
      "i     9\n",
      "j    10\n",
      "dtype: int64\n",
      "0     1\n",
      "1     2\n",
      "2     3\n",
      "3     4\n",
      "4     5\n",
      "5     6\n",
      "6     7\n",
      "7     8\n",
      "8     9\n",
      "9    10\n",
      "dtype: int64\n",
      "0     1\n",
      "1     2\n",
      "2     3\n",
      "3     4\n",
      "4     5\n",
      "5     6\n",
      "6     7\n",
      "7     8\n",
      "8     9\n",
      "9    10\n",
      "dtype: int64\n"
     ]
    }
   ],
   "source": [
    "print(s1)\n",
    "\n",
    "print(s2)\n",
    "\n",
    "print(s3)"
   ]
  },
  {
   "cell_type": "code",
   "execution_count": 26,
   "id": "97414421-2e2d-4410-a4d5-3104730ec05c",
   "metadata": {},
   "outputs": [
    {
     "data": {
      "text/plain": [
       "'\\nCreate a python dictionary with three key value pairs. Keep the keys as the first names, and the respective last names as values in the dictionary.\\nUse the dictionary to create a pandas series.\\n'"
      ]
     },
     "execution_count": 26,
     "metadata": {},
     "output_type": "execute_result"
    }
   ],
   "source": [
    "'''\n",
    "Create a python dictionary with three key value pairs. Keep the keys as the first names, and the respective last names as values in the dictionary.\n",
    "Use the dictionary to create a pandas series.\n",
    "'''"
   ]
  },
  {
   "cell_type": "code",
   "execution_count": 27,
   "id": "6256fe17-4c06-41d0-998a-0c7ab0131ce1",
   "metadata": {},
   "outputs": [],
   "source": [
    "my_dictionary = {\"sachin\" : \"tendulkar\", \"rahul\" : \"dravid\", \"sourav\" : \"ganguly\"}"
   ]
  },
  {
   "cell_type": "code",
   "execution_count": 28,
   "id": "5cca84dd-5b86-4434-9463-7d731f4b8056",
   "metadata": {},
   "outputs": [
    {
     "data": {
      "text/plain": [
       "sachin    tendulkar\n",
       "rahul        dravid\n",
       "sourav      ganguly\n",
       "dtype: object"
      ]
     },
     "execution_count": 28,
     "metadata": {},
     "output_type": "execute_result"
    }
   ],
   "source": [
    "s4 = pd.Series(my_dictionary)\n",
    "s4"
   ]
  },
  {
   "cell_type": "code",
   "execution_count": 17,
   "id": "67211816-c2a9-4822-9a42-941ede672c75",
   "metadata": {},
   "outputs": [
    {
     "data": {
      "text/plain": [
       "'\\nCreate a pandas series, with the elements as numbers from 1-10. Use the index values starting from 0-10. For the above series:\\na. Convert it to a list.\\nb. Convert it to a dictionary. \\nc. Convert it to a tuple.\\nd. Convert it to a set.\\n'"
      ]
     },
     "execution_count": 17,
     "metadata": {},
     "output_type": "execute_result"
    }
   ],
   "source": [
    "'''\n",
    "Create a pandas series, with the elements as numbers from 1-10. Use the index values starting from 0-10. For the above series:\n",
    "a. Convert it to a list.\n",
    "b. Convert it to a dictionary. \n",
    "c. Convert it to a tuple.\n",
    "d. Convert it to a set.\n",
    "'''"
   ]
  },
  {
   "cell_type": "code",
   "execution_count": 29,
   "id": "917da6c5-0e14-4d34-bc34-fc8fd009d6f0",
   "metadata": {},
   "outputs": [
    {
     "data": {
      "text/plain": [
       "0     1\n",
       "1     2\n",
       "2     3\n",
       "3     4\n",
       "4     5\n",
       "5     6\n",
       "6     7\n",
       "7     8\n",
       "8     9\n",
       "9    10\n",
       "dtype: int64"
      ]
     },
     "execution_count": 29,
     "metadata": {},
     "output_type": "execute_result"
    }
   ],
   "source": [
    "my_series = pd.Series([1,2,3,4,5,6,7,8,9,10])\n",
    "my_series"
   ]
  },
  {
   "cell_type": "code",
   "execution_count": 37,
   "id": "d9eef6f2-5071-49b7-ba0c-84575ee5dc8a",
   "metadata": {},
   "outputs": [
    {
     "ename": "AttributeError",
     "evalue": "'Series' object has no attribute 'to_set'",
     "output_type": "error",
     "traceback": [
      "\u001b[0;31m---------------------------------------------------------------------------\u001b[0m",
      "\u001b[0;31mAttributeError\u001b[0m                            Traceback (most recent call last)",
      "\u001b[0;32m/var/folders/_s/h6ys2j094wj5drr2j71skg540000gq/T/ipykernel_27247/739416177.py\u001b[0m in \u001b[0;36m?\u001b[0;34m()\u001b[0m\n\u001b[1;32m      4\u001b[0m \u001b[0;34m\u001b[0m\u001b[0m\n\u001b[1;32m      5\u001b[0m \u001b[0;31m#my_tuple = my_series.to_tuple()\u001b[0m\u001b[0;34m\u001b[0m\u001b[0;34m\u001b[0m\u001b[0m\n\u001b[1;32m      6\u001b[0m \u001b[0;31m#my_tuple = tuple(my_series)\u001b[0m\u001b[0;34m\u001b[0m\u001b[0;34m\u001b[0m\u001b[0m\n\u001b[1;32m      7\u001b[0m \u001b[0;31m#my_tuple = tuple(my_series)  #have to work on this\u001b[0m\u001b[0;34m\u001b[0m\u001b[0;34m\u001b[0m\u001b[0m\n\u001b[0;32m----> 8\u001b[0;31m \u001b[0mmy_set1\u001b[0m \u001b[0;34m=\u001b[0m \u001b[0mseries\u001b[0m\u001b[0;34m.\u001b[0m\u001b[0mto_set\u001b[0m\u001b[0;34m(\u001b[0m\u001b[0mmy_series\u001b[0m\u001b[0;34m)\u001b[0m\u001b[0;34m\u001b[0m\u001b[0;34m\u001b[0m\u001b[0m\n\u001b[0m\u001b[1;32m      9\u001b[0m \u001b[0;34m\u001b[0m\u001b[0m\n\u001b[1;32m     10\u001b[0m \u001b[0;31m#series.to_set\u001b[0m\u001b[0;34m\u001b[0m\u001b[0;34m\u001b[0m\u001b[0m\n",
      "\u001b[0;32m/opt/anaconda3/lib/python3.11/site-packages/pandas/core/generic.py\u001b[0m in \u001b[0;36m?\u001b[0;34m(self, name)\u001b[0m\n\u001b[1;32m   6200\u001b[0m             \u001b[0;32mand\u001b[0m \u001b[0mname\u001b[0m \u001b[0;32mnot\u001b[0m \u001b[0;32min\u001b[0m \u001b[0mself\u001b[0m\u001b[0;34m.\u001b[0m\u001b[0m_accessors\u001b[0m\u001b[0;34m\u001b[0m\u001b[0;34m\u001b[0m\u001b[0m\n\u001b[1;32m   6201\u001b[0m             \u001b[0;32mand\u001b[0m \u001b[0mself\u001b[0m\u001b[0;34m.\u001b[0m\u001b[0m_info_axis\u001b[0m\u001b[0;34m.\u001b[0m\u001b[0m_can_hold_identifiers_and_holds_name\u001b[0m\u001b[0;34m(\u001b[0m\u001b[0mname\u001b[0m\u001b[0;34m)\u001b[0m\u001b[0;34m\u001b[0m\u001b[0;34m\u001b[0m\u001b[0m\n\u001b[1;32m   6202\u001b[0m         ):\n\u001b[1;32m   6203\u001b[0m             \u001b[0;32mreturn\u001b[0m \u001b[0mself\u001b[0m\u001b[0;34m[\u001b[0m\u001b[0mname\u001b[0m\u001b[0;34m]\u001b[0m\u001b[0;34m\u001b[0m\u001b[0;34m\u001b[0m\u001b[0m\n\u001b[0;32m-> 6204\u001b[0;31m         \u001b[0;32mreturn\u001b[0m \u001b[0mobject\u001b[0m\u001b[0;34m.\u001b[0m\u001b[0m__getattribute__\u001b[0m\u001b[0;34m(\u001b[0m\u001b[0mself\u001b[0m\u001b[0;34m,\u001b[0m \u001b[0mname\u001b[0m\u001b[0;34m)\u001b[0m\u001b[0;34m\u001b[0m\u001b[0;34m\u001b[0m\u001b[0m\n\u001b[0m",
      "\u001b[0;31mAttributeError\u001b[0m: 'Series' object has no attribute 'to_set'"
     ]
    }
   ],
   "source": [
    "#my_list = my_series.to_list()\n",
    "#my_dictionary = my_series.to_dict()\n",
    "\n",
    "\n",
    "#my_tuple = my_series.to_tuple()\n",
    "#my_tuple = tuple(my_series)\n",
    "#my_tuple = tuple(my_series)  #have to work on this\n",
    "my_set1 = series.to_set(my_series)\n",
    "\n",
    "#series.to_set"
   ]
  },
  {
   "cell_type": "code",
   "execution_count": null,
   "id": "ae05a643-1268-49bc-a44a-36bc8ca56b2d",
   "metadata": {},
   "outputs": [],
   "source": [
    "'''\n",
    "Create a sample pandas series with x integer elements. Perform the following operations on the same:\n",
    "a. Print the first 5 elements of the series\n",
    "b. Print the last 5 elements of the series\n",
    "c. Insert an integer value ‘50’ at the index 5.\n",
    "d. Update the last element in the series with the value 100.\n",
    "e. Delete the first element from the series.\n",
    "Note: The index values must not be affected by the operations and should be uniform for the series after the last operation.\n",
    "'''"
   ]
  },
  {
   "cell_type": "code",
   "execution_count": null,
   "id": "a2464205-7fcb-40e2-8edb-49ee9a530d74",
   "metadata": {},
   "outputs": [],
   "source": [
    "series = pd.Series(list(range(1, 10)))"
   ]
  },
  {
   "cell_type": "code",
   "execution_count": null,
   "id": "e20f5f4e-2d6d-483b-9c74-78db91f6ec99",
   "metadata": {},
   "outputs": [],
   "source": []
  }
 ],
 "metadata": {
  "kernelspec": {
   "display_name": "Python 3 (ipykernel)",
   "language": "python",
   "name": "python3"
  },
  "language_info": {
   "codemirror_mode": {
    "name": "ipython",
    "version": 3
   },
   "file_extension": ".py",
   "mimetype": "text/x-python",
   "name": "python",
   "nbconvert_exporter": "python",
   "pygments_lexer": "ipython3",
   "version": "3.11.7"
  }
 },
 "nbformat": 4,
 "nbformat_minor": 5
}
