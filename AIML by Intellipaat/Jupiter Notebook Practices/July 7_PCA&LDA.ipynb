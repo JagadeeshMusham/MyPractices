{
 "cells": [
  {
   "cell_type": "code",
   "execution_count": 1,
   "id": "b8eee6ee-e4bf-49de-b4fa-d891321c1a32",
   "metadata": {},
   "outputs": [],
   "source": [
    "# Settings the warnings to be ignored \n",
    "\n",
    "import warnings \n",
    "warnings.filterwarnings('ignore') "
   ]
  },
  {
   "cell_type": "code",
   "execution_count": 2,
   "id": "1e380753-6157-4052-9a0b-e343c3065fbc",
   "metadata": {},
   "outputs": [],
   "source": [
    "# Import 'pandas' for working with data frames\n",
    "import pandas as pd\n",
    "\n",
    "import numpy as np\n",
    "\n",
    "from sklearn.linear_model import LogisticRegression\n",
    "from sklearn.model_selection import train_test_split\n",
    "\n",
    "from sklearn.metrics import accuracy_score\n"
   ]
  },
  {
   "cell_type": "code",
   "execution_count": 3,
   "id": "dcfba494-07d7-46c9-8368-56bcfbf06baa",
   "metadata": {},
   "outputs": [],
   "source": [
    "data = pd.read_csv(\"nba_final.csv\")"
   ]
  },
  {
   "cell_type": "code",
   "execution_count": 4,
   "id": "62b224d4-3bee-4639-b422-72521910d452",
   "metadata": {},
   "outputs": [
    {
     "data": {
      "text/plain": [
       "Rk              int64\n",
       "Player.x       object\n",
       "Player_ID      object\n",
       "Pos1           object\n",
       "Pos2           object\n",
       "Age             int64\n",
       "Tm             object\n",
       "G               int64\n",
       "GS              int64\n",
       "MP            float64\n",
       "FG            float64\n",
       "FGA           float64\n",
       "FG.           float64\n",
       "X3P           float64\n",
       "X3PA          float64\n",
       "X3P.          float64\n",
       "X2P           float64\n",
       "X2PA          float64\n",
       "X2P.          float64\n",
       "eFG.          float64\n",
       "FT            float64\n",
       "FTA           float64\n",
       "FT.           float64\n",
       "ORB           float64\n",
       "DRB           float64\n",
       "TRB           float64\n",
       "AST           float64\n",
       "STL           float64\n",
       "BLK           float64\n",
       "TOV           float64\n",
       "PF            float64\n",
       "PTS           float64\n",
       "Salary        float64\n",
       "mean_views    float64\n",
       "Season         object\n",
       "Conference     object\n",
       "Role           object\n",
       "Fvot            int64\n",
       "FRank           int64\n",
       "Pvot          float64\n",
       "PRank         float64\n",
       "Mvot          float64\n",
       "MRank         float64\n",
       "Score         float64\n",
       "Play           object\n",
       "dtype: object"
      ]
     },
     "execution_count": 4,
     "metadata": {},
     "output_type": "execute_result"
    }
   ],
   "source": [
    "data.dtypes"
   ]
  },
  {
   "cell_type": "code",
   "execution_count": 5,
   "id": "3b417837-e97b-4f94-a4d7-165047b4a716",
   "metadata": {},
   "outputs": [
    {
     "data": {
      "text/plain": [
       "Rk               0\n",
       "Player.x         0\n",
       "Player_ID        0\n",
       "Pos1             0\n",
       "Pos2          1396\n",
       "Age              0\n",
       "Tm               0\n",
       "G                0\n",
       "GS               0\n",
       "MP               0\n",
       "FG               0\n",
       "FGA              0\n",
       "FG.              4\n",
       "X3P              0\n",
       "X3PA             0\n",
       "X3P.            99\n",
       "X2P              0\n",
       "X2PA             0\n",
       "X2P.            15\n",
       "eFG.             4\n",
       "FT               0\n",
       "FTA              0\n",
       "FT.             47\n",
       "ORB              0\n",
       "DRB              0\n",
       "TRB              0\n",
       "AST              0\n",
       "STL              0\n",
       "BLK              0\n",
       "TOV              0\n",
       "PF               0\n",
       "PTS              0\n",
       "Salary          62\n",
       "mean_views     138\n",
       "Season           0\n",
       "Conference       0\n",
       "Role             0\n",
       "Fvot             0\n",
       "FRank            0\n",
       "Pvot           159\n",
       "PRank          159\n",
       "Mvot           404\n",
       "MRank          404\n",
       "Score            0\n",
       "Play             0\n",
       "dtype: int64"
      ]
     },
     "execution_count": 5,
     "metadata": {},
     "output_type": "execute_result"
    }
   ],
   "source": [
    "data.isnull().sum()"
   ]
  },
  {
   "cell_type": "code",
   "execution_count": 6,
   "id": "ce135d25-081f-4a44-aadf-b4c608202ade",
   "metadata": {},
   "outputs": [
    {
     "data": {
      "text/plain": [
       "0       6\n",
       "1       5\n",
       "2       5\n",
       "3       3\n",
       "4       3\n",
       "       ..\n",
       "1403    1\n",
       "1404    1\n",
       "1405    4\n",
       "1406    1\n",
       "1407    1\n",
       "Length: 1408, dtype: int64"
      ]
     },
     "execution_count": 6,
     "metadata": {},
     "output_type": "execute_result"
    }
   ],
   "source": [
    "# axis = 1 means, it will show number of missing values for each row,\n",
    "data.isnull().sum(axis=1)"
   ]
  },
  {
   "cell_type": "code",
   "execution_count": 7,
   "id": "9f15cf73-652d-46a0-8611-2288910b44e3",
   "metadata": {},
   "outputs": [
    {
     "data": {
      "text/plain": [
       "(1408, 45)"
      ]
     },
     "execution_count": 7,
     "metadata": {},
     "output_type": "execute_result"
    }
   ],
   "source": [
    "data.shape"
   ]
  },
  {
   "cell_type": "markdown",
   "id": "04a02dce-c8a1-4240-a77f-fb68cd6fe2f6",
   "metadata": {},
   "source": [
    "Note: There are two things we can do to solve missing value problem:\n",
    "\n",
    "1. Remove the row or column in which they exists\n",
    "2. We can fill it with most suitable valuessuch as mean, median, and mode and surrounding values of the missing value."
   ]
  },
  {
   "cell_type": "code",
   "execution_count": 8,
   "id": "37afe70a-a15e-49ae-98fc-961980a6cce6",
   "metadata": {},
   "outputs": [],
   "source": [
    "#The column 'Pos2' having more number(i.e., 1396) of null values, hence filling with 'None'\n",
    "data['Pos2'] = data['Pos2'].replace(np.nan, 'None')\n",
    "\n",
    "## Below is also perform same operation as above\n",
    "#data[\"Pos1'].fillna('None')"
   ]
  },
  {
   "cell_type": "markdown",
   "id": "75fb25a2-0379-4e1a-8c61-eb74866f0647",
   "metadata": {},
   "source": [
    "Before filling the missing values for numerical column with mean or median, we need to check for outliers in the column. then it is better to fill it with median as opposed to mean value."
   ]
  },
  {
   "cell_type": "code",
   "execution_count": 9,
   "id": "f0662953-852c-4b01-835b-fb3e13866716",
   "metadata": {},
   "outputs": [
    {
     "data": {
      "text/plain": [
       "0              NaN\n",
       "1        2700000.0\n",
       "2        4351320.0\n",
       "3        2022240.0\n",
       "4        7680965.0\n",
       "           ...    \n",
       "1403     3628920.0\n",
       "1404    19500000.0\n",
       "1405       77250.0\n",
       "1406     2393887.0\n",
       "1407     2615160.0\n",
       "Name: Salary, Length: 1408, dtype: float64"
      ]
     },
     "execution_count": 9,
     "metadata": {},
     "output_type": "execute_result"
    }
   ],
   "source": [
    "data['Salary']"
   ]
  },
  {
   "cell_type": "code",
   "execution_count": 10,
   "id": "d7f7dbf3-b7af-4e71-8678-40f9ce2c3775",
   "metadata": {},
   "outputs": [
    {
     "data": {
      "text/plain": [
       "<bound method NDFrame.describe of        Rk         Player.x  Player_ID Pos1  Pos2  Age   Tm   G  GS    MP  ...  \\\n",
       "0     170     A.J. Hammons  hammoaj01    C  None   24  DAL  22   0   7.4  ...   \n",
       "1      58     Aaron Brooks  brookaa01   PG  None   32  IND  65   0  13.8  ...   \n",
       "2     157     Aaron Gordon  gordoaa01   SF  None   21  ORL  80  72  28.7  ...   \n",
       "3     352    Adreian Payne  paynead01   PF  None   25  MIN  18   0   7.5  ...   \n",
       "4      10  Al-Farouq Aminu  aminual01   PF  None   26  POR  61  25  29.1  ...   \n",
       "...   ...              ...        ...  ...   ...  ...  ...  ..  ..   ...  ...   \n",
       "1403  109     Zach Collins  colliza01    C  None   21  POR  77   0  17.6  ...   \n",
       "1404  294      Zach LaVine  lavinza01   SG  None   23  CHI  63  62  34.5  ...   \n",
       "1405  308      Zach Lofton  loftoza01   SG  None   26  DET   1   0   4.0  ...   \n",
       "1406  393    Zaza Pachulia  pachuza01    C  None   34  DET  68   3  12.9  ...   \n",
       "1407  457     Zhaire Smith  smithzh01   SG  None   19  PHI   6   2  18.5  ...   \n",
       "\n",
       "      Conference   Role    Fvot  FRank  Pvot  PRank  Mvot  MRank  Score  Play  \n",
       "0           West  Front     786    123   NaN    NaN   NaN    NaN   83.5    No  \n",
       "1            Est   Back    2474     64   NaN    NaN   NaN    NaN   48.2    No  \n",
       "2            Est  Front   22774     29   NaN    NaN   NaN    NaN   40.0    No  \n",
       "3           West  Front     861    120   1.0   52.0   NaN    NaN   75.5    No  \n",
       "4           West  Front    4971     69   7.0   23.0   NaN    NaN   42.8    No  \n",
       "...          ...    ...     ...    ...   ...    ...   ...    ...    ...   ...  \n",
       "1403        West  Front   16287     74   1.0   52.0   0.0    8.0   86.8    No  \n",
       "1404         Est   Back  519746      7  17.0    8.0   0.0    8.0   36.5    No  \n",
       "1405         Est   Back     136    114   0.0   61.0   0.0    8.0  132.2    No  \n",
       "1406         Est  Front   21525     50   2.0   41.0   0.0    7.0   69.8    No  \n",
       "1407         Est   Back    3985     91   0.0   61.0   0.0    8.0  120.8    No  \n",
       "\n",
       "[1408 rows x 45 columns]>"
      ]
     },
     "execution_count": 10,
     "metadata": {},
     "output_type": "execute_result"
    }
   ],
   "source": [
    "#following will show the outliers, observe the columns pvot and mvot\n",
    "data.describe"
   ]
  },
  {
   "cell_type": "code",
   "execution_count": 11,
   "id": "8b01c3b6-5015-4a46-8501-9d84da1c036f",
   "metadata": {},
   "outputs": [],
   "source": [
    "data['Salary'] = data['Salary'].fillna(data['Salary'].median())"
   ]
  },
  {
   "cell_type": "code",
   "execution_count": 12,
   "id": "b93fdffc-3d4b-4292-b3e4-a45ab6752546",
   "metadata": {},
   "outputs": [
    {
     "data": {
      "text/plain": [
       "Rk              0\n",
       "Player.x        0\n",
       "Player_ID       0\n",
       "Pos1            0\n",
       "Pos2            0\n",
       "Age             0\n",
       "Tm              0\n",
       "G               0\n",
       "GS              0\n",
       "MP              0\n",
       "FG              0\n",
       "FGA             0\n",
       "FG.             4\n",
       "X3P             0\n",
       "X3PA            0\n",
       "X3P.           99\n",
       "X2P             0\n",
       "X2PA            0\n",
       "X2P.           15\n",
       "eFG.            4\n",
       "FT              0\n",
       "FTA             0\n",
       "FT.            47\n",
       "ORB             0\n",
       "DRB             0\n",
       "TRB             0\n",
       "AST             0\n",
       "STL             0\n",
       "BLK             0\n",
       "TOV             0\n",
       "PF              0\n",
       "PTS             0\n",
       "Salary          0\n",
       "mean_views    138\n",
       "Season          0\n",
       "Conference      0\n",
       "Role            0\n",
       "Fvot            0\n",
       "FRank           0\n",
       "Pvot          159\n",
       "PRank         159\n",
       "Mvot          404\n",
       "MRank         404\n",
       "Score           0\n",
       "Play            0\n",
       "dtype: int64"
      ]
     },
     "execution_count": 12,
     "metadata": {},
     "output_type": "execute_result"
    }
   ],
   "source": [
    "data.isnull().sum()"
   ]
  },
  {
   "cell_type": "code",
   "execution_count": 13,
   "id": "8f689c42-3c8e-496d-9c27-a16b116e7b81",
   "metadata": {},
   "outputs": [
    {
     "data": {
      "text/plain": [
       "<bound method NDFrame.describe of        Rk         Player.x  Player_ID Pos1  Pos2  Age   Tm   G  GS    MP  ...  \\\n",
       "0     170     A.J. Hammons  hammoaj01    C  None   24  DAL  22   0   7.4  ...   \n",
       "1      58     Aaron Brooks  brookaa01   PG  None   32  IND  65   0  13.8  ...   \n",
       "2     157     Aaron Gordon  gordoaa01   SF  None   21  ORL  80  72  28.7  ...   \n",
       "3     352    Adreian Payne  paynead01   PF  None   25  MIN  18   0   7.5  ...   \n",
       "4      10  Al-Farouq Aminu  aminual01   PF  None   26  POR  61  25  29.1  ...   \n",
       "...   ...              ...        ...  ...   ...  ...  ...  ..  ..   ...  ...   \n",
       "1403  109     Zach Collins  colliza01    C  None   21  POR  77   0  17.6  ...   \n",
       "1404  294      Zach LaVine  lavinza01   SG  None   23  CHI  63  62  34.5  ...   \n",
       "1405  308      Zach Lofton  loftoza01   SG  None   26  DET   1   0   4.0  ...   \n",
       "1406  393    Zaza Pachulia  pachuza01    C  None   34  DET  68   3  12.9  ...   \n",
       "1407  457     Zhaire Smith  smithzh01   SG  None   19  PHI   6   2  18.5  ...   \n",
       "\n",
       "      Conference   Role    Fvot  FRank  Pvot  PRank  Mvot  MRank  Score  Play  \n",
       "0           West  Front     786    123   NaN    NaN   NaN    NaN   83.5    No  \n",
       "1            Est   Back    2474     64   NaN    NaN   NaN    NaN   48.2    No  \n",
       "2            Est  Front   22774     29   NaN    NaN   NaN    NaN   40.0    No  \n",
       "3           West  Front     861    120   1.0   52.0   NaN    NaN   75.5    No  \n",
       "4           West  Front    4971     69   7.0   23.0   NaN    NaN   42.8    No  \n",
       "...          ...    ...     ...    ...   ...    ...   ...    ...    ...   ...  \n",
       "1403        West  Front   16287     74   1.0   52.0   0.0    8.0   86.8    No  \n",
       "1404         Est   Back  519746      7  17.0    8.0   0.0    8.0   36.5    No  \n",
       "1405         Est   Back     136    114   0.0   61.0   0.0    8.0  132.2    No  \n",
       "1406         Est  Front   21525     50   2.0   41.0   0.0    7.0   69.8    No  \n",
       "1407         Est   Back    3985     91   0.0   61.0   0.0    8.0  120.8    No  \n",
       "\n",
       "[1408 rows x 45 columns]>"
      ]
     },
     "execution_count": 13,
     "metadata": {},
     "output_type": "execute_result"
    }
   ],
   "source": [
    "data.describe"
   ]
  },
  {
   "cell_type": "code",
   "execution_count": 14,
   "id": "ab0d801d-b4fa-409f-b343-106e90a661cb",
   "metadata": {},
   "outputs": [],
   "source": [
    "#filling other null values with 0\n",
    "data = data.fillna(0)"
   ]
  },
  {
   "cell_type": "code",
   "execution_count": 15,
   "id": "0cba2910-204a-46c2-9266-112ddfb6a54a",
   "metadata": {},
   "outputs": [],
   "source": [
    "# Dropping few columns which are not important for prediction \n",
    "data.drop(columns=['Player.x', 'Player_ID'], inplace = True)"
   ]
  },
  {
   "cell_type": "code",
   "execution_count": 16,
   "id": "e8a1ad72-20be-44c8-8e44-24d7c4e6b24a",
   "metadata": {},
   "outputs": [
    {
     "data": {
      "text/plain": [
       "0"
      ]
     },
     "execution_count": 16,
     "metadata": {},
     "output_type": "execute_result"
    }
   ],
   "source": [
    "data.duplicated().sum()"
   ]
  },
  {
   "cell_type": "code",
   "execution_count": 17,
   "id": "27ae3875-7a0b-43f7-b702-f9ee23d3233b",
   "metadata": {},
   "outputs": [],
   "source": [
    "data.drop_duplicates(inplace=True)"
   ]
  },
  {
   "cell_type": "code",
   "execution_count": 18,
   "id": "44fd1861-e417-4cde-aebf-d7f587b1bc27",
   "metadata": {},
   "outputs": [
    {
     "data": {
      "text/html": [
       "<div>\n",
       "<style scoped>\n",
       "    .dataframe tbody tr th:only-of-type {\n",
       "        vertical-align: middle;\n",
       "    }\n",
       "\n",
       "    .dataframe tbody tr th {\n",
       "        vertical-align: top;\n",
       "    }\n",
       "\n",
       "    .dataframe thead th {\n",
       "        text-align: right;\n",
       "    }\n",
       "</style>\n",
       "<table border=\"1\" class=\"dataframe\">\n",
       "  <thead>\n",
       "    <tr style=\"text-align: right;\">\n",
       "      <th></th>\n",
       "      <th>Pos1</th>\n",
       "      <th>Pos2</th>\n",
       "      <th>Tm</th>\n",
       "      <th>Season</th>\n",
       "      <th>Conference</th>\n",
       "      <th>Role</th>\n",
       "      <th>Play</th>\n",
       "    </tr>\n",
       "  </thead>\n",
       "  <tbody>\n",
       "    <tr>\n",
       "      <th>0</th>\n",
       "      <td>C</td>\n",
       "      <td>None</td>\n",
       "      <td>DAL</td>\n",
       "      <td>2016-17</td>\n",
       "      <td>West</td>\n",
       "      <td>Front</td>\n",
       "      <td>No</td>\n",
       "    </tr>\n",
       "    <tr>\n",
       "      <th>1</th>\n",
       "      <td>PG</td>\n",
       "      <td>None</td>\n",
       "      <td>IND</td>\n",
       "      <td>2016-17</td>\n",
       "      <td>Est</td>\n",
       "      <td>Back</td>\n",
       "      <td>No</td>\n",
       "    </tr>\n",
       "    <tr>\n",
       "      <th>2</th>\n",
       "      <td>SF</td>\n",
       "      <td>None</td>\n",
       "      <td>ORL</td>\n",
       "      <td>2016-17</td>\n",
       "      <td>Est</td>\n",
       "      <td>Front</td>\n",
       "      <td>No</td>\n",
       "    </tr>\n",
       "    <tr>\n",
       "      <th>3</th>\n",
       "      <td>PF</td>\n",
       "      <td>None</td>\n",
       "      <td>MIN</td>\n",
       "      <td>2016-17</td>\n",
       "      <td>West</td>\n",
       "      <td>Front</td>\n",
       "      <td>No</td>\n",
       "    </tr>\n",
       "    <tr>\n",
       "      <th>4</th>\n",
       "      <td>PF</td>\n",
       "      <td>None</td>\n",
       "      <td>POR</td>\n",
       "      <td>2016-17</td>\n",
       "      <td>West</td>\n",
       "      <td>Front</td>\n",
       "      <td>No</td>\n",
       "    </tr>\n",
       "    <tr>\n",
       "      <th>...</th>\n",
       "      <td>...</td>\n",
       "      <td>...</td>\n",
       "      <td>...</td>\n",
       "      <td>...</td>\n",
       "      <td>...</td>\n",
       "      <td>...</td>\n",
       "      <td>...</td>\n",
       "    </tr>\n",
       "    <tr>\n",
       "      <th>1403</th>\n",
       "      <td>C</td>\n",
       "      <td>None</td>\n",
       "      <td>POR</td>\n",
       "      <td>2018-19</td>\n",
       "      <td>West</td>\n",
       "      <td>Front</td>\n",
       "      <td>No</td>\n",
       "    </tr>\n",
       "    <tr>\n",
       "      <th>1404</th>\n",
       "      <td>SG</td>\n",
       "      <td>None</td>\n",
       "      <td>CHI</td>\n",
       "      <td>2018-19</td>\n",
       "      <td>Est</td>\n",
       "      <td>Back</td>\n",
       "      <td>No</td>\n",
       "    </tr>\n",
       "    <tr>\n",
       "      <th>1405</th>\n",
       "      <td>SG</td>\n",
       "      <td>None</td>\n",
       "      <td>DET</td>\n",
       "      <td>2018-19</td>\n",
       "      <td>Est</td>\n",
       "      <td>Back</td>\n",
       "      <td>No</td>\n",
       "    </tr>\n",
       "    <tr>\n",
       "      <th>1406</th>\n",
       "      <td>C</td>\n",
       "      <td>None</td>\n",
       "      <td>DET</td>\n",
       "      <td>2018-19</td>\n",
       "      <td>Est</td>\n",
       "      <td>Front</td>\n",
       "      <td>No</td>\n",
       "    </tr>\n",
       "    <tr>\n",
       "      <th>1407</th>\n",
       "      <td>SG</td>\n",
       "      <td>None</td>\n",
       "      <td>PHI</td>\n",
       "      <td>2018-19</td>\n",
       "      <td>Est</td>\n",
       "      <td>Back</td>\n",
       "      <td>No</td>\n",
       "    </tr>\n",
       "  </tbody>\n",
       "</table>\n",
       "<p>1408 rows × 7 columns</p>\n",
       "</div>"
      ],
      "text/plain": [
       "     Pos1  Pos2   Tm   Season Conference   Role Play\n",
       "0       C  None  DAL  2016-17       West  Front   No\n",
       "1      PG  None  IND  2016-17        Est   Back   No\n",
       "2      SF  None  ORL  2016-17        Est  Front   No\n",
       "3      PF  None  MIN  2016-17       West  Front   No\n",
       "4      PF  None  POR  2016-17       West  Front   No\n",
       "...   ...   ...  ...      ...        ...    ...  ...\n",
       "1403    C  None  POR  2018-19       West  Front   No\n",
       "1404   SG  None  CHI  2018-19        Est   Back   No\n",
       "1405   SG  None  DET  2018-19        Est   Back   No\n",
       "1406    C  None  DET  2018-19        Est  Front   No\n",
       "1407   SG  None  PHI  2018-19        Est   Back   No\n",
       "\n",
       "[1408 rows x 7 columns]"
      ]
     },
     "execution_count": 18,
     "metadata": {},
     "output_type": "execute_result"
    }
   ],
   "source": [
    "#Print all the column which have 'object' have dtype\n",
    "data.select_dtypes('object')"
   ]
  },
  {
   "cell_type": "code",
   "execution_count": 19,
   "id": "789aea18-bbd9-4e5a-9547-201c7e4969b1",
   "metadata": {},
   "outputs": [
    {
     "data": {
      "text/plain": [
       "Index(['Pos1', 'Pos2', 'Tm', 'Season', 'Conference', 'Role', 'Play'], dtype='object')"
      ]
     },
     "execution_count": 19,
     "metadata": {},
     "output_type": "execute_result"
    }
   ],
   "source": [
    "#To get the column names of object data type\n",
    "data.select_dtypes('object').columns"
   ]
  },
  {
   "cell_type": "code",
   "execution_count": 20,
   "id": "15516bbc-1659-4103-a43a-cd70805721f7",
   "metadata": {},
   "outputs": [
    {
     "data": {
      "text/plain": [
       "Index(['Pos1', 'Pos2', 'Tm', 'Season', 'Conference', 'Role', 'Play'], dtype='object')"
      ]
     },
     "execution_count": 20,
     "metadata": {},
     "output_type": "execute_result"
    }
   ],
   "source": [
    "cat_cols = data.select_dtypes('object').columns\n",
    "cat_cols"
   ]
  },
  {
   "cell_type": "markdown",
   "id": "5b7744ea-c869-46b1-aa6a-d87f8d64cae4",
   "metadata": {},
   "source": [
    "#### Encoding of the object Columns"
   ]
  },
  {
   "cell_type": "code",
   "execution_count": 21,
   "id": "6e41865e-0b26-4d02-8839-d3d23f6120a4",
   "metadata": {},
   "outputs": [],
   "source": [
    "from sklearn.preprocessing import LabelEncoder\n",
    "\n",
    "le = LabelEncoder()"
   ]
  },
  {
   "cell_type": "code",
   "execution_count": 22,
   "id": "ccb30017-d992-48c7-8410-72ac4d959787",
   "metadata": {},
   "outputs": [],
   "source": [
    "for col in cat_cols:\n",
    "    data[col] = le.fit_transform(data[col])"
   ]
  },
  {
   "cell_type": "markdown",
   "id": "23e8dd49-a99c-49b6-aa55-0e4b0f0b8c7f",
   "metadata": {},
   "source": [
    "Note: in the above line we used fit_transform method, where fit learns the number of categories present in any categorical/object column, then transform is responsible for finally encoding the text values into 0/1 type of numbers."
   ]
  },
  {
   "cell_type": "code",
   "execution_count": 52,
   "id": "738c1930-02a8-4a95-a154-4141fe5ec7c8",
   "metadata": {},
   "outputs": [
    {
     "data": {
      "text/plain": [
       "Play\n",
       "0    1335\n",
       "1      73\n",
       "Name: count, dtype: int64"
      ]
     },
     "execution_count": 52,
     "metadata": {},
     "output_type": "execute_result"
    }
   ],
   "source": [
    "data['Play'].value_counts()"
   ]
  },
  {
   "cell_type": "code",
   "execution_count": 53,
   "id": "5ecdd9c5-3a34-4909-9923-e9ead04dc58a",
   "metadata": {},
   "outputs": [],
   "source": [
    "## Above results that the data is in imbalance format"
   ]
  },
  {
   "cell_type": "markdown",
   "id": "5617c697-3bc2-40f2-bfd4-060cc4b76861",
   "metadata": {},
   "source": [
    "## Machine Learning Process"
   ]
  },
  {
   "cell_type": "code",
   "execution_count": 23,
   "id": "3e802644-26af-43f7-97aa-a8c40500de99",
   "metadata": {},
   "outputs": [],
   "source": [
    "X = data.drop(columns = 'Play')\n",
    "y = data['Play']"
   ]
  },
  {
   "cell_type": "markdown",
   "id": "f60bac71-64e0-4a77-8c89-039a00cd1696",
   "metadata": {},
   "source": [
    "### Scaling of the data is very important in case of PCA and LDA"
   ]
  },
  {
   "cell_type": "code",
   "execution_count": 24,
   "id": "52c2a30f-c64d-4d1d-91d5-5a5db6515291",
   "metadata": {},
   "outputs": [],
   "source": [
    "from sklearn.preprocessing import StandardScaler"
   ]
  },
  {
   "cell_type": "code",
   "execution_count": 25,
   "id": "ba2a1024-6825-4da9-a464-c89fceb1d254",
   "metadata": {},
   "outputs": [],
   "source": [
    "scaler = StandardScaler()"
   ]
  },
  {
   "cell_type": "code",
   "execution_count": 26,
   "id": "c36bcb72-1053-4003-a4f9-cc0a261439aa",
   "metadata": {},
   "outputs": [],
   "source": [
    "X = scaler.fit_transform(X)"
   ]
  },
  {
   "cell_type": "markdown",
   "id": "fd38bac8-c30c-4eed-b2f0-4a454235b7c9",
   "metadata": {},
   "source": [
    "# Splitting the data into train and test"
   ]
  },
  {
   "cell_type": "code",
   "execution_count": 27,
   "id": "5555c412-376a-4e5d-832c-052e76bd75e4",
   "metadata": {},
   "outputs": [],
   "source": [
    "X_train, X_test, y_train, y_test = train_test_split(X, y, test_size= 0.2, random_state=100, stratify=y)"
   ]
  },
  {
   "cell_type": "markdown",
   "id": "8d227c87-92b1-4121-880e-0f8d276f23ea",
   "metadata": {},
   "source": [
    "# Apply Logistic Regression on the data"
   ]
  },
  {
   "cell_type": "code",
   "execution_count": 28,
   "id": "edbca2fa-6e02-47c5-864f-45db449f796f",
   "metadata": {},
   "outputs": [
    {
     "data": {
      "text/html": [
       "<style>#sk-container-id-1 {color: black;background-color: white;}#sk-container-id-1 pre{padding: 0;}#sk-container-id-1 div.sk-toggleable {background-color: white;}#sk-container-id-1 label.sk-toggleable__label {cursor: pointer;display: block;width: 100%;margin-bottom: 0;padding: 0.3em;box-sizing: border-box;text-align: center;}#sk-container-id-1 label.sk-toggleable__label-arrow:before {content: \"▸\";float: left;margin-right: 0.25em;color: #696969;}#sk-container-id-1 label.sk-toggleable__label-arrow:hover:before {color: black;}#sk-container-id-1 div.sk-estimator:hover label.sk-toggleable__label-arrow:before {color: black;}#sk-container-id-1 div.sk-toggleable__content {max-height: 0;max-width: 0;overflow: hidden;text-align: left;background-color: #f0f8ff;}#sk-container-id-1 div.sk-toggleable__content pre {margin: 0.2em;color: black;border-radius: 0.25em;background-color: #f0f8ff;}#sk-container-id-1 input.sk-toggleable__control:checked~div.sk-toggleable__content {max-height: 200px;max-width: 100%;overflow: auto;}#sk-container-id-1 input.sk-toggleable__control:checked~label.sk-toggleable__label-arrow:before {content: \"▾\";}#sk-container-id-1 div.sk-estimator input.sk-toggleable__control:checked~label.sk-toggleable__label {background-color: #d4ebff;}#sk-container-id-1 div.sk-label input.sk-toggleable__control:checked~label.sk-toggleable__label {background-color: #d4ebff;}#sk-container-id-1 input.sk-hidden--visually {border: 0;clip: rect(1px 1px 1px 1px);clip: rect(1px, 1px, 1px, 1px);height: 1px;margin: -1px;overflow: hidden;padding: 0;position: absolute;width: 1px;}#sk-container-id-1 div.sk-estimator {font-family: monospace;background-color: #f0f8ff;border: 1px dotted black;border-radius: 0.25em;box-sizing: border-box;margin-bottom: 0.5em;}#sk-container-id-1 div.sk-estimator:hover {background-color: #d4ebff;}#sk-container-id-1 div.sk-parallel-item::after {content: \"\";width: 100%;border-bottom: 1px solid gray;flex-grow: 1;}#sk-container-id-1 div.sk-label:hover label.sk-toggleable__label {background-color: #d4ebff;}#sk-container-id-1 div.sk-serial::before {content: \"\";position: absolute;border-left: 1px solid gray;box-sizing: border-box;top: 0;bottom: 0;left: 50%;z-index: 0;}#sk-container-id-1 div.sk-serial {display: flex;flex-direction: column;align-items: center;background-color: white;padding-right: 0.2em;padding-left: 0.2em;position: relative;}#sk-container-id-1 div.sk-item {position: relative;z-index: 1;}#sk-container-id-1 div.sk-parallel {display: flex;align-items: stretch;justify-content: center;background-color: white;position: relative;}#sk-container-id-1 div.sk-item::before, #sk-container-id-1 div.sk-parallel-item::before {content: \"\";position: absolute;border-left: 1px solid gray;box-sizing: border-box;top: 0;bottom: 0;left: 50%;z-index: -1;}#sk-container-id-1 div.sk-parallel-item {display: flex;flex-direction: column;z-index: 1;position: relative;background-color: white;}#sk-container-id-1 div.sk-parallel-item:first-child::after {align-self: flex-end;width: 50%;}#sk-container-id-1 div.sk-parallel-item:last-child::after {align-self: flex-start;width: 50%;}#sk-container-id-1 div.sk-parallel-item:only-child::after {width: 0;}#sk-container-id-1 div.sk-dashed-wrapped {border: 1px dashed gray;margin: 0 0.4em 0.5em 0.4em;box-sizing: border-box;padding-bottom: 0.4em;background-color: white;}#sk-container-id-1 div.sk-label label {font-family: monospace;font-weight: bold;display: inline-block;line-height: 1.2em;}#sk-container-id-1 div.sk-label-container {text-align: center;}#sk-container-id-1 div.sk-container {/* jupyter's `normalize.less` sets `[hidden] { display: none; }` but bootstrap.min.css set `[hidden] { display: none !important; }` so we also need the `!important` here to be able to override the default hidden behavior on the sphinx rendered scikit-learn.org. See: https://github.com/scikit-learn/scikit-learn/issues/21755 */display: inline-block !important;position: relative;}#sk-container-id-1 div.sk-text-repr-fallback {display: none;}</style><div id=\"sk-container-id-1\" class=\"sk-top-container\"><div class=\"sk-text-repr-fallback\"><pre>LogisticRegression()</pre><b>In a Jupyter environment, please rerun this cell to show the HTML representation or trust the notebook. <br />On GitHub, the HTML representation is unable to render, please try loading this page with nbviewer.org.</b></div><div class=\"sk-container\" hidden><div class=\"sk-item\"><div class=\"sk-estimator sk-toggleable\"><input class=\"sk-toggleable__control sk-hidden--visually\" id=\"sk-estimator-id-1\" type=\"checkbox\" checked><label for=\"sk-estimator-id-1\" class=\"sk-toggleable__label sk-toggleable__label-arrow\">LogisticRegression</label><div class=\"sk-toggleable__content\"><pre>LogisticRegression()</pre></div></div></div></div></div>"
      ],
      "text/plain": [
       "LogisticRegression()"
      ]
     },
     "execution_count": 28,
     "metadata": {},
     "output_type": "execute_result"
    }
   ],
   "source": [
    "log_reg = LogisticRegression()\n",
    "log_reg.fit(X_train, y_train)"
   ]
  },
  {
   "cell_type": "code",
   "execution_count": 29,
   "id": "4b1f235b-9247-4454-9789-ad17cf1b39d9",
   "metadata": {},
   "outputs": [],
   "source": [
    "y_pred = log_reg.predict(X_test)"
   ]
  },
  {
   "cell_type": "code",
   "execution_count": 30,
   "id": "6473f23f-1457-4333-8d66-58848bce8e83",
   "metadata": {},
   "outputs": [],
   "source": [
    "from sklearn.metrics import roc_auc_score"
   ]
  },
  {
   "cell_type": "code",
   "execution_count": 31,
   "id": "2a0c3e74-c169-46d1-b01c-21084ab31274",
   "metadata": {},
   "outputs": [
    {
     "data": {
      "text/plain": [
       "0.9787234042553191"
      ]
     },
     "execution_count": 31,
     "metadata": {},
     "output_type": "execute_result"
    }
   ],
   "source": [
    "accuracy_score(y_test, y_pred)"
   ]
  },
  {
   "cell_type": "code",
   "execution_count": 32,
   "id": "aeb0fcf6-b3f8-40bf-a4f0-12bdb2209c22",
   "metadata": {},
   "outputs": [
    {
     "data": {
      "text/plain": [
       "0.9258426966292135"
      ]
     },
     "execution_count": 32,
     "metadata": {},
     "output_type": "execute_result"
    }
   ],
   "source": [
    "roc_auc_score(y_test, y_pred)"
   ]
  },
  {
   "cell_type": "code",
   "execution_count": 33,
   "id": "5475a283-d05b-4c6e-8614-a39be2f771f6",
   "metadata": {},
   "outputs": [],
   "source": [
    "# Since our data is imbalance we need to use roc_auc_score"
   ]
  },
  {
   "cell_type": "code",
   "execution_count": 34,
   "id": "e82f00d1-bca6-4aaf-b05c-acd374186761",
   "metadata": {},
   "outputs": [
    {
     "data": {
      "text/plain": [
       "(1408, 43)"
      ]
     },
     "execution_count": 34,
     "metadata": {},
     "output_type": "execute_result"
    }
   ],
   "source": [
    "data.shape"
   ]
  },
  {
   "cell_type": "markdown",
   "id": "b81ada99-cd74-44a0-9ae2-f374e76ff89d",
   "metadata": {},
   "source": [
    "### Transform the Data with PCA"
   ]
  },
  {
   "cell_type": "code",
   "execution_count": 35,
   "id": "d3af19f8-7c94-4193-8930-8b83b2327297",
   "metadata": {},
   "outputs": [],
   "source": [
    "from sklearn.decomposition import PCA\n",
    "\n",
    "pca = PCA(n_components = 0.95)\n",
    "pca_data = pca.fit_transform(X)"
   ]
  },
  {
   "cell_type": "code",
   "execution_count": 36,
   "id": "6df47e89-a9db-4471-9132-061edb80549e",
   "metadata": {},
   "outputs": [
    {
     "data": {
      "text/plain": [
       "(1408, 42)"
      ]
     },
     "execution_count": 36,
     "metadata": {},
     "output_type": "execute_result"
    }
   ],
   "source": [
    "X.shape"
   ]
  },
  {
   "cell_type": "code",
   "execution_count": 37,
   "id": "445db214-17a1-4c0e-a91a-d4f6852786d1",
   "metadata": {},
   "outputs": [
    {
     "data": {
      "text/plain": [
       "(1408, 22)"
      ]
     },
     "execution_count": 37,
     "metadata": {},
     "output_type": "execute_result"
    }
   ],
   "source": [
    "pca_data.shape"
   ]
  },
  {
   "cell_type": "code",
   "execution_count": 38,
   "id": "8ab2fa68-eb06-4eca-b492-51b69801881c",
   "metadata": {},
   "outputs": [],
   "source": [
    "# With the above activities we are able to convert 42 columns into 22 PCA components"
   ]
  },
  {
   "cell_type": "code",
   "execution_count": 39,
   "id": "ce0daba8-dda0-4949-b816-7a6dfb6d70af",
   "metadata": {},
   "outputs": [],
   "source": [
    "# Now, we can use latest PCA to split the data"
   ]
  },
  {
   "cell_type": "code",
   "execution_count": 40,
   "id": "ec2968d4-4c4b-4997-bf0b-216690c1445d",
   "metadata": {},
   "outputs": [],
   "source": [
    "X_train, X_test, y_train, y_test = train_test_split(pca_data, y, test_size=0.2, random_state=100, stratify=y)"
   ]
  },
  {
   "cell_type": "code",
   "execution_count": 41,
   "id": "ba94aea7-ec49-480d-b178-b69e7cbe4602",
   "metadata": {},
   "outputs": [
    {
     "data": {
      "text/html": [
       "<style>#sk-container-id-2 {color: black;background-color: white;}#sk-container-id-2 pre{padding: 0;}#sk-container-id-2 div.sk-toggleable {background-color: white;}#sk-container-id-2 label.sk-toggleable__label {cursor: pointer;display: block;width: 100%;margin-bottom: 0;padding: 0.3em;box-sizing: border-box;text-align: center;}#sk-container-id-2 label.sk-toggleable__label-arrow:before {content: \"▸\";float: left;margin-right: 0.25em;color: #696969;}#sk-container-id-2 label.sk-toggleable__label-arrow:hover:before {color: black;}#sk-container-id-2 div.sk-estimator:hover label.sk-toggleable__label-arrow:before {color: black;}#sk-container-id-2 div.sk-toggleable__content {max-height: 0;max-width: 0;overflow: hidden;text-align: left;background-color: #f0f8ff;}#sk-container-id-2 div.sk-toggleable__content pre {margin: 0.2em;color: black;border-radius: 0.25em;background-color: #f0f8ff;}#sk-container-id-2 input.sk-toggleable__control:checked~div.sk-toggleable__content {max-height: 200px;max-width: 100%;overflow: auto;}#sk-container-id-2 input.sk-toggleable__control:checked~label.sk-toggleable__label-arrow:before {content: \"▾\";}#sk-container-id-2 div.sk-estimator input.sk-toggleable__control:checked~label.sk-toggleable__label {background-color: #d4ebff;}#sk-container-id-2 div.sk-label input.sk-toggleable__control:checked~label.sk-toggleable__label {background-color: #d4ebff;}#sk-container-id-2 input.sk-hidden--visually {border: 0;clip: rect(1px 1px 1px 1px);clip: rect(1px, 1px, 1px, 1px);height: 1px;margin: -1px;overflow: hidden;padding: 0;position: absolute;width: 1px;}#sk-container-id-2 div.sk-estimator {font-family: monospace;background-color: #f0f8ff;border: 1px dotted black;border-radius: 0.25em;box-sizing: border-box;margin-bottom: 0.5em;}#sk-container-id-2 div.sk-estimator:hover {background-color: #d4ebff;}#sk-container-id-2 div.sk-parallel-item::after {content: \"\";width: 100%;border-bottom: 1px solid gray;flex-grow: 1;}#sk-container-id-2 div.sk-label:hover label.sk-toggleable__label {background-color: #d4ebff;}#sk-container-id-2 div.sk-serial::before {content: \"\";position: absolute;border-left: 1px solid gray;box-sizing: border-box;top: 0;bottom: 0;left: 50%;z-index: 0;}#sk-container-id-2 div.sk-serial {display: flex;flex-direction: column;align-items: center;background-color: white;padding-right: 0.2em;padding-left: 0.2em;position: relative;}#sk-container-id-2 div.sk-item {position: relative;z-index: 1;}#sk-container-id-2 div.sk-parallel {display: flex;align-items: stretch;justify-content: center;background-color: white;position: relative;}#sk-container-id-2 div.sk-item::before, #sk-container-id-2 div.sk-parallel-item::before {content: \"\";position: absolute;border-left: 1px solid gray;box-sizing: border-box;top: 0;bottom: 0;left: 50%;z-index: -1;}#sk-container-id-2 div.sk-parallel-item {display: flex;flex-direction: column;z-index: 1;position: relative;background-color: white;}#sk-container-id-2 div.sk-parallel-item:first-child::after {align-self: flex-end;width: 50%;}#sk-container-id-2 div.sk-parallel-item:last-child::after {align-self: flex-start;width: 50%;}#sk-container-id-2 div.sk-parallel-item:only-child::after {width: 0;}#sk-container-id-2 div.sk-dashed-wrapped {border: 1px dashed gray;margin: 0 0.4em 0.5em 0.4em;box-sizing: border-box;padding-bottom: 0.4em;background-color: white;}#sk-container-id-2 div.sk-label label {font-family: monospace;font-weight: bold;display: inline-block;line-height: 1.2em;}#sk-container-id-2 div.sk-label-container {text-align: center;}#sk-container-id-2 div.sk-container {/* jupyter's `normalize.less` sets `[hidden] { display: none; }` but bootstrap.min.css set `[hidden] { display: none !important; }` so we also need the `!important` here to be able to override the default hidden behavior on the sphinx rendered scikit-learn.org. See: https://github.com/scikit-learn/scikit-learn/issues/21755 */display: inline-block !important;position: relative;}#sk-container-id-2 div.sk-text-repr-fallback {display: none;}</style><div id=\"sk-container-id-2\" class=\"sk-top-container\"><div class=\"sk-text-repr-fallback\"><pre>LogisticRegression()</pre><b>In a Jupyter environment, please rerun this cell to show the HTML representation or trust the notebook. <br />On GitHub, the HTML representation is unable to render, please try loading this page with nbviewer.org.</b></div><div class=\"sk-container\" hidden><div class=\"sk-item\"><div class=\"sk-estimator sk-toggleable\"><input class=\"sk-toggleable__control sk-hidden--visually\" id=\"sk-estimator-id-2\" type=\"checkbox\" checked><label for=\"sk-estimator-id-2\" class=\"sk-toggleable__label sk-toggleable__label-arrow\">LogisticRegression</label><div class=\"sk-toggleable__content\"><pre>LogisticRegression()</pre></div></div></div></div></div>"
      ],
      "text/plain": [
       "LogisticRegression()"
      ]
     },
     "execution_count": 41,
     "metadata": {},
     "output_type": "execute_result"
    }
   ],
   "source": [
    "log_reg = LogisticRegression()\n",
    "log_reg.fit(X_train, y_train)"
   ]
  },
  {
   "cell_type": "code",
   "execution_count": 42,
   "id": "6a90b25e-699f-48e9-9f7a-5daff1be4cff",
   "metadata": {},
   "outputs": [
    {
     "data": {
      "text/plain": [
       "0.9787234042553191"
      ]
     },
     "execution_count": 42,
     "metadata": {},
     "output_type": "execute_result"
    }
   ],
   "source": [
    "accuracy_score(y_test, y_pred)"
   ]
  },
  {
   "cell_type": "code",
   "execution_count": 43,
   "id": "8cf53996-44d9-42d2-86a0-82ea2e953797",
   "metadata": {},
   "outputs": [
    {
     "data": {
      "text/plain": [
       "0.9258426966292135"
      ]
     },
     "execution_count": 43,
     "metadata": {},
     "output_type": "execute_result"
    }
   ],
   "source": [
    "roc_auc_score(y_test, y_pred)"
   ]
  },
  {
   "cell_type": "code",
   "execution_count": 44,
   "id": "8b85f70b-afb1-43d9-9120-5a42a3fe0d9d",
   "metadata": {},
   "outputs": [],
   "source": [
    "## after using the PCA to split the data the auuracy_score and roc_acu_score are similar of using 42 columns"
   ]
  },
  {
   "cell_type": "markdown",
   "id": "7813a5b3-1dd4-40cd-9189-93a15400cc41",
   "metadata": {},
   "source": [
    "### Hence it is proved that we can replace PCA lesser number of columns(22) over the actual 42 columns"
   ]
  },
  {
   "cell_type": "markdown",
   "id": "99681855-7399-4a12-a93c-86de9d6a9582",
   "metadata": {},
   "source": [
    "### Transform the Data with LDA"
   ]
  },
  {
   "cell_type": "code",
   "execution_count": 45,
   "id": "839121bc-96e6-4717-97d8-88dba2a09f01",
   "metadata": {},
   "outputs": [],
   "source": [
    "from sklearn.discriminant_analysis import LinearDiscriminantAnalysis"
   ]
  },
  {
   "cell_type": "code",
   "execution_count": 46,
   "id": "314105d4-046c-421b-9725-8c438d38e04e",
   "metadata": {},
   "outputs": [],
   "source": [
    "lda = LinearDiscriminantAnalysis()\n",
    "X = lda.fit_transform(X, y)"
   ]
  },
  {
   "cell_type": "code",
   "execution_count": 47,
   "id": "77c345e4-2b28-4958-9336-b18777ae2c29",
   "metadata": {},
   "outputs": [
    {
     "data": {
      "text/plain": [
       "(1408, 1)"
      ]
     },
     "execution_count": 47,
     "metadata": {},
     "output_type": "execute_result"
    }
   ],
   "source": [
    "X.shape"
   ]
  },
  {
   "cell_type": "markdown",
   "id": "98d2faf6-1486-4a19-b276-41c62c4e09bf",
   "metadata": {},
   "source": [
    "#above, we can observe LDA converted 42 columns to 1 column"
   ]
  },
  {
   "cell_type": "raw",
   "id": "547aa448-423e-4be9-a058-ca7f22941386",
   "metadata": {},
   "source": [
    "# using this formula it decides how many transform columns have to be created\n",
    "min(n_Classes - 1, n_features)"
   ]
  },
  {
   "cell_type": "code",
   "execution_count": 48,
   "id": "8020f5e9-66c5-4134-a16b-42f228038ba8",
   "metadata": {},
   "outputs": [],
   "source": [
    "X_train, X_test, y_train, y_test = train_test_split(X, y, test_size= 0.2, random_state=100, stratify=y)"
   ]
  },
  {
   "cell_type": "code",
   "execution_count": 49,
   "id": "8350aea6-d79f-430e-8914-e73160059b01",
   "metadata": {},
   "outputs": [
    {
     "data": {
      "text/html": [
       "<style>#sk-container-id-3 {color: black;background-color: white;}#sk-container-id-3 pre{padding: 0;}#sk-container-id-3 div.sk-toggleable {background-color: white;}#sk-container-id-3 label.sk-toggleable__label {cursor: pointer;display: block;width: 100%;margin-bottom: 0;padding: 0.3em;box-sizing: border-box;text-align: center;}#sk-container-id-3 label.sk-toggleable__label-arrow:before {content: \"▸\";float: left;margin-right: 0.25em;color: #696969;}#sk-container-id-3 label.sk-toggleable__label-arrow:hover:before {color: black;}#sk-container-id-3 div.sk-estimator:hover label.sk-toggleable__label-arrow:before {color: black;}#sk-container-id-3 div.sk-toggleable__content {max-height: 0;max-width: 0;overflow: hidden;text-align: left;background-color: #f0f8ff;}#sk-container-id-3 div.sk-toggleable__content pre {margin: 0.2em;color: black;border-radius: 0.25em;background-color: #f0f8ff;}#sk-container-id-3 input.sk-toggleable__control:checked~div.sk-toggleable__content {max-height: 200px;max-width: 100%;overflow: auto;}#sk-container-id-3 input.sk-toggleable__control:checked~label.sk-toggleable__label-arrow:before {content: \"▾\";}#sk-container-id-3 div.sk-estimator input.sk-toggleable__control:checked~label.sk-toggleable__label {background-color: #d4ebff;}#sk-container-id-3 div.sk-label input.sk-toggleable__control:checked~label.sk-toggleable__label {background-color: #d4ebff;}#sk-container-id-3 input.sk-hidden--visually {border: 0;clip: rect(1px 1px 1px 1px);clip: rect(1px, 1px, 1px, 1px);height: 1px;margin: -1px;overflow: hidden;padding: 0;position: absolute;width: 1px;}#sk-container-id-3 div.sk-estimator {font-family: monospace;background-color: #f0f8ff;border: 1px dotted black;border-radius: 0.25em;box-sizing: border-box;margin-bottom: 0.5em;}#sk-container-id-3 div.sk-estimator:hover {background-color: #d4ebff;}#sk-container-id-3 div.sk-parallel-item::after {content: \"\";width: 100%;border-bottom: 1px solid gray;flex-grow: 1;}#sk-container-id-3 div.sk-label:hover label.sk-toggleable__label {background-color: #d4ebff;}#sk-container-id-3 div.sk-serial::before {content: \"\";position: absolute;border-left: 1px solid gray;box-sizing: border-box;top: 0;bottom: 0;left: 50%;z-index: 0;}#sk-container-id-3 div.sk-serial {display: flex;flex-direction: column;align-items: center;background-color: white;padding-right: 0.2em;padding-left: 0.2em;position: relative;}#sk-container-id-3 div.sk-item {position: relative;z-index: 1;}#sk-container-id-3 div.sk-parallel {display: flex;align-items: stretch;justify-content: center;background-color: white;position: relative;}#sk-container-id-3 div.sk-item::before, #sk-container-id-3 div.sk-parallel-item::before {content: \"\";position: absolute;border-left: 1px solid gray;box-sizing: border-box;top: 0;bottom: 0;left: 50%;z-index: -1;}#sk-container-id-3 div.sk-parallel-item {display: flex;flex-direction: column;z-index: 1;position: relative;background-color: white;}#sk-container-id-3 div.sk-parallel-item:first-child::after {align-self: flex-end;width: 50%;}#sk-container-id-3 div.sk-parallel-item:last-child::after {align-self: flex-start;width: 50%;}#sk-container-id-3 div.sk-parallel-item:only-child::after {width: 0;}#sk-container-id-3 div.sk-dashed-wrapped {border: 1px dashed gray;margin: 0 0.4em 0.5em 0.4em;box-sizing: border-box;padding-bottom: 0.4em;background-color: white;}#sk-container-id-3 div.sk-label label {font-family: monospace;font-weight: bold;display: inline-block;line-height: 1.2em;}#sk-container-id-3 div.sk-label-container {text-align: center;}#sk-container-id-3 div.sk-container {/* jupyter's `normalize.less` sets `[hidden] { display: none; }` but bootstrap.min.css set `[hidden] { display: none !important; }` so we also need the `!important` here to be able to override the default hidden behavior on the sphinx rendered scikit-learn.org. See: https://github.com/scikit-learn/scikit-learn/issues/21755 */display: inline-block !important;position: relative;}#sk-container-id-3 div.sk-text-repr-fallback {display: none;}</style><div id=\"sk-container-id-3\" class=\"sk-top-container\"><div class=\"sk-text-repr-fallback\"><pre>LogisticRegression()</pre><b>In a Jupyter environment, please rerun this cell to show the HTML representation or trust the notebook. <br />On GitHub, the HTML representation is unable to render, please try loading this page with nbviewer.org.</b></div><div class=\"sk-container\" hidden><div class=\"sk-item\"><div class=\"sk-estimator sk-toggleable\"><input class=\"sk-toggleable__control sk-hidden--visually\" id=\"sk-estimator-id-3\" type=\"checkbox\" checked><label for=\"sk-estimator-id-3\" class=\"sk-toggleable__label sk-toggleable__label-arrow\">LogisticRegression</label><div class=\"sk-toggleable__content\"><pre>LogisticRegression()</pre></div></div></div></div></div>"
      ],
      "text/plain": [
       "LogisticRegression()"
      ]
     },
     "execution_count": 49,
     "metadata": {},
     "output_type": "execute_result"
    }
   ],
   "source": [
    "log_reg3 = LogisticRegression()\n",
    "log_reg3.fit(X_train, y_train)"
   ]
  },
  {
   "cell_type": "code",
   "execution_count": 50,
   "id": "301f3de6-7e4c-4e50-b6f2-fee46a97dfd4",
   "metadata": {},
   "outputs": [],
   "source": [
    "y_pred3 = log_reg3.predict(X_test)"
   ]
  },
  {
   "cell_type": "code",
   "execution_count": 51,
   "id": "6f37cb35-efb4-42fe-a4a8-a3002a7af32a",
   "metadata": {},
   "outputs": [
    {
     "data": {
      "text/plain": [
       "0.8610486891385768"
      ]
     },
     "execution_count": 51,
     "metadata": {},
     "output_type": "execute_result"
    }
   ],
   "source": [
    "roc_auc_score(y_test, y_pred3)"
   ]
  },
  {
   "cell_type": "code",
   "execution_count": 54,
   "id": "6a57c92b-2b5f-4f38-b3fd-8e38c7a5beca",
   "metadata": {},
   "outputs": [
    {
     "data": {
      "text/plain": [
       "0.975177304964539"
      ]
     },
     "execution_count": 54,
     "metadata": {},
     "output_type": "execute_result"
    }
   ],
   "source": [
    "accuracy_score(y_test, y_pred3)"
   ]
  },
  {
   "cell_type": "code",
   "execution_count": null,
   "id": "71ac888e-376c-4f67-9685-e8cee79f3345",
   "metadata": {},
   "outputs": [],
   "source": []
  }
 ],
 "metadata": {
  "kernelspec": {
   "display_name": "Python 3 (ipykernel)",
   "language": "python",
   "name": "python3"
  },
  "language_info": {
   "codemirror_mode": {
    "name": "ipython",
    "version": 3
   },
   "file_extension": ".py",
   "mimetype": "text/x-python",
   "name": "python",
   "nbconvert_exporter": "python",
   "pygments_lexer": "ipython3",
   "version": "3.11.7"
  }
 },
 "nbformat": 4,
 "nbformat_minor": 5
}
