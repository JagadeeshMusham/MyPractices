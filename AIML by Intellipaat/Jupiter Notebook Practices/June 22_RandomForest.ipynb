{
 "cells": [
  {
   "cell_type": "code",
   "execution_count": 1,
   "id": "106259e6-722a-49e9-81d1-61d6bfd95595",
   "metadata": {},
   "outputs": [],
   "source": [
    "import pandas as pd\n",
    "import numpy as np\n",
    "import matplotlib.pyplot as plt\n",
    "\n",
    "from sklearn.model_selection import train_test_split\n",
    "from sklearn.ensemble import RandomForestClassifier\n",
    "from sklearn.metrics import roc_auc_score, confusion_matrix, accuracy_score\n",
    "\n",
    "from pylab import rcParams\n",
    "rcParams['figure.figsize'] = 8, 8"
   ]
  },
  {
   "cell_type": "code",
   "execution_count": 2,
   "id": "fbf4c869-63ed-4205-af42-671a3dcd9a2f",
   "metadata": {},
   "outputs": [],
   "source": [
    "data = pd.read_csv('creditcard.csv')"
   ]
  },
  {
   "cell_type": "code",
   "execution_count": 3,
   "id": "86d81df2-7e07-4a1e-8482-d7ddd67696cd",
   "metadata": {},
   "outputs": [
    {
     "data": {
      "text/html": [
       "<div>\n",
       "<style scoped>\n",
       "    .dataframe tbody tr th:only-of-type {\n",
       "        vertical-align: middle;\n",
       "    }\n",
       "\n",
       "    .dataframe tbody tr th {\n",
       "        vertical-align: top;\n",
       "    }\n",
       "\n",
       "    .dataframe thead th {\n",
       "        text-align: right;\n",
       "    }\n",
       "</style>\n",
       "<table border=\"1\" class=\"dataframe\">\n",
       "  <thead>\n",
       "    <tr style=\"text-align: right;\">\n",
       "      <th></th>\n",
       "      <th>V1</th>\n",
       "      <th>V2</th>\n",
       "      <th>V3</th>\n",
       "      <th>V4</th>\n",
       "      <th>V5</th>\n",
       "      <th>V6</th>\n",
       "      <th>V7</th>\n",
       "      <th>V8</th>\n",
       "      <th>V9</th>\n",
       "      <th>V10</th>\n",
       "      <th>...</th>\n",
       "      <th>V21</th>\n",
       "      <th>V22</th>\n",
       "      <th>V23</th>\n",
       "      <th>V24</th>\n",
       "      <th>V25</th>\n",
       "      <th>V26</th>\n",
       "      <th>V27</th>\n",
       "      <th>V28</th>\n",
       "      <th>V29</th>\n",
       "      <th>Target</th>\n",
       "    </tr>\n",
       "  </thead>\n",
       "  <tbody>\n",
       "    <tr>\n",
       "      <th>0</th>\n",
       "      <td>0.114697</td>\n",
       "      <td>0.796303</td>\n",
       "      <td>-0.149553</td>\n",
       "      <td>-0.823011</td>\n",
       "      <td>0.878763</td>\n",
       "      <td>-0.553152</td>\n",
       "      <td>0.939259</td>\n",
       "      <td>-0.108502</td>\n",
       "      <td>0.111137</td>\n",
       "      <td>-0.390521</td>\n",
       "      <td>...</td>\n",
       "      <td>-0.335776</td>\n",
       "      <td>-0.807853</td>\n",
       "      <td>-0.055940</td>\n",
       "      <td>-1.025281</td>\n",
       "      <td>-0.369557</td>\n",
       "      <td>0.204653</td>\n",
       "      <td>0.242724</td>\n",
       "      <td>0.085713</td>\n",
       "      <td>0.89</td>\n",
       "      <td>0</td>\n",
       "    </tr>\n",
       "    <tr>\n",
       "      <th>1</th>\n",
       "      <td>-0.039318</td>\n",
       "      <td>0.495784</td>\n",
       "      <td>-0.810884</td>\n",
       "      <td>0.546693</td>\n",
       "      <td>1.986257</td>\n",
       "      <td>4.386342</td>\n",
       "      <td>-1.344891</td>\n",
       "      <td>-1.743736</td>\n",
       "      <td>-0.563103</td>\n",
       "      <td>-0.616315</td>\n",
       "      <td>...</td>\n",
       "      <td>-1.377003</td>\n",
       "      <td>-0.072200</td>\n",
       "      <td>-0.197573</td>\n",
       "      <td>1.014807</td>\n",
       "      <td>1.011293</td>\n",
       "      <td>-0.167684</td>\n",
       "      <td>0.113136</td>\n",
       "      <td>0.256836</td>\n",
       "      <td>85.00</td>\n",
       "      <td>0</td>\n",
       "    </tr>\n",
       "    <tr>\n",
       "      <th>2</th>\n",
       "      <td>2.275706</td>\n",
       "      <td>-1.531508</td>\n",
       "      <td>-1.021969</td>\n",
       "      <td>-1.602152</td>\n",
       "      <td>-1.220329</td>\n",
       "      <td>-0.462376</td>\n",
       "      <td>-1.196485</td>\n",
       "      <td>-0.147058</td>\n",
       "      <td>-0.950224</td>\n",
       "      <td>1.560463</td>\n",
       "      <td>...</td>\n",
       "      <td>-0.193271</td>\n",
       "      <td>-0.103533</td>\n",
       "      <td>0.150945</td>\n",
       "      <td>-0.811083</td>\n",
       "      <td>-0.197913</td>\n",
       "      <td>-0.128446</td>\n",
       "      <td>0.014197</td>\n",
       "      <td>-0.051289</td>\n",
       "      <td>42.70</td>\n",
       "      <td>0</td>\n",
       "    </tr>\n",
       "    <tr>\n",
       "      <th>3</th>\n",
       "      <td>1.940137</td>\n",
       "      <td>-0.357671</td>\n",
       "      <td>-1.210551</td>\n",
       "      <td>0.382523</td>\n",
       "      <td>0.050823</td>\n",
       "      <td>-0.171322</td>\n",
       "      <td>-0.109124</td>\n",
       "      <td>-0.002115</td>\n",
       "      <td>0.869258</td>\n",
       "      <td>-0.001965</td>\n",
       "      <td>...</td>\n",
       "      <td>0.157994</td>\n",
       "      <td>0.650355</td>\n",
       "      <td>0.034206</td>\n",
       "      <td>0.739535</td>\n",
       "      <td>0.223605</td>\n",
       "      <td>-0.195509</td>\n",
       "      <td>-0.012791</td>\n",
       "      <td>-0.056841</td>\n",
       "      <td>29.99</td>\n",
       "      <td>0</td>\n",
       "    </tr>\n",
       "    <tr>\n",
       "      <th>4</th>\n",
       "      <td>1.081395</td>\n",
       "      <td>-0.502615</td>\n",
       "      <td>1.075887</td>\n",
       "      <td>-0.543359</td>\n",
       "      <td>-1.472946</td>\n",
       "      <td>-1.065484</td>\n",
       "      <td>-0.443231</td>\n",
       "      <td>-0.143374</td>\n",
       "      <td>1.659826</td>\n",
       "      <td>-1.131238</td>\n",
       "      <td>...</td>\n",
       "      <td>0.224157</td>\n",
       "      <td>0.821209</td>\n",
       "      <td>-0.137223</td>\n",
       "      <td>0.986259</td>\n",
       "      <td>0.563228</td>\n",
       "      <td>-0.574206</td>\n",
       "      <td>0.089673</td>\n",
       "      <td>0.052036</td>\n",
       "      <td>68.00</td>\n",
       "      <td>0</td>\n",
       "    </tr>\n",
       "  </tbody>\n",
       "</table>\n",
       "<p>5 rows × 30 columns</p>\n",
       "</div>"
      ],
      "text/plain": [
       "         V1        V2        V3        V4        V5        V6        V7  \\\n",
       "0  0.114697  0.796303 -0.149553 -0.823011  0.878763 -0.553152  0.939259   \n",
       "1 -0.039318  0.495784 -0.810884  0.546693  1.986257  4.386342 -1.344891   \n",
       "2  2.275706 -1.531508 -1.021969 -1.602152 -1.220329 -0.462376 -1.196485   \n",
       "3  1.940137 -0.357671 -1.210551  0.382523  0.050823 -0.171322 -0.109124   \n",
       "4  1.081395 -0.502615  1.075887 -0.543359 -1.472946 -1.065484 -0.443231   \n",
       "\n",
       "         V8        V9       V10  ...       V21       V22       V23       V24  \\\n",
       "0 -0.108502  0.111137 -0.390521  ... -0.335776 -0.807853 -0.055940 -1.025281   \n",
       "1 -1.743736 -0.563103 -0.616315  ... -1.377003 -0.072200 -0.197573  1.014807   \n",
       "2 -0.147058 -0.950224  1.560463  ... -0.193271 -0.103533  0.150945 -0.811083   \n",
       "3 -0.002115  0.869258 -0.001965  ...  0.157994  0.650355  0.034206  0.739535   \n",
       "4 -0.143374  1.659826 -1.131238  ...  0.224157  0.821209 -0.137223  0.986259   \n",
       "\n",
       "        V25       V26       V27       V28    V29  Target  \n",
       "0 -0.369557  0.204653  0.242724  0.085713   0.89       0  \n",
       "1  1.011293 -0.167684  0.113136  0.256836  85.00       0  \n",
       "2 -0.197913 -0.128446  0.014197 -0.051289  42.70       0  \n",
       "3  0.223605 -0.195509 -0.012791 -0.056841  29.99       0  \n",
       "4  0.563228 -0.574206  0.089673  0.052036  68.00       0  \n",
       "\n",
       "[5 rows x 30 columns]"
      ]
     },
     "execution_count": 3,
     "metadata": {},
     "output_type": "execute_result"
    }
   ],
   "source": [
    "data.head()"
   ]
  },
  {
   "cell_type": "code",
   "execution_count": 4,
   "id": "4736bad2-7a4b-46b7-8447-27ce458bfe6b",
   "metadata": {},
   "outputs": [
    {
     "name": "stdout",
     "output_type": "stream",
     "text": [
      "<class 'pandas.core.frame.DataFrame'>\n",
      "RangeIndex: 56962 entries, 0 to 56961\n",
      "Data columns (total 30 columns):\n",
      " #   Column  Non-Null Count  Dtype  \n",
      "---  ------  --------------  -----  \n",
      " 0   V1      56962 non-null  float64\n",
      " 1   V2      56962 non-null  float64\n",
      " 2   V3      56962 non-null  float64\n",
      " 3   V4      56962 non-null  float64\n",
      " 4   V5      56962 non-null  float64\n",
      " 5   V6      56962 non-null  float64\n",
      " 6   V7      56962 non-null  float64\n",
      " 7   V8      56962 non-null  float64\n",
      " 8   V9      56962 non-null  float64\n",
      " 9   V10     56962 non-null  float64\n",
      " 10  V11     56962 non-null  float64\n",
      " 11  V12     56962 non-null  float64\n",
      " 12  V13     56962 non-null  float64\n",
      " 13  V14     56962 non-null  float64\n",
      " 14  V15     56962 non-null  float64\n",
      " 15  V16     56962 non-null  float64\n",
      " 16  V17     56962 non-null  float64\n",
      " 17  V18     56962 non-null  float64\n",
      " 18  V19     56962 non-null  float64\n",
      " 19  V20     56962 non-null  float64\n",
      " 20  V21     56962 non-null  float64\n",
      " 21  V22     56962 non-null  float64\n",
      " 22  V23     56962 non-null  float64\n",
      " 23  V24     56962 non-null  float64\n",
      " 24  V25     56962 non-null  float64\n",
      " 25  V26     56962 non-null  float64\n",
      " 26  V27     56962 non-null  float64\n",
      " 27  V28     56962 non-null  float64\n",
      " 28  V29     56962 non-null  float64\n",
      " 29  Target  56962 non-null  int64  \n",
      "dtypes: float64(29), int64(1)\n",
      "memory usage: 13.0 MB\n"
     ]
    }
   ],
   "source": [
    "data.info()"
   ]
  },
  {
   "cell_type": "code",
   "execution_count": 5,
   "id": "4b0b375d-88d1-43df-8557-6bfb5ae18234",
   "metadata": {},
   "outputs": [
    {
     "data": {
      "text/plain": [
       "V1        0\n",
       "V2        0\n",
       "V3        0\n",
       "V4        0\n",
       "V5        0\n",
       "V6        0\n",
       "V7        0\n",
       "V8        0\n",
       "V9        0\n",
       "V10       0\n",
       "V11       0\n",
       "V12       0\n",
       "V13       0\n",
       "V14       0\n",
       "V15       0\n",
       "V16       0\n",
       "V17       0\n",
       "V18       0\n",
       "V19       0\n",
       "V20       0\n",
       "V21       0\n",
       "V22       0\n",
       "V23       0\n",
       "V24       0\n",
       "V25       0\n",
       "V26       0\n",
       "V27       0\n",
       "V28       0\n",
       "V29       0\n",
       "Target    0\n",
       "dtype: int64"
      ]
     },
     "execution_count": 5,
     "metadata": {},
     "output_type": "execute_result"
    }
   ],
   "source": [
    "#check the missing values column-wise\n",
    "data.isnull().sum()"
   ]
  },
  {
   "cell_type": "code",
   "execution_count": 6,
   "id": "4cd130c1-5ac9-4807-bfb1-e2115bd925b0",
   "metadata": {},
   "outputs": [
    {
     "data": {
      "text/plain": [
       "675"
      ]
     },
     "execution_count": 6,
     "metadata": {},
     "output_type": "execute_result"
    }
   ],
   "source": [
    "#check the number of duplicate rows\n",
    "data.duplicated().sum()"
   ]
  },
  {
   "cell_type": "code",
   "execution_count": 7,
   "id": "0c30900f-5ce9-4578-a1d3-762a0df40391",
   "metadata": {},
   "outputs": [
    {
     "data": {
      "text/html": [
       "<div>\n",
       "<style scoped>\n",
       "    .dataframe tbody tr th:only-of-type {\n",
       "        vertical-align: middle;\n",
       "    }\n",
       "\n",
       "    .dataframe tbody tr th {\n",
       "        vertical-align: top;\n",
       "    }\n",
       "\n",
       "    .dataframe thead th {\n",
       "        text-align: right;\n",
       "    }\n",
       "</style>\n",
       "<table border=\"1\" class=\"dataframe\">\n",
       "  <thead>\n",
       "    <tr style=\"text-align: right;\">\n",
       "      <th></th>\n",
       "      <th>V1</th>\n",
       "      <th>V2</th>\n",
       "      <th>V3</th>\n",
       "      <th>V4</th>\n",
       "      <th>V5</th>\n",
       "      <th>V6</th>\n",
       "      <th>V7</th>\n",
       "      <th>V8</th>\n",
       "      <th>V9</th>\n",
       "      <th>V10</th>\n",
       "      <th>...</th>\n",
       "      <th>V21</th>\n",
       "      <th>V22</th>\n",
       "      <th>V23</th>\n",
       "      <th>V24</th>\n",
       "      <th>V25</th>\n",
       "      <th>V26</th>\n",
       "      <th>V27</th>\n",
       "      <th>V28</th>\n",
       "      <th>V29</th>\n",
       "      <th>Target</th>\n",
       "    </tr>\n",
       "  </thead>\n",
       "  <tbody>\n",
       "    <tr>\n",
       "      <th>1181</th>\n",
       "      <td>2.010213</td>\n",
       "      <td>0.063667</td>\n",
       "      <td>-1.620606</td>\n",
       "      <td>0.341472</td>\n",
       "      <td>0.368741</td>\n",
       "      <td>-0.586677</td>\n",
       "      <td>0.034489</td>\n",
       "      <td>-0.043750</td>\n",
       "      <td>0.303938</td>\n",
       "      <td>-0.201902</td>\n",
       "      <td>...</td>\n",
       "      <td>-0.301625</td>\n",
       "      <td>-0.820824</td>\n",
       "      <td>0.362729</td>\n",
       "      <td>0.595190</td>\n",
       "      <td>-0.345739</td>\n",
       "      <td>0.150098</td>\n",
       "      <td>-0.066713</td>\n",
       "      <td>-0.040558</td>\n",
       "      <td>1.79</td>\n",
       "      <td>0</td>\n",
       "    </tr>\n",
       "    <tr>\n",
       "      <th>1936</th>\n",
       "      <td>1.302378</td>\n",
       "      <td>-0.606529</td>\n",
       "      <td>-0.681986</td>\n",
       "      <td>-1.904603</td>\n",
       "      <td>1.326623</td>\n",
       "      <td>3.436312</td>\n",
       "      <td>-1.145127</td>\n",
       "      <td>0.959147</td>\n",
       "      <td>1.671302</td>\n",
       "      <td>-1.022946</td>\n",
       "      <td>...</td>\n",
       "      <td>-0.064208</td>\n",
       "      <td>-0.080587</td>\n",
       "      <td>-0.072991</td>\n",
       "      <td>1.018136</td>\n",
       "      <td>0.663575</td>\n",
       "      <td>-0.671323</td>\n",
       "      <td>0.096801</td>\n",
       "      <td>0.028697</td>\n",
       "      <td>1.00</td>\n",
       "      <td>0</td>\n",
       "    </tr>\n",
       "    <tr>\n",
       "      <th>2530</th>\n",
       "      <td>2.055797</td>\n",
       "      <td>-0.326668</td>\n",
       "      <td>-2.752041</td>\n",
       "      <td>-0.842316</td>\n",
       "      <td>2.463072</td>\n",
       "      <td>3.173856</td>\n",
       "      <td>-0.432126</td>\n",
       "      <td>0.727706</td>\n",
       "      <td>0.608606</td>\n",
       "      <td>-0.075186</td>\n",
       "      <td>...</td>\n",
       "      <td>0.269765</td>\n",
       "      <td>0.844627</td>\n",
       "      <td>0.020675</td>\n",
       "      <td>0.726212</td>\n",
       "      <td>0.366624</td>\n",
       "      <td>-0.398828</td>\n",
       "      <td>0.027735</td>\n",
       "      <td>-0.060282</td>\n",
       "      <td>1.00</td>\n",
       "      <td>0</td>\n",
       "    </tr>\n",
       "    <tr>\n",
       "      <th>2878</th>\n",
       "      <td>1.076018</td>\n",
       "      <td>-0.126284</td>\n",
       "      <td>1.320255</td>\n",
       "      <td>1.154681</td>\n",
       "      <td>-0.892714</td>\n",
       "      <td>0.356662</td>\n",
       "      <td>-0.792107</td>\n",
       "      <td>0.396302</td>\n",
       "      <td>0.630048</td>\n",
       "      <td>0.007419</td>\n",
       "      <td>...</td>\n",
       "      <td>0.071098</td>\n",
       "      <td>0.320206</td>\n",
       "      <td>0.055667</td>\n",
       "      <td>0.204490</td>\n",
       "      <td>0.230282</td>\n",
       "      <td>-0.396762</td>\n",
       "      <td>0.077135</td>\n",
       "      <td>0.024214</td>\n",
       "      <td>1.00</td>\n",
       "      <td>0</td>\n",
       "    </tr>\n",
       "    <tr>\n",
       "      <th>3301</th>\n",
       "      <td>1.109985</td>\n",
       "      <td>0.368032</td>\n",
       "      <td>-0.061407</td>\n",
       "      <td>1.376844</td>\n",
       "      <td>0.070437</td>\n",
       "      <td>-1.100573</td>\n",
       "      <td>0.610397</td>\n",
       "      <td>-0.487201</td>\n",
       "      <td>0.920589</td>\n",
       "      <td>-0.380884</td>\n",
       "      <td>...</td>\n",
       "      <td>-0.088583</td>\n",
       "      <td>-0.126343</td>\n",
       "      <td>-0.217999</td>\n",
       "      <td>0.358122</td>\n",
       "      <td>0.814626</td>\n",
       "      <td>-0.345815</td>\n",
       "      <td>-0.048111</td>\n",
       "      <td>0.020956</td>\n",
       "      <td>89.99</td>\n",
       "      <td>0</td>\n",
       "    </tr>\n",
       "    <tr>\n",
       "      <th>...</th>\n",
       "      <td>...</td>\n",
       "      <td>...</td>\n",
       "      <td>...</td>\n",
       "      <td>...</td>\n",
       "      <td>...</td>\n",
       "      <td>...</td>\n",
       "      <td>...</td>\n",
       "      <td>...</td>\n",
       "      <td>...</td>\n",
       "      <td>...</td>\n",
       "      <td>...</td>\n",
       "      <td>...</td>\n",
       "      <td>...</td>\n",
       "      <td>...</td>\n",
       "      <td>...</td>\n",
       "      <td>...</td>\n",
       "      <td>...</td>\n",
       "      <td>...</td>\n",
       "      <td>...</td>\n",
       "      <td>...</td>\n",
       "      <td>...</td>\n",
       "    </tr>\n",
       "    <tr>\n",
       "      <th>56809</th>\n",
       "      <td>1.886717</td>\n",
       "      <td>-0.517305</td>\n",
       "      <td>-1.351317</td>\n",
       "      <td>-0.141112</td>\n",
       "      <td>0.586967</td>\n",
       "      <td>1.052636</td>\n",
       "      <td>-0.330743</td>\n",
       "      <td>0.353181</td>\n",
       "      <td>0.936002</td>\n",
       "      <td>-0.165864</td>\n",
       "      <td>...</td>\n",
       "      <td>-0.071110</td>\n",
       "      <td>0.074763</td>\n",
       "      <td>0.201228</td>\n",
       "      <td>-1.628444</td>\n",
       "      <td>-0.245710</td>\n",
       "      <td>0.023253</td>\n",
       "      <td>0.014937</td>\n",
       "      <td>-0.081462</td>\n",
       "      <td>20.00</td>\n",
       "      <td>0</td>\n",
       "    </tr>\n",
       "    <tr>\n",
       "      <th>56830</th>\n",
       "      <td>1.284143</td>\n",
       "      <td>0.462738</td>\n",
       "      <td>-0.371277</td>\n",
       "      <td>0.825644</td>\n",
       "      <td>0.464456</td>\n",
       "      <td>-0.466731</td>\n",
       "      <td>0.459673</td>\n",
       "      <td>-0.186236</td>\n",
       "      <td>-0.549594</td>\n",
       "      <td>0.204381</td>\n",
       "      <td>...</td>\n",
       "      <td>0.013440</td>\n",
       "      <td>0.084371</td>\n",
       "      <td>-0.246710</td>\n",
       "      <td>-0.325573</td>\n",
       "      <td>0.927623</td>\n",
       "      <td>-0.272459</td>\n",
       "      <td>-0.009998</td>\n",
       "      <td>-0.005489</td>\n",
       "      <td>0.89</td>\n",
       "      <td>0</td>\n",
       "    </tr>\n",
       "    <tr>\n",
       "      <th>56865</th>\n",
       "      <td>1.018412</td>\n",
       "      <td>1.036663</td>\n",
       "      <td>-1.689814</td>\n",
       "      <td>1.315476</td>\n",
       "      <td>1.698436</td>\n",
       "      <td>0.528807</td>\n",
       "      <td>0.331715</td>\n",
       "      <td>0.364539</td>\n",
       "      <td>-0.711798</td>\n",
       "      <td>-1.570288</td>\n",
       "      <td>...</td>\n",
       "      <td>-0.040238</td>\n",
       "      <td>0.096172</td>\n",
       "      <td>-0.092549</td>\n",
       "      <td>-1.345664</td>\n",
       "      <td>0.510305</td>\n",
       "      <td>-0.182674</td>\n",
       "      <td>0.107058</td>\n",
       "      <td>0.071818</td>\n",
       "      <td>0.89</td>\n",
       "      <td>0</td>\n",
       "    </tr>\n",
       "    <tr>\n",
       "      <th>56893</th>\n",
       "      <td>2.060160</td>\n",
       "      <td>0.018599</td>\n",
       "      <td>-1.072853</td>\n",
       "      <td>0.381576</td>\n",
       "      <td>0.018414</td>\n",
       "      <td>-1.063353</td>\n",
       "      <td>0.240911</td>\n",
       "      <td>-0.365617</td>\n",
       "      <td>0.382032</td>\n",
       "      <td>0.033555</td>\n",
       "      <td>...</td>\n",
       "      <td>-0.275957</td>\n",
       "      <td>-0.600087</td>\n",
       "      <td>0.325765</td>\n",
       "      <td>-0.054364</td>\n",
       "      <td>-0.267467</td>\n",
       "      <td>0.201880</td>\n",
       "      <td>-0.060525</td>\n",
       "      <td>-0.058989</td>\n",
       "      <td>1.29</td>\n",
       "      <td>0</td>\n",
       "    </tr>\n",
       "    <tr>\n",
       "      <th>56939</th>\n",
       "      <td>-1.807896</td>\n",
       "      <td>1.155051</td>\n",
       "      <td>0.272890</td>\n",
       "      <td>-0.957869</td>\n",
       "      <td>0.093949</td>\n",
       "      <td>1.457128</td>\n",
       "      <td>-0.746298</td>\n",
       "      <td>1.442531</td>\n",
       "      <td>0.513675</td>\n",
       "      <td>-0.676740</td>\n",
       "      <td>...</td>\n",
       "      <td>0.341621</td>\n",
       "      <td>0.962761</td>\n",
       "      <td>-0.128896</td>\n",
       "      <td>-0.524841</td>\n",
       "      <td>-0.183921</td>\n",
       "      <td>0.694740</td>\n",
       "      <td>-0.044072</td>\n",
       "      <td>0.131012</td>\n",
       "      <td>6.14</td>\n",
       "      <td>0</td>\n",
       "    </tr>\n",
       "  </tbody>\n",
       "</table>\n",
       "<p>675 rows × 30 columns</p>\n",
       "</div>"
      ],
      "text/plain": [
       "             V1        V2        V3        V4        V5        V6        V7  \\\n",
       "1181   2.010213  0.063667 -1.620606  0.341472  0.368741 -0.586677  0.034489   \n",
       "1936   1.302378 -0.606529 -0.681986 -1.904603  1.326623  3.436312 -1.145127   \n",
       "2530   2.055797 -0.326668 -2.752041 -0.842316  2.463072  3.173856 -0.432126   \n",
       "2878   1.076018 -0.126284  1.320255  1.154681 -0.892714  0.356662 -0.792107   \n",
       "3301   1.109985  0.368032 -0.061407  1.376844  0.070437 -1.100573  0.610397   \n",
       "...         ...       ...       ...       ...       ...       ...       ...   \n",
       "56809  1.886717 -0.517305 -1.351317 -0.141112  0.586967  1.052636 -0.330743   \n",
       "56830  1.284143  0.462738 -0.371277  0.825644  0.464456 -0.466731  0.459673   \n",
       "56865  1.018412  1.036663 -1.689814  1.315476  1.698436  0.528807  0.331715   \n",
       "56893  2.060160  0.018599 -1.072853  0.381576  0.018414 -1.063353  0.240911   \n",
       "56939 -1.807896  1.155051  0.272890 -0.957869  0.093949  1.457128 -0.746298   \n",
       "\n",
       "             V8        V9       V10  ...       V21       V22       V23  \\\n",
       "1181  -0.043750  0.303938 -0.201902  ... -0.301625 -0.820824  0.362729   \n",
       "1936   0.959147  1.671302 -1.022946  ... -0.064208 -0.080587 -0.072991   \n",
       "2530   0.727706  0.608606 -0.075186  ...  0.269765  0.844627  0.020675   \n",
       "2878   0.396302  0.630048  0.007419  ...  0.071098  0.320206  0.055667   \n",
       "3301  -0.487201  0.920589 -0.380884  ... -0.088583 -0.126343 -0.217999   \n",
       "...         ...       ...       ...  ...       ...       ...       ...   \n",
       "56809  0.353181  0.936002 -0.165864  ... -0.071110  0.074763  0.201228   \n",
       "56830 -0.186236 -0.549594  0.204381  ...  0.013440  0.084371 -0.246710   \n",
       "56865  0.364539 -0.711798 -1.570288  ... -0.040238  0.096172 -0.092549   \n",
       "56893 -0.365617  0.382032  0.033555  ... -0.275957 -0.600087  0.325765   \n",
       "56939  1.442531  0.513675 -0.676740  ...  0.341621  0.962761 -0.128896   \n",
       "\n",
       "            V24       V25       V26       V27       V28    V29  Target  \n",
       "1181   0.595190 -0.345739  0.150098 -0.066713 -0.040558   1.79       0  \n",
       "1936   1.018136  0.663575 -0.671323  0.096801  0.028697   1.00       0  \n",
       "2530   0.726212  0.366624 -0.398828  0.027735 -0.060282   1.00       0  \n",
       "2878   0.204490  0.230282 -0.396762  0.077135  0.024214   1.00       0  \n",
       "3301   0.358122  0.814626 -0.345815 -0.048111  0.020956  89.99       0  \n",
       "...         ...       ...       ...       ...       ...    ...     ...  \n",
       "56809 -1.628444 -0.245710  0.023253  0.014937 -0.081462  20.00       0  \n",
       "56830 -0.325573  0.927623 -0.272459 -0.009998 -0.005489   0.89       0  \n",
       "56865 -1.345664  0.510305 -0.182674  0.107058  0.071818   0.89       0  \n",
       "56893 -0.054364 -0.267467  0.201880 -0.060525 -0.058989   1.29       0  \n",
       "56939 -0.524841 -0.183921  0.694740 -0.044072  0.131012   6.14       0  \n",
       "\n",
       "[675 rows x 30 columns]"
      ]
     },
     "execution_count": 7,
     "metadata": {},
     "output_type": "execute_result"
    }
   ],
   "source": [
    "data[data.duplicated()]  #to check the duplicate rows"
   ]
  },
  {
   "cell_type": "code",
   "execution_count": 8,
   "id": "a0eb3894-b844-4eaf-b767-01146d8898b6",
   "metadata": {},
   "outputs": [],
   "source": [
    "data.drop_duplicates(inplace = True)  #delete the duplicate rows permanently from the dataframe"
   ]
  },
  {
   "cell_type": "code",
   "execution_count": 9,
   "id": "e62c57b0-21b7-4ed5-999e-ba5688d97377",
   "metadata": {},
   "outputs": [
    {
     "data": {
      "text/plain": [
       "(56287, 30)"
      ]
     },
     "execution_count": 9,
     "metadata": {},
     "output_type": "execute_result"
    }
   ],
   "source": [
    "data.shape"
   ]
  },
  {
   "cell_type": "code",
   "execution_count": 10,
   "id": "4226232f-3d03-4d5e-8532-d124624725a2",
   "metadata": {},
   "outputs": [
    {
     "data": {
      "text/plain": [
       "Target\n",
       "0    56189\n",
       "1       98\n",
       "Name: count, dtype: int64"
      ]
     },
     "execution_count": 10,
     "metadata": {},
     "output_type": "execute_result"
    }
   ],
   "source": [
    "#to check the data imbalance\n",
    "data['Target'].value_counts()"
   ]
  },
  {
   "cell_type": "code",
   "execution_count": 11,
   "id": "f9853f1f-9689-46b1-b3c0-1a68420bc138",
   "metadata": {},
   "outputs": [
    {
     "data": {
      "text/plain": [
       "0.9982589230195249"
      ]
     },
     "execution_count": 11,
     "metadata": {},
     "output_type": "execute_result"
    }
   ],
   "source": [
    "56189 / 56287"
   ]
  },
  {
   "cell_type": "code",
   "execution_count": 12,
   "id": "f5585537-c475-4c42-8833-49d340546cc7",
   "metadata": {},
   "outputs": [
    {
     "data": {
      "text/plain": [
       "0.0017410769804750653"
      ]
     },
     "execution_count": 12,
     "metadata": {},
     "output_type": "execute_result"
    }
   ],
   "source": [
    "98 / 56287"
   ]
  },
  {
   "cell_type": "markdown",
   "id": "1c55b76e-8133-496b-b167-7e8a59beaae7",
   "metadata": {},
   "source": [
    "Things to do when we have imbalanced data:\r\n",
    "\r\n",
    "    Oversampling (SMOTE Technique)\r\n",
    "    Undersampling(Loss of Data)\r\n",
    "    Use Tree Based Algorithms only (Decision Tree, Random Forest, XGBoost, Adaboost, GradientBoost).\r\n"
   ]
  },
  {
   "cell_type": "code",
   "execution_count": 13,
   "id": "ffc0984e-8f44-402f-ac69-482565487303",
   "metadata": {},
   "outputs": [],
   "source": [
    "X = data.drop(columns = 'Target')\n",
    "y = data['Target']"
   ]
  },
  {
   "cell_type": "raw",
   "id": "b9cdafdf-15ca-484c-86f5-c9e16880d906",
   "metadata": {},
   "source": [
    "\r\n",
    "\r\n",
    "    Split the dataset into train and test using stratified sampling on our dependent variable.\r\n",
    "    Using a stratified sampling ensures the distribution of dependent variable remains same across train and test datass\r\n",
    "\r\n"
   ]
  },
  {
   "cell_type": "code",
   "execution_count": 14,
   "id": "8fe57502-e43c-411b-9964-743124770b43",
   "metadata": {},
   "outputs": [],
   "source": [
    "X_train, X_test, y_train, y_test = train_test_split(X, y, test_size = 0.2, stratify = y, random_state = 10)"
   ]
  },
  {
   "cell_type": "markdown",
   "id": "4f515346-35e7-4988-ab54-3114ebf27471",
   "metadata": {},
   "source": [
    "The stratify parameter asks whether you want to retain the same proportion of classes in the train and test sets that are found in the entire original dataset. It means if there are 60% 'yes' class data and 40% 'no' class data in the full dataset, then in train and test data split this proportion should be maintained."
   ]
  },
  {
   "cell_type": "markdown",
   "id": "1af78fe5-1018-42c5-9a3a-6b39b10182c4",
   "metadata": {},
   "source": [
    "** Note:** We don't need to scale/standardize the data when using tree based algorithms. Also we don't have to remove outliers when using tree based algorithm because they are not affected by them."
   ]
  },
  {
   "cell_type": "markdown",
   "id": "6ed5e9f2-de0a-41be-b2ce-89438fdc659a",
   "metadata": {},
   "source": [
    "## Apply Random Forest Classifier to the Data"
   ]
  },
  {
   "cell_type": "code",
   "execution_count": 15,
   "id": "4db2a37c-22b1-4c8e-a0fa-be77769a13ec",
   "metadata": {},
   "outputs": [
    {
     "data": {
      "text/html": [
       "<style>#sk-container-id-1 {color: black;background-color: white;}#sk-container-id-1 pre{padding: 0;}#sk-container-id-1 div.sk-toggleable {background-color: white;}#sk-container-id-1 label.sk-toggleable__label {cursor: pointer;display: block;width: 100%;margin-bottom: 0;padding: 0.3em;box-sizing: border-box;text-align: center;}#sk-container-id-1 label.sk-toggleable__label-arrow:before {content: \"▸\";float: left;margin-right: 0.25em;color: #696969;}#sk-container-id-1 label.sk-toggleable__label-arrow:hover:before {color: black;}#sk-container-id-1 div.sk-estimator:hover label.sk-toggleable__label-arrow:before {color: black;}#sk-container-id-1 div.sk-toggleable__content {max-height: 0;max-width: 0;overflow: hidden;text-align: left;background-color: #f0f8ff;}#sk-container-id-1 div.sk-toggleable__content pre {margin: 0.2em;color: black;border-radius: 0.25em;background-color: #f0f8ff;}#sk-container-id-1 input.sk-toggleable__control:checked~div.sk-toggleable__content {max-height: 200px;max-width: 100%;overflow: auto;}#sk-container-id-1 input.sk-toggleable__control:checked~label.sk-toggleable__label-arrow:before {content: \"▾\";}#sk-container-id-1 div.sk-estimator input.sk-toggleable__control:checked~label.sk-toggleable__label {background-color: #d4ebff;}#sk-container-id-1 div.sk-label input.sk-toggleable__control:checked~label.sk-toggleable__label {background-color: #d4ebff;}#sk-container-id-1 input.sk-hidden--visually {border: 0;clip: rect(1px 1px 1px 1px);clip: rect(1px, 1px, 1px, 1px);height: 1px;margin: -1px;overflow: hidden;padding: 0;position: absolute;width: 1px;}#sk-container-id-1 div.sk-estimator {font-family: monospace;background-color: #f0f8ff;border: 1px dotted black;border-radius: 0.25em;box-sizing: border-box;margin-bottom: 0.5em;}#sk-container-id-1 div.sk-estimator:hover {background-color: #d4ebff;}#sk-container-id-1 div.sk-parallel-item::after {content: \"\";width: 100%;border-bottom: 1px solid gray;flex-grow: 1;}#sk-container-id-1 div.sk-label:hover label.sk-toggleable__label {background-color: #d4ebff;}#sk-container-id-1 div.sk-serial::before {content: \"\";position: absolute;border-left: 1px solid gray;box-sizing: border-box;top: 0;bottom: 0;left: 50%;z-index: 0;}#sk-container-id-1 div.sk-serial {display: flex;flex-direction: column;align-items: center;background-color: white;padding-right: 0.2em;padding-left: 0.2em;position: relative;}#sk-container-id-1 div.sk-item {position: relative;z-index: 1;}#sk-container-id-1 div.sk-parallel {display: flex;align-items: stretch;justify-content: center;background-color: white;position: relative;}#sk-container-id-1 div.sk-item::before, #sk-container-id-1 div.sk-parallel-item::before {content: \"\";position: absolute;border-left: 1px solid gray;box-sizing: border-box;top: 0;bottom: 0;left: 50%;z-index: -1;}#sk-container-id-1 div.sk-parallel-item {display: flex;flex-direction: column;z-index: 1;position: relative;background-color: white;}#sk-container-id-1 div.sk-parallel-item:first-child::after {align-self: flex-end;width: 50%;}#sk-container-id-1 div.sk-parallel-item:last-child::after {align-self: flex-start;width: 50%;}#sk-container-id-1 div.sk-parallel-item:only-child::after {width: 0;}#sk-container-id-1 div.sk-dashed-wrapped {border: 1px dashed gray;margin: 0 0.4em 0.5em 0.4em;box-sizing: border-box;padding-bottom: 0.4em;background-color: white;}#sk-container-id-1 div.sk-label label {font-family: monospace;font-weight: bold;display: inline-block;line-height: 1.2em;}#sk-container-id-1 div.sk-label-container {text-align: center;}#sk-container-id-1 div.sk-container {/* jupyter's `normalize.less` sets `[hidden] { display: none; }` but bootstrap.min.css set `[hidden] { display: none !important; }` so we also need the `!important` here to be able to override the default hidden behavior on the sphinx rendered scikit-learn.org. See: https://github.com/scikit-learn/scikit-learn/issues/21755 */display: inline-block !important;position: relative;}#sk-container-id-1 div.sk-text-repr-fallback {display: none;}</style><div id=\"sk-container-id-1\" class=\"sk-top-container\"><div class=\"sk-text-repr-fallback\"><pre>RandomForestClassifier(criterion=&#x27;entropy&#x27;, max_depth=4, n_estimators=80)</pre><b>In a Jupyter environment, please rerun this cell to show the HTML representation or trust the notebook. <br />On GitHub, the HTML representation is unable to render, please try loading this page with nbviewer.org.</b></div><div class=\"sk-container\" hidden><div class=\"sk-item\"><div class=\"sk-estimator sk-toggleable\"><input class=\"sk-toggleable__control sk-hidden--visually\" id=\"sk-estimator-id-1\" type=\"checkbox\" checked><label for=\"sk-estimator-id-1\" class=\"sk-toggleable__label sk-toggleable__label-arrow\">RandomForestClassifier</label><div class=\"sk-toggleable__content\"><pre>RandomForestClassifier(criterion=&#x27;entropy&#x27;, max_depth=4, n_estimators=80)</pre></div></div></div></div></div>"
      ],
      "text/plain": [
       "RandomForestClassifier(criterion='entropy', max_depth=4, n_estimators=80)"
      ]
     },
     "execution_count": 15,
     "metadata": {},
     "output_type": "execute_result"
    }
   ],
   "source": [
    "rf_classifier = RandomForestClassifier(n_estimators = 80, max_depth = 4, criterion = 'entropy')\n",
    "rf_classifier.fit(X_train, y_train)"
   ]
  },
  {
   "cell_type": "markdown",
   "id": "78b8141e-2f9e-48f8-957e-42e1b5f870f7",
   "metadata": {},
   "source": [
    "n_estimator is the number of trees and ideally the value of this paramater should not be less than 100 and max_depth helps us control the length of each tree in Random Forest"
   ]
  },
  {
   "cell_type": "code",
   "execution_count": 17,
   "id": "01e2e8b9-dce2-4176-b694-79588bbba4fa",
   "metadata": {},
   "outputs": [],
   "source": [
    "y_pred = rf_classifier.predict(X_test)"
   ]
  },
  {
   "cell_type": "code",
   "execution_count": 18,
   "id": "d328ca23-ed63-4f15-b4c1-5fda073ced7f",
   "metadata": {},
   "outputs": [
    {
     "data": {
      "text/plain": [
       "array([0, 0, 0, ..., 0, 0, 0], dtype=int64)"
      ]
     },
     "execution_count": 18,
     "metadata": {},
     "output_type": "execute_result"
    }
   ],
   "source": [
    "y_pred"
   ]
  },
  {
   "cell_type": "code",
   "execution_count": 19,
   "id": "f3917a08-f4ed-4da5-b152-28dbd5c1db81",
   "metadata": {},
   "outputs": [
    {
     "name": "stdout",
     "output_type": "stream",
     "text": [
      "28106    0\n",
      "35003    0\n",
      "30703    0\n",
      "52126    0\n",
      "10346    0\n",
      "        ..\n",
      "41295    0\n",
      "2599     0\n",
      "13820    0\n",
      "1323     0\n",
      "52787    0\n",
      "Name: Target, Length: 11258, dtype: int64\n"
     ]
    }
   ],
   "source": [
    "print(y_test)"
   ]
  },
  {
   "cell_type": "code",
   "execution_count": 20,
   "id": "b0cd0fdd-db70-4558-86fd-15d625db5871",
   "metadata": {},
   "outputs": [
    {
     "data": {
      "text/plain": [
       "0.9991117427607035"
      ]
     },
     "execution_count": 20,
     "metadata": {},
     "output_type": "execute_result"
    }
   ],
   "source": [
    "accuracy_score(y_pred, y_test)"
   ]
  },
  {
   "cell_type": "markdown",
   "id": "9c0ece94-1370-422c-bc25-065ba55c9181",
   "metadata": {},
   "source": [
    "**Accuracy is not a good metric to evaluate our model since the dataset is heavily imbalanced. Thus we will use roc_auc score and confusion matrix**"
   ]
  },
  {
   "cell_type": "code",
   "execution_count": 21,
   "id": "a35868c6-0536-4a89-b99f-0162693178c7",
   "metadata": {},
   "outputs": [
    {
     "data": {
      "text/plain": [
       "0.9282156832850538"
      ]
     },
     "execution_count": 21,
     "metadata": {},
     "output_type": "execute_result"
    }
   ],
   "source": [
    "roc_auc_score(y_pred, y_test)"
   ]
  },
  {
   "cell_type": "code",
   "execution_count": 22,
   "id": "10d093c1-0248-44c7-ad72-08468cd78737",
   "metadata": {},
   "outputs": [],
   "source": [
    "from sklearn.metrics import precision_score, recall_score"
   ]
  },
  {
   "cell_type": "code",
   "execution_count": 23,
   "id": "2f6987d3-99c2-49c1-bcc2-f6d8a1170302",
   "metadata": {},
   "outputs": [
    {
     "data": {
      "text/plain": [
       "0.6"
      ]
     },
     "execution_count": 23,
     "metadata": {},
     "output_type": "execute_result"
    }
   ],
   "source": [
    "precision_score(y_pred, y_test)"
   ]
  },
  {
   "cell_type": "code",
   "execution_count": 24,
   "id": "408c4fbe-378e-4e09-86fc-9e6e8d46a284",
   "metadata": {},
   "outputs": [
    {
     "data": {
      "text/plain": [
       "0.8571428571428571"
      ]
     },
     "execution_count": 24,
     "metadata": {},
     "output_type": "execute_result"
    }
   ],
   "source": [
    "recall_score(y_pred, y_test)"
   ]
  },
  {
   "cell_type": "markdown",
   "id": "9488606c-05bb-4fd5-96f4-497f880acb14",
   "metadata": {},
   "source": [
    "\n",
    "\n",
    "    0 - No fraud (Negative)\n",
    "    1 - fraud happened (Positive)\n",
    "\n"
   ]
  },
  {
   "cell_type": "markdown",
   "id": "4f304b13-427f-4235-8914-33784ed42f6c",
   "metadata": {},
   "source": [
    "\n",
    "\n",
    "    Precision: Appropriate when minimizing false positives is the focus.\n",
    "    Recall: Appropriate when minimizing false negatives is the focus.\n",
    "\n"
   ]
  },
  {
   "cell_type": "markdown",
   "id": "d1e9e57c-fb80-4147-a3fd-b2f803a9801d",
   "metadata": {},
   "source": [
    "\n",
    "\n",
    "    normal data - Accuracy score, rocaucscore, confusion matrix(precision score, recall score)\n",
    "    imbalanced data - rocaucscore, confusion matrix(precision score, recall score)\n",
    "\n"
   ]
  },
  {
   "cell_type": "markdown",
   "id": "e42e8e01-9004-4afb-93c3-c9f3dc528c13",
   "metadata": {},
   "source": [
    "Plot the variable importance"
   ]
  },
  {
   "cell_type": "code",
   "execution_count": 26,
   "id": "5be7d620-c5e6-4640-88f3-e18a84806b4b",
   "metadata": {},
   "outputs": [],
   "source": [
    "features = X_train.columns\n",
    "importances = rf_classifier.feature_importances_\n",
    "indices = np.argsort(importances)"
   ]
  },
  {
   "cell_type": "code",
   "execution_count": 27,
   "id": "7198e60e-626f-49a6-8c1c-ab5c6f7b7dbd",
   "metadata": {},
   "outputs": [
    {
     "data": {
      "image/png": "[encoded data removed]",
      "text/plain": [
       "<Figure size 800x800 with 1 Axes>"
      ]
     },
     "metadata": {},
     "output_type": "display_data"
    }
   ],
   "source": [
    "plt.title('Feature Importance')\n",
    "plt.barh(range(len(indices)), importances[indices], color='red', align='center')\n",
    "plt.yticks(range(len(indices)), [features[i] for i in indices])\n",
    "plt.xlabel('Relative Importance')\n",
    "\n",
    "plt.show()"
   ]
  },
  {
   "cell_type": "code",
   "execution_count": null,
   "id": "5d3415d3-0bf9-4f01-ba66-64f41ece9321",
   "metadata": {},
   "outputs": [],
   "source": []
  }
 ],
 "metadata": {
  "kernelspec": {
   "display_name": "Python 3 (ipykernel)",
   "language": "python",
   "name": "python3"
  },
  "language_info": {
   "codemirror_mode": {
    "name": "ipython",
    "version": 3
   },
   "file_extension": ".py",
   "mimetype": "text/x-python",
   "name": "python",
   "nbconvert_exporter": "python",
   "pygments_lexer": "ipython3",
   "version": "3.11.7"
  }
 },
 "nbformat": 4,
 "nbformat_minor": 5
}
