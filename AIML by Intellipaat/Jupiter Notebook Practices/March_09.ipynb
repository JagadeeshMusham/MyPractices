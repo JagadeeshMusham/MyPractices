{
 "cells": [
  {
   "cell_type": "code",
   "execution_count": 4,
   "id": "d52f7d0d-d9a7-4395-aab8-f6c518ed533c",
   "metadata": {},
   "outputs": [
    {
     "name": "stdout",
     "output_type": "stream",
     "text": [
      "Jagadeesh\n"
     ]
    }
   ],
   "source": [
    "print(name)"
   ]
  },
  {
   "cell_type": "code",
   "execution_count": 10,
   "id": "762baf01-4bbc-4b83-835a-70bc9c6d49ff",
   "metadata": {},
   "outputs": [],
   "source": [
    "name = \"Jagadeesh\"\n",
    "attendance = \"present\"\n",
    "uid = \"j123\"\n",
    "day = 9\n",
    "month = 3\n",
    "year = 2024\n",
    "test = 20 #t  = 20"
   ]
  },
  {
   "cell_type": "code",
   "execution_count": 8,
   "id": "4dddf34b-489a-4d7c-b847-f5ed83b3f37a",
   "metadata": {},
   "outputs": [
    {
     "name": "stdout",
     "output_type": "stream",
     "text": [
      "2024\n"
     ]
    }
   ],
   "source": [
    "print(year)"
   ]
  },
  {
   "cell_type": "code",
   "execution_count": 11,
   "id": "edd2a4ec-fef9-4a91-ba03-23ddbdc36de0",
   "metadata": {},
   "outputs": [
    {
     "name": "stdout",
     "output_type": "stream",
     "text": [
      "20\n"
     ]
    }
   ],
   "source": [
    "print(test)"
   ]
  },
  {
   "cell_type": "code",
   "execution_count": 2,
   "id": "00a6b1da-2304-4296-aba7-385e964a58ad",
   "metadata": {},
   "outputs": [
    {
     "name": "stdout",
     "output_type": "stream",
     "text": [
      "10 variable type is: <class 'str'>, 10 variable type is: <class 'int'>, 10 variable type is: <class 'str'>\n"
     ]
    }
   ],
   "source": [
    "a, b, c = '10', 10, \"10\"\n",
    "print(f\"{a} variable type is: {type(a)}, {b} variable type is: {type(b)}, {c} variable type is: {type(c)}\")\n"
   ]
  },
  {
   "cell_type": "code",
   "execution_count": 3,
   "id": "f7e9273a-9bf2-4c47-a072-ec1195b94ff0",
   "metadata": {},
   "outputs": [
    {
     "name": "stdout",
     "output_type": "stream",
     "text": [
      "1 2 3\n"
     ]
    }
   ],
   "source": [
    "def test():\n",
    "    return 1,2,3\n",
    "\n",
    "a, b, c = test();\n",
    "\n",
    "print(a, b, c)\n"
   ]
  },
  {
   "cell_type": "code",
   "execution_count": null,
   "id": "aa080e50-38ef-42a1-b3f2-7fa3070ea8cf",
   "metadata": {},
   "outputs": [],
   "source": []
  }
 ],
 "metadata": {
  "kernelspec": {
   "display_name": "Python 3 (ipykernel)",
   "language": "python",
   "name": "python3"
  },
  "language_info": {
   "codemirror_mode": {
    "name": "ipython",
    "version": 3
   },
   "file_extension": ".py",
   "mimetype": "text/x-python",
   "name": "python",
   "nbconvert_exporter": "python",
   "pygments_lexer": "ipython3",
   "version": "3.11.7"
  }
 },
 "nbformat": 4,
 "nbformat_minor": 5
}
