{
 "cells": [
  {
   "cell_type": "code",
   "execution_count": 3,
   "id": "6f8d3cd8-062b-45f1-bf8a-8e17fa58dd35",
   "metadata": {},
   "outputs": [],
   "source": [
    "a = {1, 3, 5, 7}"
   ]
  },
  {
   "cell_type": "code",
   "execution_count": 6,
   "id": "df483346-5e07-481d-ac91-6a1f223b1d3d",
   "metadata": {},
   "outputs": [
    {
     "data": {
      "text/plain": [
       "(set, set)"
      ]
     },
     "execution_count": 6,
     "metadata": {},
     "output_type": "execute_result"
    }
   ],
   "source": [
    "type(a), type(b)"
   ]
  },
  {
   "cell_type": "code",
   "execution_count": 5,
   "id": "c65c811e-71c2-4db3-8c6a-ea5084d253f2",
   "metadata": {},
   "outputs": [],
   "source": [
    "b = {1, 2, 5, 9}"
   ]
  },
  {
   "cell_type": "code",
   "execution_count": 9,
   "id": "21ae639f-89c3-4b4b-8074-2df558aedd90",
   "metadata": {},
   "outputs": [
    {
     "data": {
      "text/plain": [
       "{1, 2, 3, 5, 7, 9}"
      ]
     },
     "execution_count": 9,
     "metadata": {},
     "output_type": "execute_result"
    }
   ],
   "source": [
    "a.union(b)"
   ]
  },
  {
   "cell_type": "code",
   "execution_count": 10,
   "id": "2b4147f1-7414-4eaf-9fb0-7597c8437ef5",
   "metadata": {},
   "outputs": [
    {
     "data": {
      "text/plain": [
       "{1, 5}"
      ]
     },
     "execution_count": 10,
     "metadata": {},
     "output_type": "execute_result"
    }
   ],
   "source": [
    "a.intersection(b)"
   ]
  },
  {
   "cell_type": "code",
   "execution_count": 11,
   "id": "c53f679a-4e7a-4feb-9d71-26f668eb7173",
   "metadata": {},
   "outputs": [
    {
     "data": {
      "text/plain": [
       "{3, 7}"
      ]
     },
     "execution_count": 11,
     "metadata": {},
     "output_type": "execute_result"
    }
   ],
   "source": [
    "a.difference(b)\n"
   ]
  },
  {
   "cell_type": "code",
   "execution_count": 12,
   "id": "b328554f-0f2c-4f06-bd06-73e3593fe690",
   "metadata": {},
   "outputs": [],
   "source": [
    "name = \"Himanshu\"\n",
    "name2 = 'Himanshu'\n",
    "name3 = '''Himanshu'''"
   ]
  },
  {
   "cell_type": "code",
   "execution_count": 13,
   "id": "0abd2b00-c546-4b3d-b623-c5fc5d5bfdf8",
   "metadata": {},
   "outputs": [
    {
     "ename": "NameError",
     "evalue": "name 'name1' is not defined",
     "output_type": "error",
     "traceback": [
      "\u001b[1;31m---------------------------------------------------------------------------\u001b[0m",
      "\u001b[1;31mNameError\u001b[0m                                 Traceback (most recent call last)",
      "Cell \u001b[1;32mIn[13], line 1\u001b[0m\n\u001b[1;32m----> 1\u001b[0m \u001b[38;5;28mprint\u001b[39m(name, name1, name2)\n",
      "\u001b[1;31mNameError\u001b[0m: name 'name1' is not defined"
     ]
    }
   ],
   "source": [
    "print(name, name1, name2)"
   ]
  },
  {
   "cell_type": "code",
   "execution_count": 20,
   "id": "443f71d3-834d-4e98-bf75-551dfff1743f",
   "metadata": {},
   "outputs": [
    {
     "name": "stdout",
     "output_type": "stream",
     "text": [
      "hello\n",
      "world\n",
      "whelloohellorhellolhellod\n",
      "t\n"
     ]
    }
   ],
   "source": [
    "str1 = 'hello'\n",
    "str2 = 'world'\n",
    "print(str1)\n",
    "print(str2)\n",
    "string = 't'\n",
    "print(str1.join(str2))\n",
    "print(string)  # Output: hello world"
   ]
  },
  {
   "cell_type": "code",
   "execution_count": 24,
   "id": "e4488812-3742-43a0-b34e-33adbcec32e1",
   "metadata": {},
   "outputs": [
    {
     "name": "stdout",
     "output_type": "stream",
     "text": [
      "{'o', 'l', 'e', 'h'}\n"
     ]
    }
   ],
   "source": [
    "my_string = \"hello\"\n",
    "my_list = set(my_string)\n",
    "print(my_list)  # Output: ['h', 'e', 'l', 'l', 'o']"
   ]
  },
  {
   "cell_type": "code",
   "execution_count": 27,
   "id": "4ccd4031-e2f7-4215-b445-e8dfb3983246",
   "metadata": {},
   "outputs": [],
   "source": [
    "text = 'India\"s Mangoes are very famous'"
   ]
  },
  {
   "cell_type": "code",
   "execution_count": 28,
   "id": "54fccaae-2ff4-496f-a24d-36bebede5cad",
   "metadata": {},
   "outputs": [
    {
     "name": "stdout",
     "output_type": "stream",
     "text": [
      "India\"s Mangoes are very famous\n"
     ]
    }
   ],
   "source": [
    "print(text)"
   ]
  },
  {
   "cell_type": "code",
   "execution_count": 30,
   "id": "30f6a20e-16dd-43b3-bd49-98e2218f3710",
   "metadata": {},
   "outputs": [
    {
     "name": "stdout",
     "output_type": "stream",
     "text": [
      "10\n"
     ]
    }
   ],
   "source": [
    "x = 10\n",
    "y = 20\n",
    "\n",
    "print (x if x>y else y)"
   ]
  },
  {
   "cell_type": "code",
   "execution_count": null,
   "id": "7b4b04c4-660b-421d-9e9f-d85c420eb7e5",
   "metadata": {},
   "outputs": [],
   "source": []
  }
 ],
 "metadata": {
  "kernelspec": {
   "display_name": "Python 3 (ipykernel)",
   "language": "python",
   "name": "python3"
  },
  "language_info": {
   "codemirror_mode": {
    "name": "ipython",
    "version": 3
   },
   "file_extension": ".py",
   "mimetype": "text/x-python",
   "name": "python",
   "nbconvert_exporter": "python",
   "pygments_lexer": "ipython3",
   "version": "3.11.7"
  }
 },
 "nbformat": 4,
 "nbformat_minor": 5
}
