{
 "cells": [
  {
   "cell_type": "code",
   "execution_count": 5,
   "id": "19215b3d-2d4f-4b7b-8677-1a79af777d51",
   "metadata": {},
   "outputs": [
    {
     "ename": "SyntaxError",
     "evalue": "invalid syntax (1976723231.py, line 3)",
     "output_type": "error",
     "traceback": [
      "\u001b[1;36m  Cell \u001b[1;32mIn[5], line 3\u001b[1;36m\u001b[0m\n\u001b[1;33m    print(square) for square in squares_iterator\u001b[0m\n\u001b[1;37m                  ^\u001b[0m\n\u001b[1;31mSyntaxError\u001b[0m\u001b[1;31m:\u001b[0m invalid syntax\n"
     ]
    }
   ],
   "source": [
    "# Generator expression\n",
    "squares_iterator = (x ** 2 for x in range(5))\n",
    "print(square) for square in squares_iterator\n",
    "\n",
    "#print(squares_iterator)\n",
    "\n",
    "# Accessing elements of the generator\n",
    "for square in squares_iterator:\n",
    "    print(square)"
   ]
  },
  {
   "cell_type": "markdown",
   "id": "ad85ef80-ce72-4e8d-a09e-2ae64c8cd85d",
   "metadata": {},
   "source": [
    "Functions"
   ]
  },
  {
   "cell_type": "code",
   "execution_count": 12,
   "id": "089bb4da-5f4a-40a1-8d95-e9d430552f77",
   "metadata": {},
   "outputs": [],
   "source": [
    "def sum(a, b):\n",
    "    return a+b"
   ]
  },
  {
   "cell_type": "code",
   "execution_count": 10,
   "id": "cd0758a3-7421-4e57-a67b-40c2c89fce00",
   "metadata": {},
   "outputs": [],
   "source": [
    "c = sum(3, 4)"
   ]
  },
  {
   "cell_type": "code",
   "execution_count": 11,
   "id": "e0732508-50bd-44b0-a682-59c025f4d2ac",
   "metadata": {},
   "outputs": [
    {
     "name": "stdout",
     "output_type": "stream",
     "text": [
      "7\n"
     ]
    }
   ],
   "source": [
    "print(c)"
   ]
  },
  {
   "cell_type": "markdown",
   "id": "b7356aa5-658a-4f43-a340-e118731d52fa",
   "metadata": {},
   "source": [
    "test"
   ]
  },
  {
   "cell_type": "raw",
   "id": "c27f555c-881b-446d-b398-4c82ea59b885",
   "metadata": {},
   "source": [
    "test"
   ]
  },
  {
   "cell_type": "code",
   "execution_count": 16,
   "id": "04ad2c90-893e-44b2-ac58-595deef41ee5",
   "metadata": {},
   "outputs": [],
   "source": [
    "def multiplication_table(num):\n",
    "    for i in range(1,11):\n",
    "        print(f\"{num} * {i} = {num*i}\")\n",
    "\n"
   ]
  },
  {
   "cell_type": "code",
   "execution_count": 17,
   "id": "4f864449-26c8-48e0-80b0-74c3c4f331a5",
   "metadata": {},
   "outputs": [
    {
     "name": "stdout",
     "output_type": "stream",
     "text": [
      "7 * 1 = 7\n",
      "7 * 2 = 14\n",
      "7 * 3 = 21\n",
      "7 * 4 = 28\n",
      "7 * 5 = 35\n",
      "7 * 6 = 42\n",
      "7 * 7 = 49\n",
      "7 * 8 = 56\n",
      "7 * 9 = 63\n",
      "7 * 10 = 70\n"
     ]
    }
   ],
   "source": [
    "multiplication_table(7)"
   ]
  },
  {
   "cell_type": "code",
   "execution_count": 18,
   "id": "ff7e37b9-dc68-4807-89dd-dca13ba62a90",
   "metadata": {},
   "outputs": [
    {
     "name": "stdout",
     "output_type": "stream",
     "text": [
      "127 * 1 = 127\n",
      "127 * 2 = 254\n",
      "127 * 3 = 381\n",
      "127 * 4 = 508\n",
      "127 * 5 = 635\n",
      "127 * 6 = 762\n",
      "127 * 7 = 889\n",
      "127 * 8 = 1016\n",
      "127 * 9 = 1143\n",
      "127 * 10 = 1270\n"
     ]
    }
   ],
   "source": [
    "multiplication_table(127)"
   ]
  },
  {
   "cell_type": "code",
   "execution_count": 21,
   "id": "00bcf1c5-ee8a-42b5-b889-cd6dfab4649a",
   "metadata": {},
   "outputs": [],
   "source": [
    "class Car:\n",
    "    def drive(self):\n",
    "        pass\n",
    "\n",
    "class Maruti(Car):\n",
    "    def drive(self):\n",
    "        return \"Automated driving\"\n",
    "\n",
    "class Ford(Car):\n",
    "    def drive(self):\n",
    "        return \"Manual driving\"\n",
    "\n",
    "# Creating instances of subclasses\n",
    "my_maruti = Maruti()\n",
    "my_ford = Ford()\n",
    "\n"
   ]
  },
  {
   "cell_type": "code",
   "execution_count": 23,
   "id": "8bfbb7e5-fee5-41d4-aaa5-6a241c48324f",
   "metadata": {},
   "outputs": [
    {
     "name": "stdout",
     "output_type": "stream",
     "text": [
      "Automated driving\n"
     ]
    }
   ],
   "source": [
    "print(my_maruti.drive())"
   ]
  },
  {
   "cell_type": "code",
   "execution_count": 24,
   "id": "065ed211-76fb-4080-9827-5d4506ecbcc2",
   "metadata": {},
   "outputs": [
    {
     "name": "stdout",
     "output_type": "stream",
     "text": [
      "Manual driving\n"
     ]
    }
   ],
   "source": [
    "print(my_ford.drive())"
   ]
  },
  {
   "cell_type": "code",
   "execution_count": 32,
   "id": "c5f52af3-4c73-4fe4-ac97-3afc0bb41546",
   "metadata": {},
   "outputs": [],
   "source": [
    "students = [ [\"abc\", 50],\n",
    "           [\"xyz\", 70] ]\n",
    "\n",
    "def getmarksAndName(studentName):\n",
    "    for student in students:\n",
    "        if student[0] == studentName:\n",
    "            return student[0], student[1]\n",
    "    else:\n",
    "        return f\"No student information {studentName} found\"\n",
    "\n"
   ]
  },
  {
   "cell_type": "code",
   "execution_count": 35,
   "id": "6a8ea5af-7510-4141-8319-6807fd2973b5",
   "metadata": {},
   "outputs": [
    {
     "name": "stdout",
     "output_type": "stream",
     "text": [
      "('abc', 50)\n"
     ]
    }
   ],
   "source": [
    "print(getmarksAndName(\"abc\"))"
   ]
  },
  {
   "cell_type": "code",
   "execution_count": 34,
   "id": "a663cb2c-cf1b-4615-a8ee-1f0b47bbe12c",
   "metadata": {},
   "outputs": [
    {
     "name": "stdout",
     "output_type": "stream",
     "text": [
      "No student information tt found\n"
     ]
    }
   ],
   "source": [
    "print(getmarksAndName(\"tt\"))"
   ]
  },
  {
   "cell_type": "markdown",
   "id": "5e043677-6173-4809-bf8d-326266133a8b",
   "metadata": {},
   "source": [
    "Global vs Local"
   ]
  },
  {
   "cell_type": "code",
   "execution_count": 43,
   "id": "8efa89c8-8587-449f-9c6b-b665825c12e6",
   "metadata": {},
   "outputs": [
    {
     "name": "stdout",
     "output_type": "stream",
     "text": [
      "My name is Jagadeesh and age is 30 \n"
     ]
    }
   ],
   "source": [
    "age = 40\n",
    "\n",
    "def printName(name):\n",
    "    age = 30\n",
    "    print(f\"My name is {name} and age is {age} \")\n",
    "\n",
    "printName(\"Jagadeesh\")"
   ]
  },
  {
   "cell_type": "code",
   "execution_count": 44,
   "id": "649d10a0-7759-4e01-bb7e-eed4ab8e737b",
   "metadata": {},
   "outputs": [
    {
     "name": "stdout",
     "output_type": "stream",
     "text": [
      "40\n"
     ]
    }
   ],
   "source": [
    " print(age)"
   ]
  },
  {
   "cell_type": "code",
   "execution_count": 50,
   "id": "e9af1918-0576-4533-89d0-142b1abcd47f",
   "metadata": {},
   "outputs": [
    {
     "name": "stdout",
     "output_type": "stream",
     "text": [
      "Inside function y: 20\n"
     ]
    },
    {
     "ename": "UnboundLocalError",
     "evalue": "cannot access local variable 'x' where it is not associated with a value",
     "output_type": "error",
     "traceback": [
      "\u001b[1;31m---------------------------------------------------------------------------\u001b[0m",
      "\u001b[1;31mUnboundLocalError\u001b[0m                         Traceback (most recent call last)",
      "Cell \u001b[1;32mIn[50], line 13\u001b[0m\n\u001b[0;32m      9\u001b[0m     x \u001b[38;5;241m=\u001b[39m \u001b[38;5;241m300\u001b[39m\n\u001b[0;32m     10\u001b[0m     \u001b[38;5;28mprint\u001b[39m(\u001b[38;5;124m\"\u001b[39m\u001b[38;5;124mInside function x:\u001b[39m\u001b[38;5;124m\"\u001b[39m, x) \u001b[38;5;66;03m# Output: 300\u001b[39;00m\n\u001b[1;32m---> 13\u001b[0m my_function()\n\u001b[0;32m     14\u001b[0m \u001b[38;5;28mprint\u001b[39m(\u001b[38;5;124m\"\u001b[39m\u001b[38;5;124mOutside function y:\u001b[39m\u001b[38;5;124m\"\u001b[39m, y)  \u001b[38;5;66;03m# Output: 30\u001b[39;00m\n\u001b[0;32m     15\u001b[0m \u001b[38;5;28mprint\u001b[39m(\u001b[38;5;124m\"\u001b[39m\u001b[38;5;124mOutside function x:\u001b[39m\u001b[38;5;124m\"\u001b[39m, x)\n",
      "Cell \u001b[1;32mIn[50], line 8\u001b[0m, in \u001b[0;36mmy_function\u001b[1;34m()\u001b[0m\n\u001b[0;32m      6\u001b[0m \u001b[38;5;28mprint\u001b[39m(\u001b[38;5;124m\"\u001b[39m\u001b[38;5;124mInside function y:\u001b[39m\u001b[38;5;124m\"\u001b[39m, y)\n\u001b[0;32m      7\u001b[0m y \u001b[38;5;241m=\u001b[39m \u001b[38;5;241m30\u001b[39m  \u001b[38;5;66;03m# Modifying global variable\u001b[39;00m\n\u001b[1;32m----> 8\u001b[0m \u001b[38;5;28mprint\u001b[39m(\u001b[38;5;124m\"\u001b[39m\u001b[38;5;124mInside function x:\u001b[39m\u001b[38;5;124m\"\u001b[39m, x) \u001b[38;5;66;03m# Output: 200\u001b[39;00m\n\u001b[0;32m      9\u001b[0m x \u001b[38;5;241m=\u001b[39m \u001b[38;5;241m300\u001b[39m\n\u001b[0;32m     10\u001b[0m \u001b[38;5;28mprint\u001b[39m(\u001b[38;5;124m\"\u001b[39m\u001b[38;5;124mInside function x:\u001b[39m\u001b[38;5;124m\"\u001b[39m, x)\n",
      "\u001b[1;31mUnboundLocalError\u001b[0m: cannot access local variable 'x' where it is not associated with a value"
     ]
    }
   ],
   "source": [
    "y = 20  # Global variable\n",
    "x = 200\n",
    "\n",
    "def my_function():\n",
    "    global y  # Declaring y as global\n",
    "    print(\"Inside function y:\", y)\n",
    "    y = 30  # Modifying global variable\n",
    "    print(\"Inside function x:\", x) # Output: 200\n",
    "    x = 300\n",
    "    print(\"Inside function x:\", x) # Output: 300\n",
    "    \n",
    "\n",
    "my_function()\n",
    "print(\"Outside function y:\", y)  # Output: 30\n",
    "print(\"Outside function x:\", x)  # Output: 200"
   ]
  },
  {
   "cell_type": "code",
   "execution_count": null,
   "id": "81aeb10b-524e-4681-b771-b5bfd3c3a5fa",
   "metadata": {},
   "outputs": [],
   "source": []
  }
 ],
 "metadata": {
  "kernelspec": {
   "display_name": "Python 3 (ipykernel)",
   "language": "python",
   "name": "python3"
  },
  "language_info": {
   "codemirror_mode": {
    "name": "ipython",
    "version": 3
   },
   "file_extension": ".py",
   "mimetype": "text/x-python",
   "name": "python",
   "nbconvert_exporter": "python",
   "pygments_lexer": "ipython3",
   "version": "3.11.7"
  }
 },
 "nbformat": 4,
 "nbformat_minor": 5
}
