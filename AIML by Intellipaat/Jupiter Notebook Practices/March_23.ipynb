{
 "cells": [
  {
   "cell_type": "code",
   "execution_count": 1,
   "id": "2b4162e3-bada-4a92-9bf1-7962a276dcd1",
   "metadata": {},
   "outputs": [
    {
     "name": "stdout",
     "output_type": "stream",
     "text": [
      "5\n",
      "4\n",
      "3\n",
      "2\n",
      "1\n"
     ]
    }
   ],
   "source": [
    "def countdown(n):\n",
    "    while n > 0:\n",
    "        yield n\n",
    "        n -= 1\n",
    "\n",
    "# Creating a generator object\n",
    "generator = countdown(5)\n",
    "\n",
    "# Iterating over the generator to retrieve values\n",
    "for value in generator:\n",
    "    print(value)"
   ]
  },
  {
   "cell_type": "code",
   "execution_count": 2,
   "id": "2d6bcc00-9f8f-42e9-b596-610219966065",
   "metadata": {},
   "outputs": [
    {
     "name": "stdout",
     "output_type": "stream",
     "text": [
      "<generator object countdown at 0x0000026B711F1780>\n"
     ]
    }
   ],
   "source": [
    "print(generator)"
   ]
  },
  {
   "cell_type": "code",
   "execution_count": 3,
   "id": "b0ae1e13-b0a5-47a5-916e-91ce4bd72f6a",
   "metadata": {},
   "outputs": [
    {
     "ename": "StopIteration",
     "evalue": "",
     "output_type": "error",
     "traceback": [
      "\u001b[1;31m---------------------------------------------------------------------------\u001b[0m",
      "\u001b[1;31mStopIteration\u001b[0m                             Traceback (most recent call last)",
      "Cell \u001b[1;32mIn[3], line 1\u001b[0m\n\u001b[1;32m----> 1\u001b[0m \u001b[38;5;28mnext\u001b[39m(generator)\n",
      "\u001b[1;31mStopIteration\u001b[0m: "
     ]
    }
   ],
   "source": [
    "next(generator)"
   ]
  },
  {
   "cell_type": "code",
   "execution_count": 15,
   "id": "d3d9b78f-7145-4975-82c1-10aa422f796d",
   "metadata": {},
   "outputs": [],
   "source": [
    "student_info = {\n",
    "    \"abc\" : 50, \"def\" : 60, \"ghi\" : 70, \"ijk\" : 80, \"lmn\" : 90\n",
    "}"
   ]
  },
  {
   "cell_type": "code",
   "execution_count": 16,
   "id": "3534b348-8d81-4a33-b5ef-dbdf0dc793b7",
   "metadata": {},
   "outputs": [],
   "source": [
    "def information_generator(student_info) :\n",
    "    for name, marks in student_info.items():\n",
    "        yield(name, marks);"
   ]
  },
  {
   "cell_type": "code",
   "execution_count": 17,
   "id": "98e7c600-1681-4980-bd32-8f4a88f06976",
   "metadata": {},
   "outputs": [],
   "source": [
    "student_generator = information_generator(student_info)"
   ]
  },
  {
   "cell_type": "code",
   "execution_count": 20,
   "id": "941099ff-ea0e-4716-b6db-2c22143d8698",
   "metadata": {},
   "outputs": [
    {
     "data": {
      "text/plain": [
       "('ghi', 70)"
      ]
     },
     "execution_count": 20,
     "metadata": {},
     "output_type": "execute_result"
    }
   ],
   "source": [
    "next(student_generator)"
   ]
  },
  {
   "cell_type": "code",
   "execution_count": 2,
   "id": "ba8eefde-d1c2-47e2-8c7d-ed735613a007",
   "metadata": {},
   "outputs": [],
   "source": [
    "import maths"
   ]
  },
  {
   "cell_type": "code",
   "execution_count": 8,
   "id": "011be3c9-7e7b-491c-b20a-969219b2f70b",
   "metadata": {},
   "outputs": [
    {
     "data": {
      "text/plain": [
       "-1"
      ]
     },
     "execution_count": 8,
     "metadata": {},
     "output_type": "execute_result"
    }
   ],
   "source": [
    "maths.subtract(5, 6)"
   ]
  },
  {
   "cell_type": "raw",
   "id": "bdc89822-45ba-4c35-9bb7-89d75c5342a7",
   "metadata": {},
   "source": [
    "import maths as m"
   ]
  },
  {
   "cell_type": "code",
   "execution_count": 9,
   "id": "b6c9e706-150b-45f3-ab6a-d8453b0c4795",
   "metadata": {},
   "outputs": [
    {
     "data": {
      "text/plain": [
       "5"
      ]
     },
     "execution_count": 9,
     "metadata": {},
     "output_type": "execute_result"
    }
   ],
   "source": [
    "import maths as m\n",
    "m.subtract(7,2)"
   ]
  },
  {
   "cell_type": "code",
   "execution_count": 5,
   "id": "db238202-1fa3-464a-8755-c4da7b20981c",
   "metadata": {},
   "outputs": [],
   "source": [
    "from maths import *"
   ]
  },
  {
   "cell_type": "code",
   "execution_count": 6,
   "id": "d28ba008-08b1-4151-b8ad-5a71973a5868",
   "metadata": {},
   "outputs": [
    {
     "data": {
      "text/plain": [
       "5"
      ]
     },
     "execution_count": 6,
     "metadata": {},
     "output_type": "execute_result"
    }
   ],
   "source": [
    "subtract(7,2)"
   ]
  },
  {
   "cell_type": "code",
   "execution_count": 10,
   "id": "bdf45d2d-81d5-4bea-85e8-cf392e30e6fc",
   "metadata": {},
   "outputs": [],
   "source": [
    "import my_module"
   ]
  },
  {
   "cell_type": "code",
   "execution_count": 11,
   "id": "5dd686c8-2c38-4aff-93bb-98bee91216a4",
   "metadata": {},
   "outputs": [
    {
     "name": "stdout",
     "output_type": "stream",
     "text": [
      "Hello, Alice!\n",
      "8\n",
      "3.14159\n"
     ]
    }
   ],
   "source": [
    "print(my_module.greet(\"Alice\"))  # Output: Hello, Alice!\n",
    "print(my_module.add(3, 5))        # Output: 8\n",
    "print(my_module.pi)               # Output: 3.14159"
   ]
  },
  {
   "cell_type": "code",
   "execution_count": 12,
   "id": "b6cc2a09-5bdf-470f-b5d3-e86d4b0aa306",
   "metadata": {},
   "outputs": [
    {
     "name": "stdout",
     "output_type": "stream",
     "text": [
      "Hello, Bob!\n",
      "3.14159\n"
     ]
    }
   ],
   "source": [
    "# Importing specific functions and variables from the module\n",
    "from my_module import greet, pi\n",
    "\n",
    "# Using the imported functions and variables directly\n",
    "print(greet(\"Bob\"))  # Output: Hello, Bob!\n",
    "print(pi)             # Output: 3.14159\n"
   ]
  },
  {
   "cell_type": "code",
   "execution_count": 13,
   "id": "359cd368-c8be-4d88-a93e-6eb1e6da0fea",
   "metadata": {},
   "outputs": [
    {
     "name": "stdout",
     "output_type": "stream",
     "text": [
      "Hello, Charlie!\n"
     ]
    }
   ],
   "source": [
    "# Importing a module with a different name\n",
    "import my_module as mm\n",
    "\n",
    "# Using the module with the new name\n",
    "print(mm.greet(\"Charlie\"))  # Output: Hello, Charlie!\n"
   ]
  },
  {
   "cell_type": "code",
   "execution_count": 14,
   "id": "9b120ed5-d937-4743-8a26-eaedf794c7bc",
   "metadata": {},
   "outputs": [
    {
     "name": "stdout",
     "output_type": "stream",
     "text": [
      "Help on module my_module:\n",
      "\n",
      "NAME\n",
      "    my_module - # my_module.py\n",
      "\n",
      "FUNCTIONS\n",
      "    add(a, b)\n",
      "    \n",
      "    greet(name)\n",
      "\n",
      "DATA\n",
      "    pi = 3.14159\n",
      "\n",
      "FILE\n",
      "    c:\\users\\windows 10\\my_module.py\n",
      "\n",
      "\n",
      "None\n",
      "Help on function greet in module my_module:\n",
      "\n",
      "greet(name)\n",
      "\n",
      "None\n"
     ]
    }
   ],
   "source": [
    "# Accessing module documentation\n",
    "print(help(my_module))\n",
    "\n",
    "# Accessing function documentation\n",
    "print(help(my_module.greet))"
   ]
  },
  {
   "cell_type": "code",
   "execution_count": 15,
   "id": "70ead66c-e1bf-487b-8ee9-c68235327094",
   "metadata": {},
   "outputs": [],
   "source": [
    "import my_module as mod1"
   ]
  },
  {
   "cell_type": "code",
   "execution_count": 16,
   "id": "1288becf-7404-447c-9dde-587d3bb98b83",
   "metadata": {},
   "outputs": [
    {
     "data": {
      "text/plain": [
       "11"
      ]
     },
     "execution_count": 16,
     "metadata": {},
     "output_type": "execute_result"
    }
   ],
   "source": [
    "mod1.add(5,6)"
   ]
  },
  {
   "cell_type": "code",
   "execution_count": 17,
   "id": "15a77c9b-3078-4b7e-95ed-a86677f32281",
   "metadata": {},
   "outputs": [],
   "source": [
    "import maths as m"
   ]
  },
  {
   "cell_type": "code",
   "execution_count": 18,
   "id": "237e124e-d0a0-4169-afa6-25bf4c72266e",
   "metadata": {},
   "outputs": [
    {
     "data": {
      "text/plain": [
       "10"
      ]
     },
     "execution_count": 18,
     "metadata": {},
     "output_type": "execute_result"
    }
   ],
   "source": [
    "m.adition(3,7)"
   ]
  },
  {
   "cell_type": "markdown",
   "id": "dfdd2a1e-72d8-42e9-9732-8f20cb6fd5f4",
   "metadata": {},
   "source": [
    "Classes"
   ]
  },
  {
   "cell_type": "code",
   "execution_count": 22,
   "id": "61505a31-a28a-4bb7-8d35-aac7162ae1f3",
   "metadata": {},
   "outputs": [],
   "source": [
    "class Student:\n",
    "    name = \"ABC\"\n",
    "    marks = 80\n",
    "\n"
   ]
  },
  {
   "cell_type": "code",
   "execution_count": 24,
   "id": "f79be214-071a-4fba-b4a5-7acca830ce27",
   "metadata": {},
   "outputs": [],
   "source": [
    "student = Student()"
   ]
  },
  {
   "cell_type": "code",
   "execution_count": 25,
   "id": "c9921afc-03c5-4638-be6d-c56f10cb2fea",
   "metadata": {},
   "outputs": [
    {
     "name": "stdout",
     "output_type": "stream",
     "text": [
      "80\n"
     ]
    }
   ],
   "source": [
    "print(student.marks)"
   ]
  },
  {
   "cell_type": "code",
   "execution_count": 26,
   "id": "94628641-7d01-4473-ac40-6973225a3ef4",
   "metadata": {},
   "outputs": [
    {
     "name": "stdout",
     "output_type": "stream",
     "text": [
      "<__main__.Student object at 0x000001F20B494710>\n"
     ]
    }
   ],
   "source": [
    "print(student)"
   ]
  },
  {
   "cell_type": "code",
   "execution_count": 63,
   "id": "b721bc13-0df0-48f7-8cdf-97176cb80391",
   "metadata": {},
   "outputs": [],
   "source": [
    "class StudentInfo:\n",
    "    def __init__(self, name, marks):\n",
    "        self.name = name\n",
    "        self.marks = marks\n",
    "\n",
    "    def displayValues(self):\n",
    "        print(f\"{self.name} --> {self.marks}\")\n",
    "        print(\"{name} --> {value}\")"
   ]
  },
  {
   "cell_type": "code",
   "execution_count": 64,
   "id": "451c94df-0aa9-4aef-9804-6fc312b47a08",
   "metadata": {},
   "outputs": [
    {
     "name": "stdout",
     "output_type": "stream",
     "text": [
      "abc --> 30\n",
      "{name} --> {value}\n",
      "\n",
      "xyz --> 40\n",
      "{name} --> {value}\n"
     ]
    }
   ],
   "source": [
    "st1 = StudentInfo(\"abc\", 30)\n",
    "st2 = StudentInfo(\"xyz\", 40)\n",
    "\n",
    "st1.displayValues()\n",
    "print()\n",
    "st2.displayValues()"
   ]
  },
  {
   "cell_type": "code",
   "execution_count": 82,
   "id": "013b3eea-1da2-4b65-b1d4-437589af0351",
   "metadata": {},
   "outputs": [],
   "source": [
    "class Person:\n",
    "    def __init__(self, name):\n",
    "        self.name = name\n",
    "        \n",
    "    def displayName(self):\n",
    "        print(f\"The person name is: {name}\")\n",
    "        "
   ]
  },
  {
   "cell_type": "code",
   "execution_count": 92,
   "id": "2f8a0a4e-a63d-4c40-972d-8fc712968806",
   "metadata": {},
   "outputs": [],
   "source": [
    "class Employee(Person):\n",
    "    def __init__(self, empName, empNo):\n",
    "        super().__init__(empName)\n",
    "        self.empNo = empNo\n",
    "        self.__privateVariable = 50\n",
    "        \n",
    "\n",
    "    def displayEmployee(self):\n",
    "        print(\"Display Method\")\n",
    "        print(f\"{self.name} --> {self.empNo}\")"
   ]
  },
  {
   "cell_type": "code",
   "execution_count": 93,
   "id": "2c1caa6e-18a4-468f-a1f2-bc1adde2b658",
   "metadata": {},
   "outputs": [
    {
     "name": "stdout",
     "output_type": "stream",
     "text": [
      "Display Method\n",
      "ABC --> 70\n"
     ]
    }
   ],
   "source": [
    "emp = Employee(\"ABC\", 70)\n",
    "emp.displayEmployee()"
   ]
  },
  {
   "cell_type": "code",
   "execution_count": 94,
   "id": "2d4ce8de-7c14-4f36-be96-16c3790a3adb",
   "metadata": {},
   "outputs": [
    {
     "name": "stdout",
     "output_type": "stream",
     "text": [
      "Radius: 5\n",
      "Radius after setting: 7\n",
      "Area: 153.86\n"
     ]
    }
   ],
   "source": [
    "class Circle:\n",
    "    def __init__(self, radius):\n",
    "        self.__radius = radius  # Private instance attribute\n",
    "\n",
    "    def get_radius(self):\n",
    "        return self.__radius  # Getter method for radius\n",
    "\n",
    "    def set_radius(self, radius):\n",
    "        if radius > 0:\n",
    "            self.__radius = radius  # Setter method for radius\n",
    "\n",
    "    def area(self):\n",
    "        return 3.14 * self.__radius ** 2\n",
    "\n",
    "# Creating an instance of the Circle class\n",
    "circle = Circle(5)\n",
    "\n",
    "# Accessing private variable indirectly using getter method\n",
    "print(\"Radius:\", circle.get_radius())  # Output: Radius: 5\n",
    "\n",
    "# Trying to access private variable directly\n",
    "# This will result in an AttributeError\n",
    "# print(\"Radius:\", circle.__radius)\n",
    "\n",
    "# Modifying private variable indirectly using setter method\n",
    "circle.set_radius(7)\n",
    "print(\"Radius after setting:\", circle.get_radius())  # Output: Radius after setting: 7\n",
    "\n",
    "# Calculating area using public method\n",
    "print(\"Area:\", circle.area())  # Output: Area: 153.86\n"
   ]
  },
  {
   "cell_type": "code",
   "execution_count": null,
   "id": "40b0a41b-229a-43a4-8aec-32d6213b9e8e",
   "metadata": {},
   "outputs": [],
   "source": []
  }
 ],
 "metadata": {
  "kernelspec": {
   "display_name": "Python 3 (ipykernel)",
   "language": "python",
   "name": "python3"
  },
  "language_info": {
   "codemirror_mode": {
    "name": "ipython",
    "version": 3
   },
   "file_extension": ".py",
   "mimetype": "text/x-python",
   "name": "python",
   "nbconvert_exporter": "python",
   "pygments_lexer": "ipython3",
   "version": "3.11.7"
  }
 },
 "nbformat": 4,
 "nbformat_minor": 5
}
