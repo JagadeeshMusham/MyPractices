{
 "cells": [
  {
   "cell_type": "code",
   "execution_count": 2,
   "id": "0df06b49-6351-41d6-b4e6-39a4b5b27f4a",
   "metadata": {},
   "outputs": [],
   "source": [
    "class MyIterator:\n",
    "    def __init__(self, max_value):\n",
    "        self.max_value = max_value\n",
    "        self.current_value = 0\n",
    "\n",
    "    def __iter__(self):\n",
    "        return self\n",
    "\n",
    "    def __next__(self):\n",
    "        if self.current_value < self.max_value:\n",
    "            self.current_value += 1\n",
    "            return self.current_value\n",
    "        else:\n",
    "            raise StopIteration\n",
    "\n"
   ]
  },
  {
   "cell_type": "code",
   "execution_count": 3,
   "id": "ca565abe-103c-4bc4-88c1-5bb2d44ed943",
   "metadata": {},
   "outputs": [],
   "source": [
    "# Creating an instance of the MyIterator class\n",
    "iterator = MyIterator(5)\n",
    "\n"
   ]
  },
  {
   "cell_type": "code",
   "execution_count": 4,
   "id": "3fc31db4-bca4-4931-b458-45311f14d733",
   "metadata": {},
   "outputs": [
    {
     "name": "stdout",
     "output_type": "stream",
     "text": [
      "1\n",
      "2\n",
      "3\n",
      "4\n",
      "5\n"
     ]
    }
   ],
   "source": [
    "# Iterating over the iterator using a for loop\n",
    "for num in iterator:\n",
    "    print(num)\n"
   ]
  },
  {
   "cell_type": "code",
   "execution_count": 1,
   "id": "c584fefa-df03-40bf-a81c-034d7b34b010",
   "metadata": {},
   "outputs": [],
   "source": [
    "class TestIterator:\n",
    "    def __init__(self, max_count):\n",
    "        self.current = 0\n",
    "        self.max_count = max_count\n",
    "\n",
    "    def __iter__(self):\n",
    "        return self\n",
    "\n",
    "    def __next__(self):\n",
    "        if (self.current >= self.max_count):\n",
    "            raise StopIteration\n",
    "        else:\n",
    "            self.current += 1\n",
    "            return self.current\n",
    "\n"
   ]
  },
  {
   "cell_type": "code",
   "execution_count": 2,
   "id": "f5fbe5cc-9364-4604-a06f-5a79c20c379f",
   "metadata": {},
   "outputs": [],
   "source": [
    "iterator = TestIterator(10)"
   ]
  },
  {
   "cell_type": "code",
   "execution_count": 3,
   "id": "29feb836-3dc3-47af-bf9c-fbce8549d587",
   "metadata": {},
   "outputs": [
    {
     "name": "stdout",
     "output_type": "stream",
     "text": [
      "1\n",
      "2\n",
      "3\n",
      "4\n",
      "5\n",
      "6\n",
      "7\n",
      "8\n",
      "9\n",
      "10\n"
     ]
    }
   ],
   "source": [
    "for curValue in iterator:\n",
    "    print(curValue)"
   ]
  },
  {
   "cell_type": "markdown",
   "id": "44bb6ae2-12e3-4df7-931d-75df545652bb",
   "metadata": {},
   "source": [
    "Polumorphism in Classes"
   ]
  },
  {
   "cell_type": "code",
   "execution_count": 4,
   "id": "c431573f-2bcc-4a11-aa3c-446f854a85f6",
   "metadata": {},
   "outputs": [],
   "source": [
    "class Animal:\n",
    "    def speak(self):\n",
    "        pass  # Placeholder method to be overridden by subclasses\n",
    "\n",
    "class Dog(Animal):\n",
    "    def speak(self):\n",
    "        return \"Woof!\"\n",
    "\n",
    "class Cat(Animal):\n",
    "    def speak(self):\n",
    "        return \"Meow!\"\n",
    "\n"
   ]
  },
  {
   "cell_type": "code",
   "execution_count": 5,
   "id": "e8a29492-cc2e-444d-a850-643c7d3bd28e",
   "metadata": {},
   "outputs": [],
   "source": [
    "# Function that takes any Animal object and calls its speak() method\n",
    "def make_sound(animal):\n",
    "    return animal.speak()\n",
    "\n"
   ]
  },
  {
   "cell_type": "code",
   "execution_count": 6,
   "id": "d524de36-3c80-4b21-85eb-8ae7326aa470",
   "metadata": {},
   "outputs": [
    {
     "name": "stdout",
     "output_type": "stream",
     "text": [
      "Woof!\n",
      "Meow!\n"
     ]
    }
   ],
   "source": [
    "# Creating instances of different subclasses\n",
    "dog = Dog()\n",
    "cat = Cat()\n",
    "\n",
    "# Calling the make_sound function with different types of animals\n",
    "print(make_sound(dog))  # Output: Woof!\n",
    "print(make_sound(cat))  # Output: Meow!\n"
   ]
  },
  {
   "cell_type": "markdown",
   "id": "09a56f02-4913-4e50-bfca-05751f79fc16",
   "metadata": {},
   "source": [
    "Files"
   ]
  },
  {
   "cell_type": "code",
   "execution_count": 8,
   "id": "4212a2c4-d67b-4712-b0eb-839f865ff0b1",
   "metadata": {},
   "outputs": [],
   "source": [
    "file = open(\"example.txt\", \"r\")"
   ]
  },
  {
   "cell_type": "code",
   "execution_count": 9,
   "id": "c8b24b34-b408-4e49-89d5-2d44a07e46c5",
   "metadata": {},
   "outputs": [],
   "source": [
    "contect = file.read()"
   ]
  },
  {
   "cell_type": "code",
   "execution_count": 11,
   "id": "40fb067b-62ad-4cbc-8421-46eff8aae9c9",
   "metadata": {},
   "outputs": [
    {
     "name": "stdout",
     "output_type": "stream",
     "text": [
      "This is first line.\n",
      "This is second line.\n",
      "This is third line.\n"
     ]
    }
   ],
   "source": [
    "print(contect)"
   ]
  },
  {
   "cell_type": "code",
   "execution_count": 12,
   "id": "ad2f85a6-dd7a-4489-9ce6-c00d75bb21c0",
   "metadata": {},
   "outputs": [],
   "source": [
    "file1 = open(\"example.txt\", \"r\")"
   ]
  },
  {
   "cell_type": "code",
   "execution_count": 13,
   "id": "1559afe2-fa7a-4b32-ad28-2208241f18ca",
   "metadata": {},
   "outputs": [],
   "source": [
    "lines = file1.readlines()"
   ]
  },
  {
   "cell_type": "code",
   "execution_count": 14,
   "id": "ec67260a-d2ee-47b4-9b4d-55834676d260",
   "metadata": {},
   "outputs": [
    {
     "name": "stdout",
     "output_type": "stream",
     "text": [
      "the content of the file is: This is first line.\n",
      "\n",
      "the content of the file is: This is second line.\n",
      "\n",
      "the content of the file is: This is third line.\n"
     ]
    }
   ],
   "source": [
    "for line in lines:\n",
    "    print(f\"the content of the file is: {line}\")"
   ]
  },
  {
   "cell_type": "code",
   "execution_count": 15,
   "id": "b17e6fdc-bd91-4e99-a918-772202ec62a8",
   "metadata": {},
   "outputs": [],
   "source": [
    "file2 = open(\"example.txt\", \"r\")"
   ]
  },
  {
   "cell_type": "code",
   "execution_count": 18,
   "id": "05f8cc47-dcbf-4589-87ee-fc78b9aef2b2",
   "metadata": {},
   "outputs": [
    {
     "name": "stdout",
     "output_type": "stream",
     "text": [
      "This is first line.\n",
      "\n",
      "This is second line.\n",
      "\n",
      "This is third line.\n",
      "reached end of the file\n"
     ]
    }
   ],
   "source": [
    "while(1):\n",
    "    content = file2.readline()\n",
    "    if (content == ''):\n",
    "        print(\"reached end of the file\")\n",
    "        break\n",
    "    else:\n",
    "        print(content)\n",
    "\n",
    "file2.close()"
   ]
  },
  {
   "cell_type": "code",
   "execution_count": 19,
   "id": "919b79d5-534e-4742-adf5-26869ef97dc3",
   "metadata": {},
   "outputs": [],
   "source": [
    "binaryFile = open(\"ExampleBinary.txt\", \"wb\")"
   ]
  },
  {
   "cell_type": "code",
   "execution_count": 21,
   "id": "b7e95920-0e92-4c85-93c1-07f4429f039a",
   "metadata": {},
   "outputs": [
    {
     "data": {
      "text/plain": [
       "22"
      ]
     },
     "execution_count": 21,
     "metadata": {},
     "output_type": "execute_result"
    }
   ],
   "source": [
    "binaryFile.write(b\"This is binary content\")"
   ]
  },
  {
   "cell_type": "code",
   "execution_count": 29,
   "id": "02333e7a-0622-48ce-8745-e164973e5063",
   "metadata": {},
   "outputs": [
    {
     "name": "stdout",
     "output_type": "stream",
     "text": [
      "got zero division error \"division by zero\"\n",
      "Finally Block\n"
     ]
    }
   ],
   "source": [
    "try:\n",
    "    print(10/0)\n",
    "except ZeroDivisionError as zde:\n",
    "    print(f\"got zero division error \\\"{zde}\\\"\")\n",
    "except Exception:\n",
    "    print(\"Got exception\")\n",
    "else:\n",
    "    print(\"No issue found\")\n",
    "finally:\n",
    "    print(\"Finally Block\")\n",
    "    "
   ]
  },
  {
   "cell_type": "code",
   "execution_count": 31,
   "id": "a81c837e-93a1-4aa4-9a10-5e10fd4b1273",
   "metadata": {},
   "outputs": [
    {
     "name": "stdout",
     "output_type": "stream",
     "text": [
      "Caught and handled the exception: An error occurred in example_function\n",
      "Caught the re-raised exception: An error occurred in example_function\n"
     ]
    }
   ],
   "source": [
    "def example_function():\n",
    "    try:\n",
    "        # Some code that may raise exceptions\n",
    "        raise ValueError(\"An error occurred in example_function\")\n",
    "    except ValueError as e:\n",
    "        # Handle the exception\n",
    "        print(\"Caught and handled the exception:\", e)\n",
    "        # Re-raise the exception to propagate it further\n",
    "        raise\n",
    "    except Exception as e:\n",
    "        print(f\"The exception is {e}\")\n",
    "\n",
    "try:\n",
    "    # Call the function that may raise exceptions\n",
    "    example_function()\n",
    "except ValueError as e:\n",
    "    # Handle the re-raised exception\n",
    "    print(\"Caught the re-raised exception:\", e)"
   ]
  },
  {
   "cell_type": "raw",
   "id": "e2671f46-2b19-4658-813a-8a88954812c4",
   "metadata": {},
   "source": []
  },
  {
   "cell_type": "markdown",
   "id": "0525227f-b5f7-481f-9674-2554e658d745",
   "metadata": {},
   "source": [
    "Decorators"
   ]
  },
  {
   "cell_type": "raw",
   "id": "c9b5fc64-e20b-4b41-b333-22a171762813",
   "metadata": {},
   "source": []
  },
  {
   "cell_type": "code",
   "execution_count": 33,
   "id": "c82a65a1-b5a5-4727-aa75-997e7eb1af0c",
   "metadata": {},
   "outputs": [],
   "source": [
    "def multiplication_table(n):\n",
    "    for i in range(1,11):\n",
    "        print(f\"{n} * {i} = {n*i}\")\n",
    "    "
   ]
  },
  {
   "cell_type": "code",
   "execution_count": 37,
   "id": "41cec5b1-ef8d-44bb-9484-14ca29007377",
   "metadata": {},
   "outputs": [
    {
     "name": "stdout",
     "output_type": "stream",
     "text": [
      "5 * 1 = 5\n",
      "5 * 2 = 10\n",
      "5 * 3 = 15\n",
      "5 * 4 = 20\n",
      "5 * 5 = 25\n",
      "5 * 6 = 30\n",
      "5 * 7 = 35\n",
      "5 * 8 = 40\n",
      "5 * 9 = 45\n",
      "5 * 10 = 50\n",
      " 0.00099802017211914062\n"
     ]
    }
   ],
   "source": [
    "import time\n",
    "\n",
    "start_time = time.time()\n",
    "multiplication_table(5)\n",
    "end_time = time.time()\n",
    "\n",
    "print(f\"{end_time-start_time: .20f}\")"
   ]
  },
  {
   "cell_type": "code",
   "execution_count": null,
   "id": "d0948f10-c361-479d-8527-c8bef87b1b8b",
   "metadata": {},
   "outputs": [],
   "source": []
  },
  {
   "cell_type": "code",
   "execution_count": 43,
   "id": "d7db16e2-ec61-48f9-8e8e-87c7380f9559",
   "metadata": {},
   "outputs": [
    {
     "name": "stdout",
     "output_type": "stream",
     "text": [
      "5\n",
      "(6, 7, 8)\n"
     ]
    }
   ],
   "source": [
    "def myfunc(a, *b):\n",
    "    print(a)\n",
    "    print(b)\n",
    "\n",
    "myfunc(5,6,7,8)"
   ]
  },
  {
   "cell_type": "code",
   "execution_count": 45,
   "id": "5837ee30-8cd4-44cb-871d-25edf5a0ce0b",
   "metadata": {},
   "outputs": [
    {
     "name": "stdout",
     "output_type": "stream",
     "text": [
      "5\n"
     ]
    }
   ],
   "source": [
    "def testmethod(num):\n",
    "    print(num)\n",
    "    \n",
    "testmethod(5)\n",
    "\n"
   ]
  },
  {
   "cell_type": "code",
   "execution_count": 57,
   "id": "9f686b32-c5f5-42b1-b5ff-14aa894efb94",
   "metadata": {},
   "outputs": [],
   "source": [
    "import time\n",
    "def timer(func):\n",
    "    def wrapper(*args):\n",
    "        start_time = time.time()\n",
    "        func(*args)\n",
    "        end_time = time.time()\n",
    "        print(f\"Total time taken is - {start_time-end_time:.20f}\")\n",
    "        return wrapper"
   ]
  },
  {
   "cell_type": "code",
   "execution_count": 58,
   "id": "73b5727d-4d8a-46c9-89cc-9959a72da3ab",
   "metadata": {},
   "outputs": [],
   "source": [
    "@timer\n",
    "def printValues(rangeValue):\n",
    "    for i in range(1,rangeValue):\n",
    "        pass\n",
    "\n"
   ]
  },
  {
   "cell_type": "code",
   "execution_count": 59,
   "id": "ab26c199-f384-40e5-a421-55905333f645",
   "metadata": {},
   "outputs": [
    {
     "ename": "TypeError",
     "evalue": "'NoneType' object is not callable",
     "output_type": "error",
     "traceback": [
      "\u001b[1;31m---------------------------------------------------------------------------\u001b[0m",
      "\u001b[1;31mTypeError\u001b[0m                                 Traceback (most recent call last)",
      "Cell \u001b[1;32mIn[59], line 1\u001b[0m\n\u001b[1;32m----> 1\u001b[0m printValues(\u001b[38;5;241m100000\u001b[39m)\n",
      "\u001b[1;31mTypeError\u001b[0m: 'NoneType' object is not callable"
     ]
    }
   ],
   "source": [
    "printValues(100000)"
   ]
  },
  {
   "cell_type": "markdown",
   "id": "dc803a2c-c955-4806-8a34-a5a26fbbe9b7",
   "metadata": {},
   "source": [
    "KWARGS"
   ]
  },
  {
   "cell_type": "code",
   "execution_count": 71,
   "id": "2f265bc3-40c6-4f29-a900-48564c2b5e22",
   "metadata": {},
   "outputs": [],
   "source": [
    "def kwargsExample(**kwargs):\n",
    "    for name, value in kwargs.items():\n",
    "        print(f\"{name} --> {value}\")\n"
   ]
  },
  {
   "cell_type": "code",
   "execution_count": 72,
   "id": "edb44f4a-3e46-4dc3-a187-3af0a1277b33",
   "metadata": {},
   "outputs": [
    {
     "name": "stdout",
     "output_type": "stream",
     "text": [
      "name --> value1\n",
      "name1 --> value2\n"
     ]
    }
   ],
   "source": [
    "kwargsExample(name=\"value1\", name1=\"value2\")"
   ]
  },
  {
   "cell_type": "code",
   "execution_count": 118,
   "id": "78dab01f-fcab-4698-9a55-362c5e7b7e8a",
   "metadata": {},
   "outputs": [],
   "source": [
    "import time\n",
    "\n",
    "# Decorator function\n",
    "def myDecorator(func):\n",
    "    def myWrapper(name):\n",
    "        start_time = time.time()\n",
    "        print(\"Something is happening before the function is called.\")\n",
    "        func(name)  # Call the original function\n",
    "        print(\"Something is happening after the function is called.\")\n",
    "        end_time = time.time()\n",
    "\n",
    "        print(f\"The time taken to execute the method {func} is {end_time-start_time:.20f}\")\n",
    "    return myWrapper\n"
   ]
  },
  {
   "cell_type": "code",
   "execution_count": 119,
   "id": "fcd68ea1-9521-410c-b1c3-b2dfbece22b6",
   "metadata": {},
   "outputs": [],
   "source": [
    "# Function to be decorated\n",
    "@myDecorator\n",
    "def say_hello(name):\n",
    "    print(f\"Hello using decorators {name}!\")"
   ]
  },
  {
   "cell_type": "code",
   "execution_count": 121,
   "id": "b5e3ea7b-4c58-44af-8667-1c19303a0648",
   "metadata": {},
   "outputs": [
    {
     "name": "stdout",
     "output_type": "stream",
     "text": [
      "Something is happening before the function is called.\n",
      "Hello using decorators test!\n",
      "Something is happening after the function is called.\n",
      "The time taken to execute the method <function say_hello at 0x000001A335BFE700> is 0.00099968910217285156\n"
     ]
    }
   ],
   "source": [
    "# Calling the decorated function\n",
    "say_hello(\"test\")"
   ]
  },
  {
   "cell_type": "code",
   "execution_count": 127,
   "id": "757ec51a-f58f-4607-9690-9f5edc5f07c9",
   "metadata": {},
   "outputs": [],
   "source": [
    "# New function to be decorated\n",
    "@myDecorator\n",
    "def newMethod(name):\n",
    "    print(\"Inside new Method block\")\n",
    "    "
   ]
  },
  {
   "cell_type": "code",
   "execution_count": 128,
   "id": "6a606ddd-095f-40ec-8bdb-c7dcb995444c",
   "metadata": {},
   "outputs": [
    {
     "name": "stdout",
     "output_type": "stream",
     "text": [
      "Something is happening before the function is called.\n",
      "Inside new Method block\n",
      "Something is happening after the function is called.\n",
      "The time taken to execute the method <function newMethod at 0x000001A336324B80> is 0.00225019454956054688\n"
     ]
    }
   ],
   "source": [
    "newMethod(\"test\")"
   ]
  },
  {
   "cell_type": "code",
   "execution_count": null,
   "id": "1dad15cc-2710-4c2c-b85e-727d50d04883",
   "metadata": {},
   "outputs": [],
   "source": []
  }
 ],
 "metadata": {
  "kernelspec": {
   "display_name": "Python 3 (ipykernel)",
   "language": "python",
   "name": "python3"
  },
  "language_info": {
   "codemirror_mode": {
    "name": "ipython",
    "version": 3
   },
   "file_extension": ".py",
   "mimetype": "text/x-python",
   "name": "python",
   "nbconvert_exporter": "python",
   "pygments_lexer": "ipython3",
   "version": "3.11.7"
  }
 },
 "nbformat": 4,
 "nbformat_minor": 5
}
