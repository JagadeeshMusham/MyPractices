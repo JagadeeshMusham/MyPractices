{
 "cells": [
  {
   "cell_type": "markdown",
   "id": "0f65dcab-f792-4045-a167-93188d4cedc4",
   "metadata": {},
   "source": [
    "# Recursion"
   ]
  },
  {
   "cell_type": "code",
   "execution_count": 1,
   "id": "130ccb47-8b97-4f98-9d22-1474096ded51",
   "metadata": {},
   "outputs": [],
   "source": [
    "def fact(num):\n",
    "    if (num == 0):\n",
    "        return 1;\n",
    "    else:\n",
    "        return num * fact(num-1)\n",
    "\n"
   ]
  },
  {
   "cell_type": "code",
   "execution_count": 2,
   "id": "7845e20c-c14c-492d-9e53-3845e8384656",
   "metadata": {},
   "outputs": [
    {
     "data": {
      "text/plain": [
       "6"
      ]
     },
     "execution_count": 2,
     "metadata": {},
     "output_type": "execute_result"
    }
   ],
   "source": [
    "fact(3)"
   ]
  },
  {
   "cell_type": "code",
   "execution_count": 3,
   "id": "137e4b6f-5d97-4932-8ce8-5c0fd7baaddd",
   "metadata": {},
   "outputs": [
    {
     "data": {
      "text/plain": [
       "24"
      ]
     },
     "execution_count": 3,
     "metadata": {},
     "output_type": "execute_result"
    }
   ],
   "source": [
    "fact(4)"
   ]
  },
  {
   "cell_type": "markdown",
   "id": "4662c7e5-3e7a-42ea-9806-5144894306c2",
   "metadata": {},
   "source": [
    "2.Create a function named \"check_String\", the function should accept a String data from the user and the function should chek if the user input contains the letter 's' in it.\n",
    "if it contains the letter 's' then print \"The string is contaiing the letter 's'\", if not then print \"The String doesn't contain the letter 's'\""
   ]
  },
  {
   "cell_type": "code",
   "execution_count": 14,
   "id": "1d630388-3ab0-40c5-8dd1-53adb6f84bfa",
   "metadata": {},
   "outputs": [],
   "source": [
    "def check_string(stringValue):\n",
    "    for charValue in stringValue:\n",
    "        if charValue == 's':\n",
    "            return f\"The string {stringValue} is containing the letter 's'\"\n",
    "\n",
    "    return f\"The String  {stringValue} doesn't contain the letter 's'\"\n",
    "    "
   ]
  },
  {
   "cell_type": "code",
   "execution_count": 15,
   "id": "aeb77267-a9f4-4887-86a6-e2f3e779bb52",
   "metadata": {},
   "outputs": [
    {
     "data": {
      "text/plain": [
       "\"The string absc is containing the letter 's'\""
      ]
     },
     "execution_count": 15,
     "metadata": {},
     "output_type": "execute_result"
    }
   ],
   "source": [
    "check_string(\"absc\")"
   ]
  },
  {
   "cell_type": "code",
   "execution_count": 16,
   "id": "b00352c0-e2c3-4db0-93b9-63f9808c1310",
   "metadata": {},
   "outputs": [
    {
     "data": {
      "text/plain": [
       "\"The String  tet doesn't contain the letter 's'\""
      ]
     },
     "execution_count": 16,
     "metadata": {},
     "output_type": "execute_result"
    }
   ],
   "source": [
    "check_string(\"tet\")"
   ]
  },
  {
   "cell_type": "code",
   "execution_count": 17,
   "id": "712d4a6a-e389-46cf-aa2e-48a10c4b1b65",
   "metadata": {},
   "outputs": [],
   "source": [
    "def check_string_with_find(strValue):\n",
    "    if strValue.find('s') >= 0:\n",
    "        return f\"The string {strValue} is containing the letter 's'\"\n",
    "    else:\n",
    "        return f\"The String  {strValue} doesn't contain the letter 's'\""
   ]
  },
  {
   "cell_type": "code",
   "execution_count": 18,
   "id": "57c0d870-e299-4670-abc7-f23427588880",
   "metadata": {},
   "outputs": [
    {
     "data": {
      "text/plain": [
       "\"The String  abc doesn't contain the letter 's'\""
      ]
     },
     "execution_count": 18,
     "metadata": {},
     "output_type": "execute_result"
    }
   ],
   "source": [
    "check_string_with_find(\"abc\")"
   ]
  },
  {
   "cell_type": "code",
   "execution_count": 19,
   "id": "fff9b08c-44ed-42c7-bf33-dcaeed8d45cb",
   "metadata": {},
   "outputs": [
    {
     "data": {
      "text/plain": [
       "\"The string pqrs is containing the letter 's'\""
      ]
     },
     "execution_count": 19,
     "metadata": {},
     "output_type": "execute_result"
    }
   ],
   "source": [
    "check_string_with_find(\"pqrs\")"
   ]
  },
  {
   "cell_type": "markdown",
   "id": "1379b7e2-6e06-4f14-891e-4f4d82e40fa7",
   "metadata": {},
   "source": [
    "#Create a class named 'student' and inside the class, crete a function named 'fun1' - this method should accept the user defined input and return that value. "
   ]
  },
  {
   "cell_type": "markdown",
   "id": "0461c60c-ee46-4a5d-bf4f-3b6fbeb6f17f",
   "metadata": {},
   "source": [
    "#a. Create another method named - message() and that method should print the user defined input that we have defined in fun1\n"
   ]
  },
  {
   "cell_type": "code",
   "execution_count": 20,
   "id": "ff012f6f-c138-45a1-a34b-2dce97853d84",
   "metadata": {},
   "outputs": [],
   "source": [
    "class Student:\n",
    "    def fun1(self, input):\n",
    "        self.input = input;\n",
    "        return self.input\n",
    "\n",
    "    def message(self):\n",
    "        print(self.input)"
   ]
  },
  {
   "cell_type": "code",
   "execution_count": 21,
   "id": "a8b52493-2676-4745-924d-09c85db3b2ed",
   "metadata": {},
   "outputs": [],
   "source": [
    "student = Student();"
   ]
  },
  {
   "cell_type": "code",
   "execution_count": 22,
   "id": "e7d880cf-370b-42e2-a56f-6a06833e1821",
   "metadata": {},
   "outputs": [
    {
     "data": {
      "text/plain": [
       "'This is a Student class'"
      ]
     },
     "execution_count": 22,
     "metadata": {},
     "output_type": "execute_result"
    }
   ],
   "source": [
    "student.fun1(\"This is a Student class\")"
   ]
  },
  {
   "cell_type": "code",
   "execution_count": 23,
   "id": "4044309f-94da-4b7b-b9d4-269e5911d8c9",
   "metadata": {},
   "outputs": [
    {
     "name": "stdout",
     "output_type": "stream",
     "text": [
      "This is a Student class\n"
     ]
    }
   ],
   "source": [
    "student.message()"
   ]
  },
  {
   "cell_type": "markdown",
   "id": "c8164c7b-74a2-434f-997d-c84515815430",
   "metadata": {},
   "source": [
    "Take the user input string and check whether that String is palindrome or not\n"
   ]
  },
  {
   "cell_type": "code",
   "execution_count": 63,
   "id": "a36885a0-1b3f-4104-9e34-f5970a4cc031",
   "metadata": {},
   "outputs": [
    {
     "name": "stdout",
     "output_type": "stream",
     "text": [
      "6\n",
      "a\n",
      "the Given input apurupA is not a polindrome\n"
     ]
    }
   ],
   "source": [
    "def isPalindrome(inputString):\n",
    "    #inputString = \"apurupa\"\n",
    "    charArray = list(inputString);\n",
    "    start = 0\n",
    "    end = len(inputString) - 1\n",
    "    print(end)\n",
    "    print(charArray[0])\n",
    "\n",
    "    while start <= end:\n",
    "        if (charArray[start] != charArray[end]):\n",
    "            #print(f\"{charArray[start]}   -> {charArray[end]}\")\n",
    "            print(f\"the Given input {inputString} is not a polindrome\")\n",
    "            return\n",
    "\n",
    "        start += 1;\n",
    "        end -= 1;\n",
    "\n",
    "    print(f\"the Given input {inputString} is  a polindrome\")\n",
    "            \n",
    "\n",
    "isPalindrome(\"apurupA\")"
   ]
  },
  {
   "cell_type": "code",
   "execution_count": 64,
   "id": "46dcb88b-683b-40ed-8a11-3d9466e8774c",
   "metadata": {},
   "outputs": [
    {
     "name": "stdout",
     "output_type": "stream",
     "text": [
      "8\n",
      "m\n",
      "the Given input malayalam is  a polindrome\n"
     ]
    }
   ],
   "source": [
    "isPalindrome(\"malayalam\")"
   ]
  },
  {
   "cell_type": "code",
   "execution_count": 65,
   "id": "b1582fce-5285-448e-9420-d002bc4721b9",
   "metadata": {},
   "outputs": [
    {
     "name": "stdout",
     "output_type": "stream",
     "text": [
      "3\n",
      "t\n",
      "the Given input test is not a polindrome\n"
     ]
    }
   ],
   "source": [
    "isPalindrome(\"test\")"
   ]
  },
  {
   "cell_type": "markdown",
   "id": "c728c65b-0c15-4ad7-8875-2eb61b74d1e3",
   "metadata": {},
   "source": [
    "Create a class named ‘Super’ and inside that class define a user-defined function named fun1.\n",
    "\n",
    "Inside the ‘fun1’ function, pass the message “This is function 1 in the Super class.” in the print statement\n",
    "\n",
    "Create another class named ‘Modified_Super’ and inherit this class from the Super class.\n",
    "\n",
    "Inside the Modified_Super class, create a function named ‘fun1’ and pass the following message inside the print statement: ‘This is function 1 in the Modified Super class.’\n",
    "\n",
    "Create another user-defined function named ‘fun2’ and pass the message: ‘This is the 2nd function from the Modified Super class’ in the print statement.\n",
    "\n",
    "After that, now create an object for the Modified_Super class and call the fun1()."
   ]
  },
  {
   "cell_type": "code",
   "execution_count": 73,
   "id": "db8da39c-2003-4f22-8b55-1bae7dc4a039",
   "metadata": {},
   "outputs": [],
   "source": [
    "class Super:\n",
    "    def fun1(self):\n",
    "        print( \"This is function 1 in the Super class.\")\n",
    "\n",
    "class Modified_Super(Super):\n",
    "    def fun1(self):\n",
    "        super().fun1()\n",
    "        print('This is function 1 in the Modified Super class.')\n",
    "\n",
    "    def fun2(self):\n",
    "        print( 'This is the 2nd function from the Modified Super class')\n",
    "\n",
    "\n",
    "        \n",
    "        "
   ]
  },
  {
   "cell_type": "code",
   "execution_count": 74,
   "id": "4516f358-b213-4b44-adac-78dccbdfc6ec",
   "metadata": {},
   "outputs": [],
   "source": [
    "mSuper = Modified_Super()"
   ]
  },
  {
   "cell_type": "code",
   "execution_count": 75,
   "id": "3f053d62-3422-4121-b1db-1a35daec40e0",
   "metadata": {},
   "outputs": [
    {
     "name": "stdout",
     "output_type": "stream",
     "text": [
      "This is function 1 in the Super class.\n",
      "This is function 1 in the Modified Super class.\n"
     ]
    }
   ],
   "source": [
    "mSuper.fun1()"
   ]
  },
  {
   "cell_type": "code",
   "execution_count": 76,
   "id": "f31bae03-7c8d-4a98-a350-7412aeb1d231",
   "metadata": {},
   "outputs": [],
   "source": [
    "super = Super()"
   ]
  },
  {
   "cell_type": "code",
   "execution_count": 77,
   "id": "476f6df6-6640-4a8d-91f4-f3dc3ec42b7e",
   "metadata": {},
   "outputs": [
    {
     "name": "stdout",
     "output_type": "stream",
     "text": [
      "This is function 1 in the Super class.\n"
     ]
    }
   ],
   "source": [
    "super.fun1()"
   ]
  },
  {
   "cell_type": "markdown",
   "id": "8b277a04-6cdd-4bc4-bbca-b2f3d0cdd579",
   "metadata": {},
   "source": [
    "#static Methods"
   ]
  },
  {
   "cell_type": "code",
   "execution_count": 78,
   "id": "61c9822b-648a-4544-a57a-20ac56fb29c4",
   "metadata": {},
   "outputs": [
    {
     "data": {
      "text/plain": [
       "9"
      ]
     },
     "execution_count": 78,
     "metadata": {},
     "output_type": "execute_result"
    }
   ],
   "source": [
    "class TestStatic:\n",
    "    @staticmethod\n",
    "    def add(a, b):\n",
    "        return a+b\n",
    "\n",
    "    @staticmethod\n",
    "    def diff(a, b):\n",
    "        return a-b\n",
    "\n",
    "TestStatic.add(5, 4)"
   ]
  },
  {
   "cell_type": "code",
   "execution_count": 79,
   "id": "e982c70f-3527-4f65-8402-fa5c40708311",
   "metadata": {},
   "outputs": [
    {
     "data": {
      "text/plain": [
       "1"
      ]
     },
     "execution_count": 79,
     "metadata": {},
     "output_type": "execute_result"
    }
   ],
   "source": [
    "TestStatic.diff(5,4)"
   ]
  },
  {
   "cell_type": "markdown",
   "id": "6579011e-7d69-4d67-ab72-3bdc656f8b80",
   "metadata": {},
   "source": [
    "Create a class named ‘Encapsulation’:\n",
    "a. Inside the class, first create a constructor. Inside the constructor, initialize\n",
    "originalValue variable as 10.\n",
    "b. After creating the constructor, define a function named ‘Value’ and this function\n",
    "should return the variable that we have initialized in the constructor.\n",
    "c. Now create 2nd function named setValue, and pass an argument named\n",
    "‘newValue’. The task of this function will be to replace the value of the\n",
    "originalValue variable by the value of the newValue variable."
   ]
  },
  {
   "cell_type": "code",
   "execution_count": 86,
   "id": "c37ca2a2-c52a-4618-853e-ac07bc99ba06",
   "metadata": {},
   "outputs": [
    {
     "name": "stdout",
     "output_type": "stream",
     "text": [
      "The original value: 10\n",
      "The modified original value: 30\n"
     ]
    }
   ],
   "source": [
    "class Encapsulation:\n",
    "    def __init__(self):\n",
    "        self.originalValue = 10\n",
    "\n",
    "    def value(self):\n",
    "        return self.originalValue\n",
    "\n",
    "    def setValue(self, newValue):\n",
    "        self.originalValue = newValue\n",
    "\n",
    "encapsulation = Encapsulation()\n",
    "print(f\"The original value: {encapsulation.value()}\")\n",
    "encapsulation.setValue(30)\n",
    "print(f\"The modified original value: {encapsulation.value()}\")"
   ]
  },
  {
   "cell_type": "markdown",
   "id": "7482b9ac-7422-4487-82ce-fae61ed3c80f",
   "metadata": {},
   "source": [
    "#### NumPy\n"
   ]
  },
  {
   "cell_type": "code",
   "execution_count": 1,
   "id": "1e8d8e16-bdbf-41bf-93a3-1350bfe12f25",
   "metadata": {},
   "outputs": [],
   "source": [
    "import numpy as np\n"
   ]
  },
  {
   "cell_type": "code",
   "execution_count": 2,
   "id": "ff37b2bb-17d5-4818-8d7c-fb645267c412",
   "metadata": {},
   "outputs": [
    {
     "data": {
      "text/plain": [
       "'1.26.4'"
      ]
     },
     "execution_count": 2,
     "metadata": {},
     "output_type": "execute_result"
    }
   ],
   "source": [
    "np.__version__"
   ]
  },
  {
   "cell_type": "code",
   "execution_count": 6,
   "id": "ee855ed8-8ea7-4977-bed2-9f6b1115a471",
   "metadata": {},
   "outputs": [],
   "source": [
    "arrayValue = np.array([1, 2, 3, 4, 5])"
   ]
  },
  {
   "cell_type": "code",
   "execution_count": 7,
   "id": "fd379a59-3bff-43d6-99e0-58275418f910",
   "metadata": {},
   "outputs": [
    {
     "data": {
      "text/plain": [
       "15"
      ]
     },
     "execution_count": 7,
     "metadata": {},
     "output_type": "execute_result"
    }
   ],
   "source": [
    "np.sum(arrayValue)"
   ]
  },
  {
   "cell_type": "code",
   "execution_count": null,
   "id": "f7ce1b3a-d963-4f15-b7d0-7539756fa550",
   "metadata": {},
   "outputs": [],
   "source": []
  }
 ],
 "metadata": {
  "kernelspec": {
   "display_name": "intellipaat_test",
   "language": "python",
   "name": "intellipaat_test"
  },
  "language_info": {
   "codemirror_mode": {
    "name": "ipython",
    "version": 3
   },
   "file_extension": ".py",
   "mimetype": "text/x-python",
   "name": "python",
   "nbconvert_exporter": "python",
   "pygments_lexer": "ipython3",
   "version": "3.10.0"
  }
 },
 "nbformat": 4,
 "nbformat_minor": 5
}
