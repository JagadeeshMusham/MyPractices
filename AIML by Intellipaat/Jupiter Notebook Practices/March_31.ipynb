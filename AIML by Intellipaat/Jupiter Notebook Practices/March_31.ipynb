{
 "cells": [
  {
   "cell_type": "markdown",
   "id": "e0f53841-84bf-4694-b9bd-cf6477916197",
   "metadata": {},
   "source": [
    "#Cumulative Summation"
   ]
  },
  {
   "cell_type": "code",
   "execution_count": 2,
   "id": "2efad24f-a7db-4b9d-95d4-21d5605e1475",
   "metadata": {},
   "outputs": [
    {
     "name": "stdout",
     "output_type": "stream",
     "text": [
      "[50 60 80 75]\n"
     ]
    }
   ],
   "source": [
    "import numpy as np\n",
    "student_marks = np.array([50, 60, 80,75])\n",
    "print(student_marks)"
   ]
  },
  {
   "cell_type": "code",
   "execution_count": 3,
   "id": "6dde0770-0a98-42ce-8a9a-0a89d60028af",
   "metadata": {},
   "outputs": [
    {
     "data": {
      "text/plain": [
       "array([ 50, 110, 190, 265])"
      ]
     },
     "execution_count": 3,
     "metadata": {},
     "output_type": "execute_result"
    }
   ],
   "source": [
    "np.cumsum(student_marks)"
   ]
  },
  {
   "cell_type": "code",
   "execution_count": 4,
   "id": "47eda3df-afcf-4a2b-a490-f3bb7a842a48",
   "metadata": {},
   "outputs": [
    {
     "name": "stdout",
     "output_type": "stream",
     "text": [
      "[50 60 80 75]\n"
     ]
    }
   ],
   "source": [
    "print(student_marks)"
   ]
  },
  {
   "cell_type": "code",
   "execution_count": 5,
   "id": "0fa3905b-68ab-4bc8-b79d-c782a593b352",
   "metadata": {},
   "outputs": [
    {
     "data": {
      "text/plain": [
       "265"
      ]
     },
     "execution_count": 5,
     "metadata": {},
     "output_type": "execute_result"
    }
   ],
   "source": [
    "np.sum(student_marks)"
   ]
  },
  {
   "cell_type": "code",
   "execution_count": 6,
   "id": "1e101079-d249-4fdd-8737-3f3da2ab5dac",
   "metadata": {},
   "outputs": [
    {
     "data": {
      "text/plain": [
       "200"
      ]
     },
     "execution_count": 6,
     "metadata": {},
     "output_type": "execute_result"
    }
   ],
   "source": [
    "np.sum([50,70,80])"
   ]
  },
  {
   "cell_type": "markdown",
   "id": "d3eedec6-85fc-49e7-ac2c-312477c1e819",
   "metadata": {},
   "source": [
    "Multi Dimensional Array"
   ]
  },
  {
   "cell_type": "code",
   "execution_count": 10,
   "id": "38d9d777-f93d-45a2-bec5-4f8ac4cfd3eb",
   "metadata": {},
   "outputs": [
    {
     "data": {
      "text/plain": [
       "array(['Sachin', 'Rahul'], dtype='<U6')"
      ]
     },
     "execution_count": 10,
     "metadata": {},
     "output_type": "execute_result"
    }
   ],
   "source": [
    "# U6 means Unicode String in Bytes\n",
    "np.array([\"Sachin\", \"Rahul\"])"
   ]
  },
  {
   "cell_type": "code",
   "execution_count": 14,
   "id": "fd7c2ebf-b07c-4793-b35b-7bad3243a61d",
   "metadata": {},
   "outputs": [],
   "source": [
    "student_marks = np.array([[20,30,40], [10,20,30],[40,50,65]])"
   ]
  },
  {
   "cell_type": "code",
   "execution_count": 15,
   "id": "dccc5977-899c-49e1-b693-a25232b90827",
   "metadata": {},
   "outputs": [
    {
     "name": "stdout",
     "output_type": "stream",
     "text": [
      "[[20 30 40]\n",
      " [10 20 30]\n",
      " [40 50 65]]\n"
     ]
    }
   ],
   "source": [
    "print(student_marks)"
   ]
  },
  {
   "cell_type": "code",
   "execution_count": 16,
   "id": "fac0b93e-acdc-49a5-8e45-8307e868fc8c",
   "metadata": {},
   "outputs": [
    {
     "data": {
      "text/plain": [
       "array([[20, 30, 40],\n",
       "       [10, 20, 30],\n",
       "       [40, 50, 65]])"
      ]
     },
     "execution_count": 16,
     "metadata": {},
     "output_type": "execute_result"
    }
   ],
   "source": [
    "student_marks"
   ]
  },
  {
   "cell_type": "code",
   "execution_count": 17,
   "id": "a0b0766c-e22d-4d82-8fc9-812231146b97",
   "metadata": {},
   "outputs": [
    {
     "data": {
      "text/plain": [
       "array([50, 65])"
      ]
     },
     "execution_count": 17,
     "metadata": {},
     "output_type": "execute_result"
    }
   ],
   "source": [
    "student_marks[student_marks>40]"
   ]
  },
  {
   "cell_type": "code",
   "execution_count": 18,
   "id": "a5cfba46-3ba1-4b38-84f7-c5bd2fd4c9a2",
   "metadata": {},
   "outputs": [
    {
     "data": {
      "text/plain": [
       "array([[False, False, False],\n",
       "       [False, False, False],\n",
       "       [False,  True,  True]])"
      ]
     },
     "execution_count": 18,
     "metadata": {},
     "output_type": "execute_result"
    }
   ],
   "source": [
    "student_marks>40\n"
   ]
  },
  {
   "cell_type": "code",
   "execution_count": 19,
   "id": "9cdda56b-de42-4408-a553-7494066f8ba6",
   "metadata": {},
   "outputs": [
    {
     "name": "stdout",
     "output_type": "stream",
     "text": [
      "[3 4 5]\n"
     ]
    }
   ],
   "source": [
    "arr = np.array([1, 2, 3, 4, 5])\n",
    "mask = arr > 2\n",
    "result = arr[mask]\n",
    "print(result)"
   ]
  },
  {
   "cell_type": "code",
   "execution_count": 20,
   "id": "55fb6680-acac-466b-a7b9-70d6011de5d8",
   "metadata": {},
   "outputs": [
    {
     "data": {
      "text/plain": [
       "array([False, False,  True,  True,  True])"
      ]
     },
     "execution_count": 20,
     "metadata": {},
     "output_type": "execute_result"
    }
   ],
   "source": [
    "mask"
   ]
  },
  {
   "cell_type": "code",
   "execution_count": 21,
   "id": "70af272f-2e63-4c06-806f-e21c2dd7a8ad",
   "metadata": {},
   "outputs": [
    {
     "name": "stdout",
     "output_type": "stream",
     "text": [
      "[[1 2]\n",
      " [5 6]]\n"
     ]
    }
   ],
   "source": [
    "arr = np.array([[1, 2], [3, 4], [5, 6]])\n",
    "indices = np.array([0, 2])\n",
    "result = arr[indices, :]\n",
    "print(result)"
   ]
  },
  {
   "cell_type": "code",
   "execution_count": 22,
   "id": "b1acbe69-6ae3-4987-af21-274e178e8270",
   "metadata": {},
   "outputs": [
    {
     "data": {
      "text/plain": [
       "array([40, 40, 50, 65])"
      ]
     },
     "execution_count": 22,
     "metadata": {},
     "output_type": "execute_result"
    }
   ],
   "source": [
    "student_marks[student_marks > np.mean(student_marks)]"
   ]
  },
  {
   "cell_type": "code",
   "execution_count": 23,
   "id": "acb2edb7-1b4b-43b6-a029-ea18e68b4ec5",
   "metadata": {},
   "outputs": [
    {
     "data": {
      "text/plain": [
       "33.888888888888886"
      ]
     },
     "execution_count": 23,
     "metadata": {},
     "output_type": "execute_result"
    }
   ],
   "source": [
    "np.mean(student_marks)"
   ]
  },
  {
   "cell_type": "code",
   "execution_count": 27,
   "id": "4d85b0e6-6469-4512-93ea-65c96f4ea31d",
   "metadata": {},
   "outputs": [
    {
     "data": {
      "text/plain": [
       "array([30, 40, 30, 40, 50])"
      ]
     },
     "execution_count": 27,
     "metadata": {},
     "output_type": "execute_result"
    }
   ],
   "source": [
    "student_marks[(student_marks > 20) "
   ]
  },
  {
   "cell_type": "code",
   "execution_count": 114,
   "id": "53798591-f231-454a-9553-699515536de8",
   "metadata": {},
   "outputs": [],
   "source": [
    "arr = np.arange(12)"
   ]
  },
  {
   "cell_type": "code",
   "execution_count": 115,
   "id": "33919250-3b14-4bdf-8e23-01c1264bb8c8",
   "metadata": {},
   "outputs": [],
   "source": [
    "arr = np.arange(12)\n",
    "array_3d = arr.reshape(2,3,2)"
   ]
  },
  {
   "cell_type": "code",
   "execution_count": 116,
   "id": "3fa72c91-6f51-4a7a-9de6-1a50479ef05b",
   "metadata": {},
   "outputs": [
    {
     "data": {
      "text/plain": [
       "array([[[ 0,  1],\n",
       "        [ 2,  3],\n",
       "        [ 4,  5]],\n",
       "\n",
       "       [[ 6,  7],\n",
       "        [ 8,  9],\n",
       "        [10, 11]]])"
      ]
     },
     "execution_count": 116,
     "metadata": {},
     "output_type": "execute_result"
    }
   ],
   "source": [
    "array_3d"
   ]
  },
  {
   "cell_type": "code",
   "execution_count": null,
   "id": "3d58ff9b-dd2b-4603-916a-331e82eebae1",
   "metadata": {},
   "outputs": [],
   "source": []
  }
 ],
 "metadata": {
  "kernelspec": {
   "display_name": "intellipaat_test",
   "language": "python",
   "name": "intellipaat_test"
  },
  "language_info": {
   "codemirror_mode": {
    "name": "ipython",
    "version": 3
   },
   "file_extension": ".py",
   "mimetype": "text/x-python",
   "name": "python",
   "nbconvert_exporter": "python",
   "pygments_lexer": "ipython3",
   "version": "3.10.0"
  }
 },
 "nbformat": 4,
 "nbformat_minor": 5
}
