{
 "cells": [
  {
   "cell_type": "markdown",
   "id": "6c6f46d7-99b0-4016-a90f-690850363062",
   "metadata": {},
   "source": [
    "        "
   ]
  },
  {
   "cell_type": "code",
   "execution_count": 1,
   "id": "7f8dadab-3493-46a8-9e15-049f8e3feb38",
   "metadata": {},
   "outputs": [],
   "source": [
    "#two Sample T Test\n",
    "\n",
    "#we pick S1 from al boys and S2 from all girls population\n",
    "#H0 => The means are equal\n",
    "#H1 => The means are not equal"
   ]
  },
  {
   "cell_type": "code",
   "execution_count": 2,
   "id": "6a2fca6a-8130-4ae3-9006-dbc8b63e3cf4",
   "metadata": {},
   "outputs": [],
   "source": [
    "from random import sample"
   ]
  },
  {
   "cell_type": "code",
   "execution_count": 3,
   "id": "0e31747f-6c66-468d-964f-42420a584eba",
   "metadata": {},
   "outputs": [],
   "source": [
    "import numpy as np"
   ]
  },
  {
   "cell_type": "code",
   "execution_count": 15,
   "id": "4d8c62ed-a224-4897-87cb-8c5e9817ff38",
   "metadata": {},
   "outputs": [],
   "source": [
    "sample_b = sample(range(140, 185), 30)\n",
    "sample_g = sample(range(130, 170), 30)"
   ]
  },
  {
   "cell_type": "code",
   "execution_count": 16,
   "id": "5fe400c3-48c9-48cc-9943-2479d3da9769",
   "metadata": {},
   "outputs": [],
   "source": [
    "from scipy.stats import ttest_ind\n"
   ]
  },
  {
   "cell_type": "code",
   "execution_count": 17,
   "id": "d7796920-c8cf-4dc4-9620-5288d96e8e6c",
   "metadata": {},
   "outputs": [
    {
     "data": {
      "text/plain": [
       "TtestResult(statistic=2.4168816959030996, pvalue=0.01882012337674839, df=58.0)"
      ]
     },
     "execution_count": 17,
     "metadata": {},
     "output_type": "execute_result"
    }
   ],
   "source": [
    "ttest_ind(sample_b, sample_g)"
   ]
  },
  {
   "cell_type": "code",
   "execution_count": 18,
   "id": "537f60dc-b7ce-4c3d-8a35-a8d75ce69c8b",
   "metadata": {},
   "outputs": [],
   "source": [
    "#As pvalue < 0.05, we have enough evidence to reject H0"
   ]
  },
  {
   "cell_type": "code",
   "execution_count": 19,
   "id": "73c7f59e-f180-489c-b835-8fa71ddea657",
   "metadata": {},
   "outputs": [],
   "source": [
    "# Paired T test\n",
    "# H0 => The means are equal\n",
    "# H1 => The means are not equal"
   ]
  },
  {
   "cell_type": "code",
   "execution_count": 36,
   "id": "9ee61999-11ae-413e-b43e-330eaa74b5d4",
   "metadata": {},
   "outputs": [],
   "source": [
    "sample1 = sample(range(135,185), 30)\n",
    "sample2 = sample(range(135,185), 30)"
   ]
  },
  {
   "cell_type": "markdown",
   "id": "e012de2d-84a2-4eca-a5ff-aeac5dc6a87b",
   "metadata": {},
   "source": [
    "from scipy.stats import ttest_rel"
   ]
  },
  {
   "cell_type": "code",
   "execution_count": 37,
   "id": "8edd6cd5-a1c0-444d-954c-83ab1f30bd83",
   "metadata": {},
   "outputs": [],
   "source": [
    "from scipy.stats import ttest_rel"
   ]
  },
  {
   "cell_type": "code",
   "execution_count": 38,
   "id": "f2d05087-f436-4ab2-9bea-9ef65c8e23ed",
   "metadata": {},
   "outputs": [
    {
     "data": {
      "text/plain": [
       "TtestResult(statistic=-0.27503845425161155, pvalue=0.7852367925735861, df=29)"
      ]
     },
     "execution_count": 38,
     "metadata": {},
     "output_type": "execute_result"
    }
   ],
   "source": [
    "ttest_rel(sample1, sample2)"
   ]
  },
  {
   "cell_type": "code",
   "execution_count": 39,
   "id": "096f4d7f-c2fd-4771-83f5-a20ad9ae8187",
   "metadata": {},
   "outputs": [],
   "source": [
    "#As pvalue > 0.05, we not have enough evidence to reject H0"
   ]
  },
  {
   "cell_type": "code",
   "execution_count": 40,
   "id": "deadbe09-c170-45d3-98b5-d36bcbb4460b",
   "metadata": {},
   "outputs": [
    {
     "data": {
      "text/plain": [
       "TtestResult(statistic=-0.26097364749165686, pvalue=0.7950372490909428, df=58.0)"
      ]
     },
     "execution_count": 40,
     "metadata": {},
     "output_type": "execute_result"
    }
   ],
   "source": [
    "ttest_ind(sample1, sample2)"
   ]
  },
  {
   "cell_type": "code",
   "execution_count": 41,
   "id": "c8c0e74b-932a-4c21-ac97-de1a542e0cfd",
   "metadata": {},
   "outputs": [
    {
     "name": "stdout",
     "output_type": "stream",
     "text": [
      "t-statistic: -1.462614271203832\n",
      "p-value: 0.18171826599645016\n"
     ]
    }
   ],
   "source": [
    "group1 = np.array([23, 20, 25, 30, 24])\n",
    "group2 = np.array([27, 28, 26, 25, 29])\n",
    "\n",
    "t_stat, p_val = ttest_ind(group1, group2)\n",
    "print(\"t-statistic:\", t_stat)\n",
    "print(\"p-value:\", p_val)"
   ]
  },
  {
   "cell_type": "code",
   "execution_count": 43,
   "id": "a6789b9f-6d95-4c0d-9048-ef4d2439db61",
   "metadata": {},
   "outputs": [
    {
     "name": "stdout",
     "output_type": "stream",
     "text": [
      "t-statistic: -1.1793839502289376\n",
      "p-value: 0.3036016411350295\n"
     ]
    }
   ],
   "source": [
    "t_stat, p_val = ttest_rel(group1, group2)\n",
    "print(\"t-statistic:\", t_stat)\n",
    "print(\"p-value:\", p_val)"
   ]
  },
  {
   "cell_type": "code",
   "execution_count": 44,
   "id": "eee8b03a-cad9-4e5e-af71-8cf49271a4fe",
   "metadata": {},
   "outputs": [
    {
     "name": "stdout",
     "output_type": "stream",
     "text": [
      "t-statistic: -9.797958971132713\n",
      "p-value: 0.0006081849444633356\n"
     ]
    }
   ],
   "source": [
    "before = np.array([23, 20, 25, 30, 24])\n",
    "after = np.array([25, 22, 28, 32, 27])\n",
    "t_stat, p_val = ttest_rel(before, after)\n",
    "\n",
    "print(\"t-statistic:\", t_stat)\n",
    "print(\"p-value:\", p_val)"
   ]
  },
  {
   "cell_type": "code",
   "execution_count": 47,
   "id": "5e4db148-cd47-4766-bf75-270cd22158b5",
   "metadata": {},
   "outputs": [
    {
     "name": "stdout",
     "output_type": "stream",
     "text": [
      "p-value: TtestResult(statistic=-9.797958971132713, pvalue=0.0006081849444633356, df=4)\n"
     ]
    }
   ],
   "source": [
    "p_val = ttest_rel(before, after)\n",
    "print(\"p-value:\", p_val)"
   ]
  },
  {
   "cell_type": "code",
   "execution_count": 54,
   "id": "74cc68c5-f98d-4d68-8ca9-0cb5d3af03d0",
   "metadata": {},
   "outputs": [],
   "source": [
    "# F-Test\n",
    "\n",
    "#H0 => varinaces are equal\n",
    "#H1 => variances are not equal"
   ]
  },
  {
   "cell_type": "code",
   "execution_count": 50,
   "id": "9aa87a9a-ab67-4e2f-b84b-a798ea2becdc",
   "metadata": {},
   "outputs": [],
   "source": [
    "sample1 = sample(range(0,100), 30)\n",
    "sample2 = sample(range(0,100), 30)"
   ]
  },
  {
   "cell_type": "code",
   "execution_count": 51,
   "id": "c2d060ad-4e44-41ad-864f-6c82ab04f0ac",
   "metadata": {},
   "outputs": [
    {
     "name": "stdout",
     "output_type": "stream",
     "text": [
      "[84, 15, 14, 12, 79, 62, 63, 75, 82, 3, 53, 2, 60, 40, 44, 41, 72, 96, 18, 6, 83, 26, 20, 56, 17, 22, 87, 86, 25, 19]\n",
      "[28, 99, 68, 30, 58, 83, 22, 21, 8, 76, 70, 12, 9, 33, 34, 10, 62, 48, 95, 25, 86, 27, 16, 4, 77, 88, 19, 47, 64, 60]\n"
     ]
    }
   ],
   "source": [
    "print(sample1)\n",
    "print(sample2)"
   ]
  },
  {
   "cell_type": "code",
   "execution_count": 52,
   "id": "55afe303-5cb1-4c02-bdf1-56f9c7666485",
   "metadata": {},
   "outputs": [],
   "source": [
    "fstat = np.var(sample1)/np.var(sample2)"
   ]
  },
  {
   "cell_type": "code",
   "execution_count": 53,
   "id": "45cb549d-43d6-4aa1-a1d4-a0057cb57570",
   "metadata": {},
   "outputs": [
    {
     "data": {
      "text/plain": [
       "1.042229994120657"
      ]
     },
     "execution_count": 53,
     "metadata": {},
     "output_type": "execute_result"
    }
   ],
   "source": [
    "fstat"
   ]
  },
  {
   "cell_type": "code",
   "execution_count": 58,
   "id": "b40c08a5-e776-46e8-9a7e-87d43ffef086",
   "metadata": {},
   "outputs": [
    {
     "name": "stdout",
     "output_type": "stream",
     "text": [
      "1.042229994120657 0.4560410678115321\n"
     ]
    }
   ],
   "source": [
    "#from scipy.stats import f.\n",
    "import scipy.stats as st\n",
    "\n",
    "p_value = 1 - st.f.cdf(fstat, len(sample1)-1, len(sample2)-1)\n",
    "print(fstat, p_value)"
   ]
  },
  {
   "cell_type": "code",
   "execution_count": 59,
   "id": "e228fe46-1574-4a51-a82e-2e2c9145b0b4",
   "metadata": {},
   "outputs": [],
   "source": [
    "# As p_value > 0.05, we do not have enough evidence to reject the H0"
   ]
  },
  {
   "cell_type": "code",
   "execution_count": 60,
   "id": "3d4d36b1-a3c4-4817-a9d8-cffe712fdb56",
   "metadata": {},
   "outputs": [],
   "source": [
    "#F Test\n",
    "#impact of enhancer on performances of EV\n",
    "# H0 => Performances Averages are same\n",
    "# H1 => Performance Average are not same."
   ]
  },
  {
   "cell_type": "code",
   "execution_count": 63,
   "id": "24ee6d42-702a-4fbb-89ec-39c53146ae71",
   "metadata": {},
   "outputs": [],
   "source": [
    "sample1 = sample(range(0,100), 20)\n",
    "sample2 = sample(range(0,95), 20)\n",
    "sample3 = sample(range(0,120), 20)\n",
    "sample4 = sample(range(0,145), 20)"
   ]
  },
  {
   "cell_type": "code",
   "execution_count": 64,
   "id": "214a1c21-292b-4eed-8777-f700eaeb7dac",
   "metadata": {},
   "outputs": [
    {
     "data": {
      "text/plain": [
       "F_onewayResult(statistic=6.457007544846397, pvalue=0.0005942480456096089)"
      ]
     },
     "execution_count": 64,
     "metadata": {},
     "output_type": "execute_result"
    }
   ],
   "source": [
    "from scipy.stats import f_oneway\n",
    "\n",
    "f_oneway(sample1, sample2, sample3, sample4)"
   ]
  },
  {
   "cell_type": "code",
   "execution_count": 65,
   "id": "733d0e50-6d5e-42d7-a54f-7198a24d1f52",
   "metadata": {},
   "outputs": [],
   "source": [
    "# As pvalue < 0.05, we do have enough evidence to reject H0https://www.pinterest.com/pin/1407443628307437/"
   ]
  },
  {
   "cell_type": "code",
   "execution_count": 66,
   "id": "cc784036-50a0-4a70-a3a5-38cc97f0fe14",
   "metadata": {},
   "outputs": [
    {
     "ename": "ImportError",
     "evalue": "cannot import name 'f_twoway' from 'scipy.stats' (/opt/anaconda3/lib/python3.11/site-packages/scipy/stats/__init__.py)",
     "output_type": "error",
     "traceback": [
      "\u001b[0;31m---------------------------------------------------------------------------\u001b[0m",
      "\u001b[0;31mImportError\u001b[0m                               Traceback (most recent call last)",
      "Cell \u001b[0;32mIn[66], line 1\u001b[0m\n\u001b[0;32m----> 1\u001b[0m \u001b[38;5;28;01mfrom\u001b[39;00m \u001b[38;5;21;01mscipy\u001b[39;00m\u001b[38;5;21;01m.\u001b[39;00m\u001b[38;5;21;01mstats\u001b[39;00m \u001b[38;5;28;01mimport\u001b[39;00m f_twoway\n",
      "\u001b[0;31mImportError\u001b[0m: cannot import name 'f_twoway' from 'scipy.stats' (/opt/anaconda3/lib/python3.11/site-packages/scipy/stats/__init__.py)"
     ]
    }
   ],
   "source": [
    "from scipy.stats import f_twoway"
   ]
  },
  {
   "cell_type": "markdown",
   "id": "35b1cd1d-abf2-4d0b-8a65-2406348180c4",
   "metadata": {},
   "source": [
    "19 May"
   ]
  },
  {
   "cell_type": "code",
   "execution_count": 67,
   "id": "b259513e-02c1-4adb-87d2-0913daf68b68",
   "metadata": {},
   "outputs": [],
   "source": [
    "#Two way ANOVA\n",
    "# Impact / signioficance of lectures and yuition on marks\n",
    "# H0 => There is no significance of the two factors on marks\n",
    "# H1 => There is significance of the two factors on marks"
   ]
  },
  {
   "cell_type": "code",
   "execution_count": 70,
   "id": "7299928e-4249-4454-910c-6a7290631719",
   "metadata": {},
   "outputs": [],
   "source": [
    "import statsmodels.api as sm\n",
    "from statsmodels.formula.api import ols"
   ]
  },
  {
   "cell_type": "code",
   "execution_count": 77,
   "id": "fefd6308-ede2-49ac-b492-31052fbb6f31",
   "metadata": {},
   "outputs": [],
   "source": [
    "# Create the data\n",
    "\n",
    "x = { 'Lectures' : np.repeat(['Daily', 'Weekly'], 20),\n",
    "      'Tuition' : np.repeat(['Daily', 'Weekly'], 20),\n",
    "      'Marks' : sample(range(33,100), 40)\n",
    "    }"
   ]
  },
  {
   "cell_type": "code",
   "execution_count": 78,
   "id": "8ea6c740-0a4f-45e2-a4fc-56af21672a30",
   "metadata": {},
   "outputs": [
    {
     "data": {
      "text/plain": [
       "{'Lectures': array(['Daily', 'Daily', 'Daily', 'Daily', 'Daily', 'Daily', 'Daily',\n",
       "        'Daily', 'Daily', 'Daily', 'Daily', 'Daily', 'Daily', 'Daily',\n",
       "        'Daily', 'Daily', 'Daily', 'Daily', 'Daily', 'Daily', 'Weekly',\n",
       "        'Weekly', 'Weekly', 'Weekly', 'Weekly', 'Weekly', 'Weekly',\n",
       "        'Weekly', 'Weekly', 'Weekly', 'Weekly', 'Weekly', 'Weekly',\n",
       "        'Weekly', 'Weekly', 'Weekly', 'Weekly', 'Weekly', 'Weekly',\n",
       "        'Weekly'], dtype='<U6'),\n",
       " 'Tuition': array(['Daily', 'Daily', 'Daily', 'Daily', 'Daily', 'Daily', 'Daily',\n",
       "        'Daily', 'Daily', 'Daily', 'Daily', 'Daily', 'Daily', 'Daily',\n",
       "        'Daily', 'Daily', 'Daily', 'Daily', 'Daily', 'Daily', 'Weekly',\n",
       "        'Weekly', 'Weekly', 'Weekly', 'Weekly', 'Weekly', 'Weekly',\n",
       "        'Weekly', 'Weekly', 'Weekly', 'Weekly', 'Weekly', 'Weekly',\n",
       "        'Weekly', 'Weekly', 'Weekly', 'Weekly', 'Weekly', 'Weekly',\n",
       "        'Weekly'], dtype='<U6'),\n",
       " 'Marks': [37,\n",
       "  52,\n",
       "  84,\n",
       "  92,\n",
       "  38,\n",
       "  66,\n",
       "  33,\n",
       "  90,\n",
       "  35,\n",
       "  41,\n",
       "  50,\n",
       "  43,\n",
       "  45,\n",
       "  67,\n",
       "  60,\n",
       "  86,\n",
       "  69,\n",
       "  55,\n",
       "  68,\n",
       "  40,\n",
       "  61,\n",
       "  42,\n",
       "  98,\n",
       "  79,\n",
       "  64,\n",
       "  59,\n",
       "  82,\n",
       "  62,\n",
       "  96,\n",
       "  44,\n",
       "  85,\n",
       "  88,\n",
       "  63,\n",
       "  76,\n",
       "  48,\n",
       "  49,\n",
       "  94,\n",
       "  36,\n",
       "  57,\n",
       "  71]}"
      ]
     },
     "execution_count": 78,
     "metadata": {},
     "output_type": "execute_result"
    }
   ],
   "source": [
    "x"
   ]
  },
  {
   "cell_type": "code",
   "execution_count": 79,
   "id": "d53d0502-5889-4dcb-8bb1-1dfba254a93f",
   "metadata": {},
   "outputs": [],
   "source": [
    "import pandas as pd"
   ]
  },
  {
   "cell_type": "code",
   "execution_count": 80,
   "id": "3e3d5c28-41d6-4f80-8da9-e19bdeb563b7",
   "metadata": {},
   "outputs": [],
   "source": [
    "marks_data = pd.DataFrame(x)"
   ]
  },
  {
   "cell_type": "code",
   "execution_count": 81,
   "id": "e0847adf-fc15-4cb2-b8c3-e6e38da13bee",
   "metadata": {},
   "outputs": [],
   "source": [
    "model = ols('Marks ~ C(Lectures) + C(Tuition) + C(Lectures):C(Tuition)', data = marks_data).fit()"
   ]
  },
  {
   "cell_type": "code",
   "execution_count": 82,
   "id": "1e537fc3-2ae9-442a-9cc3-4405ed6ceff2",
   "metadata": {},
   "outputs": [
    {
     "data": {
      "text/html": [
       "<div>\n",
       "<style scoped>\n",
       "    .dataframe tbody tr th:only-of-type {\n",
       "        vertical-align: middle;\n",
       "    }\n",
       "\n",
       "    .dataframe tbody tr th {\n",
       "        vertical-align: top;\n",
       "    }\n",
       "\n",
       "    .dataframe thead th {\n",
       "        text-align: right;\n",
       "    }\n",
       "</style>\n",
       "<table border=\"1\" class=\"dataframe\">\n",
       "  <thead>\n",
       "    <tr style=\"text-align: right;\">\n",
       "      <th></th>\n",
       "      <th>df</th>\n",
       "      <th>sum_sq</th>\n",
       "      <th>mean_sq</th>\n",
       "      <th>F</th>\n",
       "      <th>PR(&gt;F)</th>\n",
       "    </tr>\n",
       "  </thead>\n",
       "  <tbody>\n",
       "    <tr>\n",
       "      <th>C(Lectures)</th>\n",
       "      <td>1.0</td>\n",
       "      <td>1030.225000</td>\n",
       "      <td>1030.225000</td>\n",
       "      <td>2.812568</td>\n",
       "      <td>0.101737</td>\n",
       "    </tr>\n",
       "    <tr>\n",
       "      <th>C(Tuition)</th>\n",
       "      <td>1.0</td>\n",
       "      <td>3.064902</td>\n",
       "      <td>3.064902</td>\n",
       "      <td>0.008367</td>\n",
       "      <td>0.927597</td>\n",
       "    </tr>\n",
       "    <tr>\n",
       "      <th>C(Lectures):C(Tuition)</th>\n",
       "      <td>1.0</td>\n",
       "      <td>856.765708</td>\n",
       "      <td>856.765708</td>\n",
       "      <td>2.339015</td>\n",
       "      <td>0.134452</td>\n",
       "    </tr>\n",
       "    <tr>\n",
       "      <th>Residual</th>\n",
       "      <td>38.0</td>\n",
       "      <td>13919.150000</td>\n",
       "      <td>366.293421</td>\n",
       "      <td>NaN</td>\n",
       "      <td>NaN</td>\n",
       "    </tr>\n",
       "  </tbody>\n",
       "</table>\n",
       "</div>"
      ],
      "text/plain": [
       "                          df        sum_sq      mean_sq         F    PR(>F)\n",
       "C(Lectures)              1.0   1030.225000  1030.225000  2.812568  0.101737\n",
       "C(Tuition)               1.0      3.064902     3.064902  0.008367  0.927597\n",
       "C(Lectures):C(Tuition)   1.0    856.765708   856.765708  2.339015  0.134452\n",
       "Residual                38.0  13919.150000   366.293421       NaN       NaN"
      ]
     },
     "execution_count": 82,
     "metadata": {},
     "output_type": "execute_result"
    }
   ],
   "source": [
    "sm.stats.anova_lm(model)"
   ]
  },
  {
   "cell_type": "code",
   "execution_count": 86,
   "id": "0c8be4c3-3436-4347-8d55-a595e3a858e5",
   "metadata": {},
   "outputs": [
    {
     "data": {
      "text/html": [
       "<table class=\"simpletable\">\n",
       "<caption>OLS Regression Results</caption>\n",
       "<tr>\n",
       "  <th>Dep. Variable:</th>          <td>Marks</td>      <th>  R-squared:         </th> <td>   0.069</td>\n",
       "</tr>\n",
       "<tr>\n",
       "  <th>Model:</th>                   <td>OLS</td>       <th>  Adj. R-squared:    </th> <td>   0.044</td>\n",
       "</tr>\n",
       "<tr>\n",
       "  <th>Method:</th>             <td>Least Squares</td>  <th>  F-statistic:       </th> <td>   2.813</td>\n",
       "</tr>\n",
       "<tr>\n",
       "  <th>Date:</th>             <td>Sun, 19 May 2024</td> <th>  Prob (F-statistic):</th>  <td> 0.102</td> \n",
       "</tr>\n",
       "<tr>\n",
       "  <th>Time:</th>                 <td>11:20:13</td>     <th>  Log-Likelihood:    </th> <td> -173.80</td>\n",
       "</tr>\n",
       "<tr>\n",
       "  <th>No. Observations:</th>      <td>    40</td>      <th>  AIC:               </th> <td>   351.6</td>\n",
       "</tr>\n",
       "<tr>\n",
       "  <th>Df Residuals:</th>          <td>    38</td>      <th>  BIC:               </th> <td>   355.0</td>\n",
       "</tr>\n",
       "<tr>\n",
       "  <th>Df Model:</th>              <td>     1</td>      <th>                     </th>     <td> </td>   \n",
       "</tr>\n",
       "<tr>\n",
       "  <th>Covariance Type:</th>      <td>nonrobust</td>    <th>                     </th>     <td> </td>   \n",
       "</tr>\n",
       "</table>\n",
       "<table class=\"simpletable\">\n",
       "<tr>\n",
       "                       <td></td>                         <th>coef</th>     <th>std err</th>      <th>t</th>      <th>P>|t|</th>  <th>[0.025</th>    <th>0.975]</th>  \n",
       "</tr>\n",
       "<tr>\n",
       "  <th>Intercept</th>                                  <td>   57.5500</td> <td>    4.280</td> <td>   13.448</td> <td> 0.000</td> <td>   48.886</td> <td>   66.214</td>\n",
       "</tr>\n",
       "<tr>\n",
       "  <th>C(Lectures)[T.Weekly]</th>                      <td>    3.3833</td> <td>    2.017</td> <td>    1.677</td> <td> 0.102</td> <td>   -0.701</td> <td>    7.467</td>\n",
       "</tr>\n",
       "<tr>\n",
       "  <th>C(Tuition)[T.Weekly]</th>                       <td>    3.3833</td> <td>    2.017</td> <td>    1.677</td> <td> 0.102</td> <td>   -0.701</td> <td>    7.467</td>\n",
       "</tr>\n",
       "<tr>\n",
       "  <th>C(Lectures)[T.Weekly]:C(Tuition)[T.Weekly]</th> <td>    3.3833</td> <td>    2.017</td> <td>    1.677</td> <td> 0.102</td> <td>   -0.701</td> <td>    7.467</td>\n",
       "</tr>\n",
       "</table>\n",
       "<table class=\"simpletable\">\n",
       "<tr>\n",
       "  <th>Omnibus:</th>       <td> 6.165</td> <th>  Durbin-Watson:     </th> <td>   2.407</td>\n",
       "</tr>\n",
       "<tr>\n",
       "  <th>Prob(Omnibus):</th> <td> 0.046</td> <th>  Jarque-Bera (JB):  </th> <td>   2.490</td>\n",
       "</tr>\n",
       "<tr>\n",
       "  <th>Skew:</th>          <td> 0.273</td> <th>  Prob(JB):          </th> <td>   0.288</td>\n",
       "</tr>\n",
       "<tr>\n",
       "  <th>Kurtosis:</th>      <td> 1.907</td> <th>  Cond. No.          </th> <td>3.00e+31</td>\n",
       "</tr>\n",
       "</table><br/><br/>Notes:<br/>[1] Standard Errors assume that the covariance matrix of the errors is correctly specified.<br/>[2] The smallest eigenvalue is 9.57e-62. This might indicate that there are<br/>strong multicollinearity problems or that the design matrix is singular."
      ],
      "text/latex": [
       "\\begin{center}\n",
       "\\begin{tabular}{lclc}\n",
       "\\toprule\n",
       "\\textbf{Dep. Variable:}                             &      Marks       & \\textbf{  R-squared:         } &     0.069   \\\\\n",
       "\\textbf{Model:}                                     &       OLS        & \\textbf{  Adj. R-squared:    } &     0.044   \\\\\n",
       "\\textbf{Method:}                                    &  Least Squares   & \\textbf{  F-statistic:       } &     2.813   \\\\\n",
       "\\textbf{Date:}                                      & Sun, 19 May 2024 & \\textbf{  Prob (F-statistic):} &    0.102    \\\\\n",
       "\\textbf{Time:}                                      &     11:20:13     & \\textbf{  Log-Likelihood:    } &   -173.80   \\\\\n",
       "\\textbf{No. Observations:}                          &          40      & \\textbf{  AIC:               } &     351.6   \\\\\n",
       "\\textbf{Df Residuals:}                              &          38      & \\textbf{  BIC:               } &     355.0   \\\\\n",
       "\\textbf{Df Model:}                                  &           1      & \\textbf{                     } &             \\\\\n",
       "\\textbf{Covariance Type:}                           &    nonrobust     & \\textbf{                     } &             \\\\\n",
       "\\bottomrule\n",
       "\\end{tabular}\n",
       "\\begin{tabular}{lcccccc}\n",
       "                                                    & \\textbf{coef} & \\textbf{std err} & \\textbf{t} & \\textbf{P$> |$t$|$} & \\textbf{[0.025} & \\textbf{0.975]}  \\\\\n",
       "\\midrule\n",
       "\\textbf{Intercept}                                  &      57.5500  &        4.280     &    13.448  &         0.000        &       48.886    &       66.214     \\\\\n",
       "\\textbf{C(Lectures)[T.Weekly]}                      &       3.3833  &        2.017     &     1.677  &         0.102        &       -0.701    &        7.467     \\\\\n",
       "\\textbf{C(Tuition)[T.Weekly]}                       &       3.3833  &        2.017     &     1.677  &         0.102        &       -0.701    &        7.467     \\\\\n",
       "\\textbf{C(Lectures)[T.Weekly]:C(Tuition)[T.Weekly]} &       3.3833  &        2.017     &     1.677  &         0.102        &       -0.701    &        7.467     \\\\\n",
       "\\bottomrule\n",
       "\\end{tabular}\n",
       "\\begin{tabular}{lclc}\n",
       "\\textbf{Omnibus:}       &  6.165 & \\textbf{  Durbin-Watson:     } &    2.407  \\\\\n",
       "\\textbf{Prob(Omnibus):} &  0.046 & \\textbf{  Jarque-Bera (JB):  } &    2.490  \\\\\n",
       "\\textbf{Skew:}          &  0.273 & \\textbf{  Prob(JB):          } &    0.288  \\\\\n",
       "\\textbf{Kurtosis:}      &  1.907 & \\textbf{  Cond. No.          } & 3.00e+31  \\\\\n",
       "\\bottomrule\n",
       "\\end{tabular}\n",
       "%\\caption{OLS Regression Results}\n",
       "\\end{center}\n",
       "\n",
       "Notes: \\newline\n",
       " [1] Standard Errors assume that the covariance matrix of the errors is correctly specified. \\newline\n",
       " [2] The smallest eigenvalue is 9.57e-62. This might indicate that there are \\newline\n",
       " strong multicollinearity problems or that the design matrix is singular."
      ],
      "text/plain": [
       "<class 'statsmodels.iolib.summary.Summary'>\n",
       "\"\"\"\n",
       "                            OLS Regression Results                            \n",
       "==============================================================================\n",
       "Dep. Variable:                  Marks   R-squared:                       0.069\n",
       "Model:                            OLS   Adj. R-squared:                  0.044\n",
       "Method:                 Least Squares   F-statistic:                     2.813\n",
       "Date:                Sun, 19 May 2024   Prob (F-statistic):              0.102\n",
       "Time:                        11:20:13   Log-Likelihood:                -173.80\n",
       "No. Observations:                  40   AIC:                             351.6\n",
       "Df Residuals:                      38   BIC:                             355.0\n",
       "Df Model:                           1                                         \n",
       "Covariance Type:            nonrobust                                         \n",
       "==============================================================================================================\n",
       "                                                 coef    std err          t      P>|t|      [0.025      0.975]\n",
       "--------------------------------------------------------------------------------------------------------------\n",
       "Intercept                                     57.5500      4.280     13.448      0.000      48.886      66.214\n",
       "C(Lectures)[T.Weekly]                          3.3833      2.017      1.677      0.102      -0.701       7.467\n",
       "C(Tuition)[T.Weekly]                           3.3833      2.017      1.677      0.102      -0.701       7.467\n",
       "C(Lectures)[T.Weekly]:C(Tuition)[T.Weekly]     3.3833      2.017      1.677      0.102      -0.701       7.467\n",
       "==============================================================================\n",
       "Omnibus:                        6.165   Durbin-Watson:                   2.407\n",
       "Prob(Omnibus):                  0.046   Jarque-Bera (JB):                2.490\n",
       "Skew:                           0.273   Prob(JB):                        0.288\n",
       "Kurtosis:                       1.907   Cond. No.                     3.00e+31\n",
       "==============================================================================\n",
       "\n",
       "Notes:\n",
       "[1] Standard Errors assume that the covariance matrix of the errors is correctly specified.\n",
       "[2] The smallest eigenvalue is 9.57e-62. This might indicate that there are\n",
       "strong multicollinearity problems or that the design matrix is singular.\n",
       "\"\"\""
      ]
     },
     "execution_count": 86,
     "metadata": {},
     "output_type": "execute_result"
    }
   ],
   "source": [
    "model.summary()"
   ]
  },
  {
   "cell_type": "code",
   "execution_count": 97,
   "id": "bffb9f34-1973-43a7-8694-63928fbd7386",
   "metadata": {},
   "outputs": [
    {
     "data": {
      "text/plain": [
       "array(['Daily', 'Daily', 'Daily', 'Daily', 'Daily', 'Daily', 'Daily',\n",
       "       'Daily', 'Daily', 'Daily', 'Daily', 'Daily', 'Daily', 'Daily',\n",
       "       'Daily', 'Daily', 'Daily', 'Daily', 'Daily', 'Daily', 'Weekly',\n",
       "       'Weekly', 'Weekly', 'Weekly', 'Weekly', 'Weekly', 'Weekly',\n",
       "       'Weekly', 'Weekly', 'Weekly', 'Weekly', 'Weekly', 'Weekly',\n",
       "       'Weekly', 'Weekly', 'Weekly', 'Weekly', 'Weekly', 'Weekly',\n",
       "       'Weekly'], dtype='<U6')"
      ]
     },
     "execution_count": 97,
     "metadata": {},
     "output_type": "execute_result"
    }
   ],
   "source": [
    "Lectures = np.repeat(['Daily', 'Weekly'], 20)\n",
    "Lectures"
   ]
  },
  {
   "cell_type": "code",
   "execution_count": 96,
   "id": "3611c51b-fdec-45e0-9844-a50ddc6db46b",
   "metadata": {},
   "outputs": [
    {
     "data": {
      "text/plain": [
       "array(['Daily', 'Daily', 'Daily', 'Daily', 'Daily', 'Daily', 'Daily',\n",
       "       'Daily', 'Daily', 'Daily', 'Daily', 'Daily', 'Daily', 'Daily',\n",
       "       'Daily', 'Daily', 'Daily', 'Daily', 'Daily', 'Daily', 'Weekly',\n",
       "       'Weekly', 'Weekly', 'Weekly', 'Weekly', 'Weekly', 'Weekly',\n",
       "       'Weekly', 'Weekly', 'Weekly', 'Weekly', 'Weekly', 'Weekly',\n",
       "       'Weekly', 'Weekly', 'Weekly', 'Weekly', 'Weekly', 'Weekly',\n",
       "       'Weekly'], dtype='<U6')"
      ]
     },
     "execution_count": 96,
     "metadata": {},
     "output_type": "execute_result"
    }
   ],
   "source": []
  },
  {
   "cell_type": "code",
   "execution_count": 98,
   "id": "4cac5b10-b04f-4018-9611-d8629e78a7a8",
   "metadata": {},
   "outputs": [
    {
     "data": {
      "text/plain": [
       "array(['Daily', 'Daily', 'Daily', 'Daily', 'Daily', 'Daily', 'Daily',\n",
       "       'Daily', 'Daily', 'Daily', 'Daily', 'Daily', 'Daily', 'Daily',\n",
       "       'Daily', 'Daily', 'Daily', 'Daily', 'Daily', 'Daily', 'Weekly',\n",
       "       'Weekly', 'Weekly', 'Weekly', 'Weekly', 'Weekly', 'Weekly',\n",
       "       'Weekly', 'Weekly', 'Weekly', 'Weekly', 'Weekly', 'Weekly',\n",
       "       'Weekly', 'Weekly', 'Weekly', 'Weekly', 'Weekly', 'Weekly',\n",
       "       'Weekly'], dtype='<U6')"
      ]
     },
     "execution_count": 98,
     "metadata": {},
     "output_type": "execute_result"
    }
   ],
   "source": [
    "x.get(\"Lectures\")"
   ]
  },
  {
   "cell_type": "code",
   "execution_count": 106,
   "id": "324237de-c352-4fe6-83c3-1c8a74100f85",
   "metadata": {},
   "outputs": [],
   "source": [
    "x['test'] = sample(range(33,100), 2)"
   ]
  },
  {
   "cell_type": "code",
   "execution_count": 107,
   "id": "9b97982e-d71c-480a-934f-f0d5499fa5ba",
   "metadata": {},
   "outputs": [
    {
     "data": {
      "text/plain": [
       "[95, 49]"
      ]
     },
     "execution_count": 107,
     "metadata": {},
     "output_type": "execute_result"
    }
   ],
   "source": [
    "x.get('test')"
   ]
  },
  {
   "cell_type": "raw",
   "id": "b92b1b56-b54b-4144-bdcd-880802a183f6",
   "metadata": {},
   "source": [
    "Z Test"
   ]
  },
  {
   "cell_type": "code",
   "execution_count": 108,
   "id": "d397b515-cb87-4783-ba4a-a56c4db6f094",
   "metadata": {},
   "outputs": [],
   "source": [
    "# Z Test for means\n",
    "# one sample Z test"
   ]
  },
  {
   "cell_type": "code",
   "execution_count": 109,
   "id": "ac5b8404-4ea5-4bc5-a4f5-a443d69d56db",
   "metadata": {},
   "outputs": [],
   "source": [
    "# Average weight of class X student is 55 KG\n",
    "# H0 => Average weight is same\n",
    "# H1 => Average weight is not same "
   ]
  },
  {
   "cell_type": "code",
   "execution_count": 110,
   "id": "bb674093-5e6e-437c-8707-a293a1143ee6",
   "metadata": {},
   "outputs": [],
   "source": [
    "from statsmodels.stats.weightstats import ztest"
   ]
  },
  {
   "cell_type": "code",
   "execution_count": 111,
   "id": "ebceec33-d83d-4535-943a-c3b9ef96c06f",
   "metadata": {},
   "outputs": [],
   "source": [
    "sample1 = sample(range(30,80), 50)\n",
    "sample2 = sample(range(40,100), 50)"
   ]
  },
  {
   "cell_type": "code",
   "execution_count": 112,
   "id": "a7ba3b28-dfd6-4385-8492-f20edf5881f2",
   "metadata": {},
   "outputs": [
    {
     "data": {
      "text/plain": [
       "(-0.24253562503633297, 0.8083651559145103)"
      ]
     },
     "execution_count": 112,
     "metadata": {},
     "output_type": "execute_result"
    }
   ],
   "source": [
    "ztest(sample1, value = 55)"
   ]
  },
  {
   "cell_type": "code",
   "execution_count": 113,
   "id": "2766f24f-aca4-4c60-93d9-acef2d4c5acd",
   "metadata": {},
   "outputs": [],
   "source": [
    "# as P_value is greater than 0.05, we have enough evidence to reject H0"
   ]
  },
  {
   "cell_type": "code",
   "execution_count": 117,
   "id": "a2407aa7-cc3f-4cc8-bb36-061237e00f6e",
   "metadata": {},
   "outputs": [],
   "source": [
    "# two sample Z test\n",
    "# H0 => The means difference is zero\n",
    "# H1 => The means difference is non zero"
   ]
  },
  {
   "cell_type": "code",
   "execution_count": 118,
   "id": "d3140ba1-84ac-4ef5-94df-1364ea04787f",
   "metadata": {},
   "outputs": [
    {
     "data": {
      "text/plain": [
       "(-4.833846261419315, 1.3392002452095839e-06)"
      ]
     },
     "execution_count": 118,
     "metadata": {},
     "output_type": "execute_result"
    }
   ],
   "source": [
    "ztest(sample1, sample2)"
   ]
  },
  {
   "cell_type": "code",
   "execution_count": 119,
   "id": "6e725c71-8a60-4031-9b88-f5f235c6727a",
   "metadata": {},
   "outputs": [],
   "source": [
    "# as p-value < 0.05, we have enough evidence to reject the H0"
   ]
  },
  {
   "cell_type": "code",
   "execution_count": 120,
   "id": "27ea6d0b-bb2e-4f98-903b-5e4742575fc3",
   "metadata": {},
   "outputs": [
    {
     "data": {
      "text/plain": [
       "(4.833846261419315, 1.3392002452095839e-06)"
      ]
     },
     "execution_count": 120,
     "metadata": {},
     "output_type": "execute_result"
    }
   ],
   "source": [
    "ztest(sample2, sample1)"
   ]
  },
  {
   "cell_type": "code",
   "execution_count": 154,
   "id": "a24cbf32-40db-44a6-91d5-f90891b3aa50",
   "metadata": {},
   "outputs": [],
   "source": [
    "data = pd.read_csv(\"purchase.csv\")"
   ]
  },
  {
   "cell_type": "code",
   "execution_count": 155,
   "id": "bd2fd7fd-a1c9-4522-9bd7-2019a76bae5b",
   "metadata": {},
   "outputs": [
    {
     "data": {
      "text/plain": [
       "(550068, 12)"
      ]
     },
     "execution_count": 155,
     "metadata": {},
     "output_type": "execute_result"
    }
   ],
   "source": [
    "data.shape"
   ]
  },
  {
   "cell_type": "code",
   "execution_count": 156,
   "id": "3b9b183f-a352-483a-8650-752e3b06d955",
   "metadata": {},
   "outputs": [
    {
     "data": {
      "text/plain": [
       "User_ID                            0\n",
       "Product_ID                         0\n",
       "Gender                             0\n",
       "Age                                0\n",
       "Occupation                         0\n",
       "City_Category                      0\n",
       "Stay_In_Current_City_Years         0\n",
       "Marital_Status                     0\n",
       "Product_Category_1                 0\n",
       "Product_Category_2            173638\n",
       "Product_Category_3            383247\n",
       "Purchase                           0\n",
       "dtype: int64"
      ]
     },
     "execution_count": 156,
     "metadata": {},
     "output_type": "execute_result"
    }
   ],
   "source": [
    "data.isnull().sum()"
   ]
  },
  {
   "cell_type": "code",
   "execution_count": 157,
   "id": "7425be4d-e022-43a9-a40b-f209ae33ce52",
   "metadata": {},
   "outputs": [
    {
     "data": {
      "text/plain": [
       "0"
      ]
     },
     "execution_count": 157,
     "metadata": {},
     "output_type": "execute_result"
    }
   ],
   "source": [
    "data.duplicated().sum()"
   ]
  },
  {
   "cell_type": "code",
   "execution_count": 158,
   "id": "f89fae65-ed03-4c6d-8779-b4b370cac2d0",
   "metadata": {},
   "outputs": [
    {
     "data": {
      "text/html": [
       "<div>\n",
       "<style scoped>\n",
       "    .dataframe tbody tr th:only-of-type {\n",
       "        vertical-align: middle;\n",
       "    }\n",
       "\n",
       "    .dataframe tbody tr th {\n",
       "        vertical-align: top;\n",
       "    }\n",
       "\n",
       "    .dataframe thead th {\n",
       "        text-align: right;\n",
       "    }\n",
       "</style>\n",
       "<table border=\"1\" class=\"dataframe\">\n",
       "  <thead>\n",
       "    <tr style=\"text-align: right;\">\n",
       "      <th></th>\n",
       "      <th>User_ID</th>\n",
       "      <th>Product_ID</th>\n",
       "      <th>Gender</th>\n",
       "      <th>Age</th>\n",
       "      <th>Occupation</th>\n",
       "      <th>City_Category</th>\n",
       "      <th>Stay_In_Current_City_Years</th>\n",
       "      <th>Marital_Status</th>\n",
       "      <th>Product_Category_1</th>\n",
       "      <th>Product_Category_2</th>\n",
       "      <th>Product_Category_3</th>\n",
       "      <th>Purchase</th>\n",
       "    </tr>\n",
       "  </thead>\n",
       "  <tbody>\n",
       "    <tr>\n",
       "      <th>0</th>\n",
       "      <td>1000001</td>\n",
       "      <td>P00069042</td>\n",
       "      <td>F</td>\n",
       "      <td>0-17</td>\n",
       "      <td>10</td>\n",
       "      <td>A</td>\n",
       "      <td>2</td>\n",
       "      <td>0</td>\n",
       "      <td>3</td>\n",
       "      <td>NaN</td>\n",
       "      <td>NaN</td>\n",
       "      <td>8370</td>\n",
       "    </tr>\n",
       "    <tr>\n",
       "      <th>1</th>\n",
       "      <td>1000001</td>\n",
       "      <td>P00248942</td>\n",
       "      <td>F</td>\n",
       "      <td>0-17</td>\n",
       "      <td>10</td>\n",
       "      <td>A</td>\n",
       "      <td>2</td>\n",
       "      <td>0</td>\n",
       "      <td>1</td>\n",
       "      <td>6.0</td>\n",
       "      <td>14.0</td>\n",
       "      <td>15200</td>\n",
       "    </tr>\n",
       "    <tr>\n",
       "      <th>2</th>\n",
       "      <td>1000001</td>\n",
       "      <td>P00087842</td>\n",
       "      <td>F</td>\n",
       "      <td>0-17</td>\n",
       "      <td>10</td>\n",
       "      <td>A</td>\n",
       "      <td>2</td>\n",
       "      <td>0</td>\n",
       "      <td>12</td>\n",
       "      <td>NaN</td>\n",
       "      <td>NaN</td>\n",
       "      <td>1422</td>\n",
       "    </tr>\n",
       "    <tr>\n",
       "      <th>3</th>\n",
       "      <td>1000001</td>\n",
       "      <td>P00085442</td>\n",
       "      <td>F</td>\n",
       "      <td>0-17</td>\n",
       "      <td>10</td>\n",
       "      <td>A</td>\n",
       "      <td>2</td>\n",
       "      <td>0</td>\n",
       "      <td>12</td>\n",
       "      <td>14.0</td>\n",
       "      <td>NaN</td>\n",
       "      <td>1057</td>\n",
       "    </tr>\n",
       "    <tr>\n",
       "      <th>4</th>\n",
       "      <td>1000002</td>\n",
       "      <td>P00285442</td>\n",
       "      <td>M</td>\n",
       "      <td>55+</td>\n",
       "      <td>16</td>\n",
       "      <td>C</td>\n",
       "      <td>4+</td>\n",
       "      <td>0</td>\n",
       "      <td>8</td>\n",
       "      <td>NaN</td>\n",
       "      <td>NaN</td>\n",
       "      <td>7969</td>\n",
       "    </tr>\n",
       "    <tr>\n",
       "      <th>5</th>\n",
       "      <td>1000003</td>\n",
       "      <td>P00193542</td>\n",
       "      <td>M</td>\n",
       "      <td>26-35</td>\n",
       "      <td>15</td>\n",
       "      <td>A</td>\n",
       "      <td>3</td>\n",
       "      <td>0</td>\n",
       "      <td>1</td>\n",
       "      <td>2.0</td>\n",
       "      <td>NaN</td>\n",
       "      <td>15227</td>\n",
       "    </tr>\n",
       "  </tbody>\n",
       "</table>\n",
       "</div>"
      ],
      "text/plain": [
       "   User_ID Product_ID Gender  ... Product_Category_2  Product_Category_3 Purchase\n",
       "0  1000001  P00069042      F  ...                NaN                 NaN     8370\n",
       "1  1000001  P00248942      F  ...                6.0                14.0    15200\n",
       "2  1000001  P00087842      F  ...                NaN                 NaN     1422\n",
       "3  1000001  P00085442      F  ...               14.0                 NaN     1057\n",
       "4  1000002  P00285442      M  ...                NaN                 NaN     7969\n",
       "5  1000003  P00193542      M  ...                2.0                 NaN    15227\n",
       "\n",
       "[6 rows x 12 columns]"
      ]
     },
     "execution_count": 158,
     "metadata": {},
     "output_type": "execute_result"
    }
   ],
   "source": [
    "data.head(6)"
   ]
  },
  {
   "cell_type": "code",
   "execution_count": 159,
   "id": "da9d9f23-90b6-42bb-9176-5bf4f653e945",
   "metadata": {},
   "outputs": [
    {
     "data": {
      "text/html": [
       "<div>\n",
       "<style scoped>\n",
       "    .dataframe tbody tr th:only-of-type {\n",
       "        vertical-align: middle;\n",
       "    }\n",
       "\n",
       "    .dataframe tbody tr th {\n",
       "        vertical-align: top;\n",
       "    }\n",
       "\n",
       "    .dataframe thead th {\n",
       "        text-align: right;\n",
       "    }\n",
       "</style>\n",
       "<table border=\"1\" class=\"dataframe\">\n",
       "  <thead>\n",
       "    <tr style=\"text-align: right;\">\n",
       "      <th></th>\n",
       "      <th>User_ID</th>\n",
       "      <th>Product_ID</th>\n",
       "      <th>Gender</th>\n",
       "      <th>Age</th>\n",
       "      <th>Occupation</th>\n",
       "      <th>City_Category</th>\n",
       "      <th>Stay_In_Current_City_Years</th>\n",
       "      <th>Marital_Status</th>\n",
       "      <th>Product_Category_1</th>\n",
       "      <th>Product_Category_2</th>\n",
       "      <th>Product_Category_3</th>\n",
       "      <th>Purchase</th>\n",
       "    </tr>\n",
       "  </thead>\n",
       "  <tbody>\n",
       "    <tr>\n",
       "      <th>550062</th>\n",
       "      <td>1006032</td>\n",
       "      <td>P00372445</td>\n",
       "      <td>M</td>\n",
       "      <td>46-50</td>\n",
       "      <td>7</td>\n",
       "      <td>A</td>\n",
       "      <td>3</td>\n",
       "      <td>0</td>\n",
       "      <td>20</td>\n",
       "      <td>NaN</td>\n",
       "      <td>NaN</td>\n",
       "      <td>473</td>\n",
       "    </tr>\n",
       "    <tr>\n",
       "      <th>550063</th>\n",
       "      <td>1006033</td>\n",
       "      <td>P00372445</td>\n",
       "      <td>M</td>\n",
       "      <td>51-55</td>\n",
       "      <td>13</td>\n",
       "      <td>B</td>\n",
       "      <td>1</td>\n",
       "      <td>1</td>\n",
       "      <td>20</td>\n",
       "      <td>NaN</td>\n",
       "      <td>NaN</td>\n",
       "      <td>368</td>\n",
       "    </tr>\n",
       "    <tr>\n",
       "      <th>550064</th>\n",
       "      <td>1006035</td>\n",
       "      <td>P00375436</td>\n",
       "      <td>F</td>\n",
       "      <td>26-35</td>\n",
       "      <td>1</td>\n",
       "      <td>C</td>\n",
       "      <td>3</td>\n",
       "      <td>0</td>\n",
       "      <td>20</td>\n",
       "      <td>NaN</td>\n",
       "      <td>NaN</td>\n",
       "      <td>371</td>\n",
       "    </tr>\n",
       "    <tr>\n",
       "      <th>550065</th>\n",
       "      <td>1006036</td>\n",
       "      <td>P00375436</td>\n",
       "      <td>F</td>\n",
       "      <td>26-35</td>\n",
       "      <td>15</td>\n",
       "      <td>B</td>\n",
       "      <td>4+</td>\n",
       "      <td>1</td>\n",
       "      <td>20</td>\n",
       "      <td>NaN</td>\n",
       "      <td>NaN</td>\n",
       "      <td>137</td>\n",
       "    </tr>\n",
       "    <tr>\n",
       "      <th>550066</th>\n",
       "      <td>1006038</td>\n",
       "      <td>P00375436</td>\n",
       "      <td>F</td>\n",
       "      <td>55+</td>\n",
       "      <td>1</td>\n",
       "      <td>C</td>\n",
       "      <td>2</td>\n",
       "      <td>0</td>\n",
       "      <td>20</td>\n",
       "      <td>NaN</td>\n",
       "      <td>NaN</td>\n",
       "      <td>365</td>\n",
       "    </tr>\n",
       "    <tr>\n",
       "      <th>550067</th>\n",
       "      <td>1006039</td>\n",
       "      <td>P00371644</td>\n",
       "      <td>F</td>\n",
       "      <td>46-50</td>\n",
       "      <td>0</td>\n",
       "      <td>B</td>\n",
       "      <td>4+</td>\n",
       "      <td>1</td>\n",
       "      <td>20</td>\n",
       "      <td>NaN</td>\n",
       "      <td>NaN</td>\n",
       "      <td>490</td>\n",
       "    </tr>\n",
       "  </tbody>\n",
       "</table>\n",
       "</div>"
      ],
      "text/plain": [
       "        User_ID Product_ID  ... Product_Category_3 Purchase\n",
       "550062  1006032  P00372445  ...                NaN      473\n",
       "550063  1006033  P00372445  ...                NaN      368\n",
       "550064  1006035  P00375436  ...                NaN      371\n",
       "550065  1006036  P00375436  ...                NaN      137\n",
       "550066  1006038  P00375436  ...                NaN      365\n",
       "550067  1006039  P00371644  ...                NaN      490\n",
       "\n",
       "[6 rows x 12 columns]"
      ]
     },
     "execution_count": 159,
     "metadata": {},
     "output_type": "execute_result"
    }
   ],
   "source": [
    "data.tail(6)"
   ]
  },
  {
   "cell_type": "code",
   "execution_count": 160,
   "id": "d5ee796d-dd99-448f-a0ed-7f35609309cb",
   "metadata": {},
   "outputs": [
    {
     "name": "stdout",
     "output_type": "stream",
     "text": [
      "<class 'pandas.core.frame.DataFrame'>\n",
      "RangeIndex: 550068 entries, 0 to 550067\n",
      "Data columns (total 12 columns):\n",
      " #   Column                      Non-Null Count   Dtype  \n",
      "---  ------                      --------------   -----  \n",
      " 0   User_ID                     550068 non-null  int64  \n",
      " 1   Product_ID                  550068 non-null  object \n",
      " 2   Gender                      550068 non-null  object \n",
      " 3   Age                         550068 non-null  object \n",
      " 4   Occupation                  550068 non-null  int64  \n",
      " 5   City_Category               550068 non-null  object \n",
      " 6   Stay_In_Current_City_Years  550068 non-null  object \n",
      " 7   Marital_Status              550068 non-null  int64  \n",
      " 8   Product_Category_1          550068 non-null  int64  \n",
      " 9   Product_Category_2          376430 non-null  float64\n",
      " 10  Product_Category_3          166821 non-null  float64\n",
      " 11  Purchase                    550068 non-null  int64  \n",
      "dtypes: float64(2), int64(5), object(5)\n",
      "memory usage: 50.4+ MB\n"
     ]
    }
   ],
   "source": [
    "data.info()"
   ]
  },
  {
   "cell_type": "code",
   "execution_count": 161,
   "id": "23e4a44a-2278-441c-87ac-bfb6eb3430fc",
   "metadata": {},
   "outputs": [],
   "source": [
    "# people more than 10000, 35% are women => sample analysis\n",
    "# Z test for proportions\n",
    "# H0 => The proportion is same\n",
    "# H1 => The proportion is not same"
   ]
  },
  {
   "cell_type": "code",
   "execution_count": 162,
   "id": "30ea35c6-1f90-4aab-a773-99743a088616",
   "metadata": {},
   "outputs": [
    {
     "data": {
      "text/html": [
       "<div>\n",
       "<style scoped>\n",
       "    .dataframe tbody tr th:only-of-type {\n",
       "        vertical-align: middle;\n",
       "    }\n",
       "\n",
       "    .dataframe tbody tr th {\n",
       "        vertical-align: top;\n",
       "    }\n",
       "\n",
       "    .dataframe thead th {\n",
       "        text-align: right;\n",
       "    }\n",
       "</style>\n",
       "<table border=\"1\" class=\"dataframe\">\n",
       "  <thead>\n",
       "    <tr style=\"text-align: right;\">\n",
       "      <th></th>\n",
       "      <th>User_ID</th>\n",
       "      <th>Product_ID</th>\n",
       "      <th>Gender</th>\n",
       "      <th>Age</th>\n",
       "      <th>Occupation</th>\n",
       "      <th>City_Category</th>\n",
       "      <th>Stay_In_Current_City_Years</th>\n",
       "      <th>Marital_Status</th>\n",
       "      <th>Product_Category_1</th>\n",
       "      <th>Product_Category_2</th>\n",
       "      <th>Product_Category_3</th>\n",
       "      <th>Purchase</th>\n",
       "    </tr>\n",
       "  </thead>\n",
       "  <tbody>\n",
       "    <tr>\n",
       "      <th>1</th>\n",
       "      <td>1000001</td>\n",
       "      <td>P00248942</td>\n",
       "      <td>F</td>\n",
       "      <td>0-17</td>\n",
       "      <td>10</td>\n",
       "      <td>A</td>\n",
       "      <td>2</td>\n",
       "      <td>0</td>\n",
       "      <td>1</td>\n",
       "      <td>6.0</td>\n",
       "      <td>14.0</td>\n",
       "      <td>15200</td>\n",
       "    </tr>\n",
       "    <tr>\n",
       "      <th>5</th>\n",
       "      <td>1000003</td>\n",
       "      <td>P00193542</td>\n",
       "      <td>M</td>\n",
       "      <td>26-35</td>\n",
       "      <td>15</td>\n",
       "      <td>A</td>\n",
       "      <td>3</td>\n",
       "      <td>0</td>\n",
       "      <td>1</td>\n",
       "      <td>2.0</td>\n",
       "      <td>NaN</td>\n",
       "      <td>15227</td>\n",
       "    </tr>\n",
       "    <tr>\n",
       "      <th>6</th>\n",
       "      <td>1000004</td>\n",
       "      <td>P00184942</td>\n",
       "      <td>M</td>\n",
       "      <td>46-50</td>\n",
       "      <td>7</td>\n",
       "      <td>B</td>\n",
       "      <td>2</td>\n",
       "      <td>1</td>\n",
       "      <td>1</td>\n",
       "      <td>8.0</td>\n",
       "      <td>17.0</td>\n",
       "      <td>19215</td>\n",
       "    </tr>\n",
       "    <tr>\n",
       "      <th>7</th>\n",
       "      <td>1000004</td>\n",
       "      <td>P00346142</td>\n",
       "      <td>M</td>\n",
       "      <td>46-50</td>\n",
       "      <td>7</td>\n",
       "      <td>B</td>\n",
       "      <td>2</td>\n",
       "      <td>1</td>\n",
       "      <td>1</td>\n",
       "      <td>15.0</td>\n",
       "      <td>NaN</td>\n",
       "      <td>15854</td>\n",
       "    </tr>\n",
       "    <tr>\n",
       "      <th>8</th>\n",
       "      <td>1000004</td>\n",
       "      <td>P0097242</td>\n",
       "      <td>M</td>\n",
       "      <td>46-50</td>\n",
       "      <td>7</td>\n",
       "      <td>B</td>\n",
       "      <td>2</td>\n",
       "      <td>1</td>\n",
       "      <td>1</td>\n",
       "      <td>16.0</td>\n",
       "      <td>NaN</td>\n",
       "      <td>15686</td>\n",
       "    </tr>\n",
       "    <tr>\n",
       "      <th>...</th>\n",
       "      <td>...</td>\n",
       "      <td>...</td>\n",
       "      <td>...</td>\n",
       "      <td>...</td>\n",
       "      <td>...</td>\n",
       "      <td>...</td>\n",
       "      <td>...</td>\n",
       "      <td>...</td>\n",
       "      <td>...</td>\n",
       "      <td>...</td>\n",
       "      <td>...</td>\n",
       "      <td>...</td>\n",
       "    </tr>\n",
       "    <tr>\n",
       "      <th>545892</th>\n",
       "      <td>1006037</td>\n",
       "      <td>P00148642</td>\n",
       "      <td>F</td>\n",
       "      <td>46-50</td>\n",
       "      <td>1</td>\n",
       "      <td>C</td>\n",
       "      <td>4+</td>\n",
       "      <td>0</td>\n",
       "      <td>6</td>\n",
       "      <td>10.0</td>\n",
       "      <td>13.0</td>\n",
       "      <td>11952</td>\n",
       "    </tr>\n",
       "    <tr>\n",
       "      <th>545896</th>\n",
       "      <td>1006037</td>\n",
       "      <td>P00183142</td>\n",
       "      <td>F</td>\n",
       "      <td>46-50</td>\n",
       "      <td>1</td>\n",
       "      <td>C</td>\n",
       "      <td>4+</td>\n",
       "      <td>0</td>\n",
       "      <td>15</td>\n",
       "      <td>NaN</td>\n",
       "      <td>NaN</td>\n",
       "      <td>13054</td>\n",
       "    </tr>\n",
       "    <tr>\n",
       "      <th>545904</th>\n",
       "      <td>1006040</td>\n",
       "      <td>P00081142</td>\n",
       "      <td>M</td>\n",
       "      <td>26-35</td>\n",
       "      <td>6</td>\n",
       "      <td>B</td>\n",
       "      <td>2</td>\n",
       "      <td>0</td>\n",
       "      <td>6</td>\n",
       "      <td>8.0</td>\n",
       "      <td>14.0</td>\n",
       "      <td>16493</td>\n",
       "    </tr>\n",
       "    <tr>\n",
       "      <th>545908</th>\n",
       "      <td>1006040</td>\n",
       "      <td>P00127642</td>\n",
       "      <td>M</td>\n",
       "      <td>26-35</td>\n",
       "      <td>6</td>\n",
       "      <td>B</td>\n",
       "      <td>2</td>\n",
       "      <td>0</td>\n",
       "      <td>1</td>\n",
       "      <td>2.0</td>\n",
       "      <td>15.0</td>\n",
       "      <td>15694</td>\n",
       "    </tr>\n",
       "    <tr>\n",
       "      <th>545914</th>\n",
       "      <td>1006040</td>\n",
       "      <td>P00217442</td>\n",
       "      <td>M</td>\n",
       "      <td>26-35</td>\n",
       "      <td>6</td>\n",
       "      <td>B</td>\n",
       "      <td>2</td>\n",
       "      <td>0</td>\n",
       "      <td>1</td>\n",
       "      <td>2.0</td>\n",
       "      <td>11.0</td>\n",
       "      <td>11640</td>\n",
       "    </tr>\n",
       "  </tbody>\n",
       "</table>\n",
       "<p>189450 rows × 12 columns</p>\n",
       "</div>"
      ],
      "text/plain": [
       "        User_ID Product_ID  ... Product_Category_3 Purchase\n",
       "1       1000001  P00248942  ...               14.0    15200\n",
       "5       1000003  P00193542  ...                NaN    15227\n",
       "6       1000004  P00184942  ...               17.0    19215\n",
       "7       1000004  P00346142  ...                NaN    15854\n",
       "8       1000004   P0097242  ...                NaN    15686\n",
       "...         ...        ...  ...                ...      ...\n",
       "545892  1006037  P00148642  ...               13.0    11952\n",
       "545896  1006037  P00183142  ...                NaN    13054\n",
       "545904  1006040  P00081142  ...               14.0    16493\n",
       "545908  1006040  P00127642  ...               15.0    15694\n",
       "545914  1006040  P00217442  ...               11.0    11640\n",
       "\n",
       "[189450 rows x 12 columns]"
      ]
     },
     "execution_count": 162,
     "metadata": {},
     "output_type": "execute_result"
    }
   ],
   "source": [
    "data_new = data[(data['Purchase'] > 10000)]\n",
    "data_new"
   ]
  },
  {
   "cell_type": "code",
   "execution_count": 163,
   "id": "817ff135-3221-4c95-a8c9-a9a1b1d1c5e0",
   "metadata": {},
   "outputs": [
    {
     "name": "stdout",
     "output_type": "stream",
     "text": [
      "189450\n"
     ]
    }
   ],
   "source": [
    "nobs_test = len(data_new)\n",
    "print(nobs_test)"
   ]
  },
  {
   "cell_type": "code",
   "execution_count": 164,
   "id": "aed7be1c-2fa6-41d8-8585-e686918a4349",
   "metadata": {},
   "outputs": [
    {
     "name": "stdout",
     "output_type": "stream",
     "text": [
      "38941\n"
     ]
    }
   ],
   "source": [
    "count_test = len(data_new[data_new[\"Gender\"] == 'F'])\n",
    "print(count_test)"
   ]
  },
  {
   "cell_type": "code",
   "execution_count": 165,
   "id": "45aaaca1-b7c1-4df9-8058-82cb3df340b5",
   "metadata": {},
   "outputs": [],
   "source": [
    "from statsmodels.stats.proportion import proportions_ztest"
   ]
  },
  {
   "cell_type": "code",
   "execution_count": 166,
   "id": "3a07da5a-2233-4909-9664-33fc57c81dd8",
   "metadata": {},
   "outputs": [
    {
     "data": {
      "text/plain": [
       "(-155.5900345296748, 0.0)"
      ]
     },
     "execution_count": 166,
     "metadata": {},
     "output_type": "execute_result"
    }
   ],
   "source": [
    "proportions_ztest(count = count_test, nobs = nobs_test, value = 0.35)"
   ]
  },
  {
   "cell_type": "code",
   "execution_count": 167,
   "id": "bd06f915-90b3-4daa-bbc7-69a5090cbde7",
   "metadata": {},
   "outputs": [],
   "source": [
    "# As p < 0.05, we have enough evidence to reject the H0"
   ]
  },
  {
   "cell_type": "code",
   "execution_count": 168,
   "id": "0cdaec15-8a82-4332-a6b1-0b815978afa3",
   "metadata": {},
   "outputs": [
    {
     "data": {
      "text/html": [
       "<div>\n",
       "<style scoped>\n",
       "    .dataframe tbody tr th:only-of-type {\n",
       "        vertical-align: middle;\n",
       "    }\n",
       "\n",
       "    .dataframe tbody tr th {\n",
       "        vertical-align: top;\n",
       "    }\n",
       "\n",
       "    .dataframe thead th {\n",
       "        text-align: right;\n",
       "    }\n",
       "</style>\n",
       "<table border=\"1\" class=\"dataframe\">\n",
       "  <thead>\n",
       "    <tr style=\"text-align: right;\">\n",
       "      <th></th>\n",
       "      <th>User_ID</th>\n",
       "      <th>Product_ID</th>\n",
       "      <th>Gender</th>\n",
       "      <th>Age</th>\n",
       "      <th>Occupation</th>\n",
       "      <th>City_Category</th>\n",
       "      <th>Stay_In_Current_City_Years</th>\n",
       "      <th>Marital_Status</th>\n",
       "      <th>Product_Category_1</th>\n",
       "      <th>Product_Category_2</th>\n",
       "      <th>Product_Category_3</th>\n",
       "      <th>Purchase</th>\n",
       "    </tr>\n",
       "  </thead>\n",
       "  <tbody>\n",
       "    <tr>\n",
       "      <th>1</th>\n",
       "      <td>1000001</td>\n",
       "      <td>P00248942</td>\n",
       "      <td>F</td>\n",
       "      <td>0-17</td>\n",
       "      <td>10</td>\n",
       "      <td>A</td>\n",
       "      <td>2</td>\n",
       "      <td>0</td>\n",
       "      <td>1</td>\n",
       "      <td>6.0</td>\n",
       "      <td>14.0</td>\n",
       "      <td>15200</td>\n",
       "    </tr>\n",
       "    <tr>\n",
       "      <th>16</th>\n",
       "      <td>1000006</td>\n",
       "      <td>P0096642</td>\n",
       "      <td>F</td>\n",
       "      <td>51-55</td>\n",
       "      <td>9</td>\n",
       "      <td>A</td>\n",
       "      <td>1</td>\n",
       "      <td>0</td>\n",
       "      <td>2</td>\n",
       "      <td>3.0</td>\n",
       "      <td>4.0</td>\n",
       "      <td>13055</td>\n",
       "    </tr>\n",
       "    <tr>\n",
       "      <th>29</th>\n",
       "      <td>1000010</td>\n",
       "      <td>P00085942</td>\n",
       "      <td>F</td>\n",
       "      <td>36-45</td>\n",
       "      <td>1</td>\n",
       "      <td>B</td>\n",
       "      <td>4+</td>\n",
       "      <td>1</td>\n",
       "      <td>2</td>\n",
       "      <td>4.0</td>\n",
       "      <td>8.0</td>\n",
       "      <td>16352</td>\n",
       "    </tr>\n",
       "    <tr>\n",
       "      <th>33</th>\n",
       "      <td>1000010</td>\n",
       "      <td>P00058342</td>\n",
       "      <td>F</td>\n",
       "      <td>36-45</td>\n",
       "      <td>1</td>\n",
       "      <td>B</td>\n",
       "      <td>4+</td>\n",
       "      <td>1</td>\n",
       "      <td>3</td>\n",
       "      <td>4.0</td>\n",
       "      <td>NaN</td>\n",
       "      <td>10946</td>\n",
       "    </tr>\n",
       "    <tr>\n",
       "      <th>36</th>\n",
       "      <td>1000010</td>\n",
       "      <td>P00182642</td>\n",
       "      <td>F</td>\n",
       "      <td>36-45</td>\n",
       "      <td>1</td>\n",
       "      <td>B</td>\n",
       "      <td>4+</td>\n",
       "      <td>1</td>\n",
       "      <td>2</td>\n",
       "      <td>4.0</td>\n",
       "      <td>9.0</td>\n",
       "      <td>12909</td>\n",
       "    </tr>\n",
       "    <tr>\n",
       "      <th>...</th>\n",
       "      <td>...</td>\n",
       "      <td>...</td>\n",
       "      <td>...</td>\n",
       "      <td>...</td>\n",
       "      <td>...</td>\n",
       "      <td>...</td>\n",
       "      <td>...</td>\n",
       "      <td>...</td>\n",
       "      <td>...</td>\n",
       "      <td>...</td>\n",
       "      <td>...</td>\n",
       "      <td>...</td>\n",
       "    </tr>\n",
       "    <tr>\n",
       "      <th>545882</th>\n",
       "      <td>1006036</td>\n",
       "      <td>P00270542</td>\n",
       "      <td>F</td>\n",
       "      <td>26-35</td>\n",
       "      <td>15</td>\n",
       "      <td>B</td>\n",
       "      <td>4+</td>\n",
       "      <td>1</td>\n",
       "      <td>1</td>\n",
       "      <td>6.0</td>\n",
       "      <td>8.0</td>\n",
       "      <td>15653</td>\n",
       "    </tr>\n",
       "    <tr>\n",
       "      <th>545884</th>\n",
       "      <td>1006036</td>\n",
       "      <td>P00076342</td>\n",
       "      <td>F</td>\n",
       "      <td>26-35</td>\n",
       "      <td>15</td>\n",
       "      <td>B</td>\n",
       "      <td>4+</td>\n",
       "      <td>1</td>\n",
       "      <td>2</td>\n",
       "      <td>4.0</td>\n",
       "      <td>NaN</td>\n",
       "      <td>10140</td>\n",
       "    </tr>\n",
       "    <tr>\n",
       "      <th>545887</th>\n",
       "      <td>1006036</td>\n",
       "      <td>P00127742</td>\n",
       "      <td>F</td>\n",
       "      <td>26-35</td>\n",
       "      <td>15</td>\n",
       "      <td>B</td>\n",
       "      <td>4+</td>\n",
       "      <td>1</td>\n",
       "      <td>1</td>\n",
       "      <td>2.0</td>\n",
       "      <td>15.0</td>\n",
       "      <td>11398</td>\n",
       "    </tr>\n",
       "    <tr>\n",
       "      <th>545892</th>\n",
       "      <td>1006037</td>\n",
       "      <td>P00148642</td>\n",
       "      <td>F</td>\n",
       "      <td>46-50</td>\n",
       "      <td>1</td>\n",
       "      <td>C</td>\n",
       "      <td>4+</td>\n",
       "      <td>0</td>\n",
       "      <td>6</td>\n",
       "      <td>10.0</td>\n",
       "      <td>13.0</td>\n",
       "      <td>11952</td>\n",
       "    </tr>\n",
       "    <tr>\n",
       "      <th>545896</th>\n",
       "      <td>1006037</td>\n",
       "      <td>P00183142</td>\n",
       "      <td>F</td>\n",
       "      <td>46-50</td>\n",
       "      <td>1</td>\n",
       "      <td>C</td>\n",
       "      <td>4+</td>\n",
       "      <td>0</td>\n",
       "      <td>15</td>\n",
       "      <td>NaN</td>\n",
       "      <td>NaN</td>\n",
       "      <td>13054</td>\n",
       "    </tr>\n",
       "  </tbody>\n",
       "</table>\n",
       "<p>38941 rows × 12 columns</p>\n",
       "</div>"
      ],
      "text/plain": [
       "        User_ID Product_ID  ... Product_Category_3 Purchase\n",
       "1       1000001  P00248942  ...               14.0    15200\n",
       "16      1000006   P0096642  ...                4.0    13055\n",
       "29      1000010  P00085942  ...                8.0    16352\n",
       "33      1000010  P00058342  ...                NaN    10946\n",
       "36      1000010  P00182642  ...                9.0    12909\n",
       "...         ...        ...  ...                ...      ...\n",
       "545882  1006036  P00270542  ...                8.0    15653\n",
       "545884  1006036  P00076342  ...                NaN    10140\n",
       "545887  1006036  P00127742  ...               15.0    11398\n",
       "545892  1006037  P00148642  ...               13.0    11952\n",
       "545896  1006037  P00183142  ...                NaN    13054\n",
       "\n",
       "[38941 rows x 12 columns]"
      ]
     },
     "execution_count": 168,
     "metadata": {},
     "output_type": "execute_result"
    }
   ],
   "source": [
    "data2 = data[(data['Purchase'] > 10000) & (data['Gender'] == 'F')]\n",
    "data2"
   ]
  },
  {
   "cell_type": "code",
   "execution_count": 169,
   "id": "b963915f-4806-4cb8-854e-273af3e66354",
   "metadata": {},
   "outputs": [
    {
     "name": "stdout",
     "output_type": "stream",
     "text": [
      "38941\n",
      "38941\n"
     ]
    },
    {
     "name": "stderr",
     "output_type": "stream",
     "text": [
      "/opt/anaconda3/lib/python3.11/site-packages/statsmodels/stats/weightstats.py:792: RuntimeWarning: divide by zero encountered in scalar divide\n",
      "  zstat = value / std\n"
     ]
    },
    {
     "data": {
      "text/plain": [
       "(inf, 0.0)"
      ]
     },
     "execution_count": 169,
     "metadata": {},
     "output_type": "execute_result"
    }
   ],
   "source": [
    "nobs_test = len(data2)\n",
    "print(nobs_test)\n",
    "count_test = len(data2[data2[\"Gender\"] == 'F'])\n",
    "print(count_test)\n",
    "\n",
    "proportions_ztest(count = count_test, nobs = nobs_test, value = 0.35)"
   ]
  },
  {
   "cell_type": "code",
   "execution_count": null,
   "id": "29b8f489-8ea5-4cd5-9250-886afa9f0f0a",
   "metadata": {},
   "outputs": [],
   "source": []
  }
 ],
 "metadata": {
  "kernelspec": {
   "display_name": "Python 3 (ipykernel)",
   "language": "python",
   "name": "python3"
  },
  "language_info": {
   "codemirror_mode": {
    "name": "ipython",
    "version": 3
   },
   "file_extension": ".py",
   "mimetype": "text/x-python",
   "name": "python",
   "nbconvert_exporter": "python",
   "pygments_lexer": "ipython3",
   "version": "3.11.7"
  }
 },
 "nbformat": 4,
 "nbformat_minor": 5
}
